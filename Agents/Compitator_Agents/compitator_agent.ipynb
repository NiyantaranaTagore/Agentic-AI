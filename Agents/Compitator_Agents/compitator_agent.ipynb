{
 "cells": [
  {
   "cell_type": "markdown",
   "id": "52465e00",
   "metadata": {},
   "source": [
    "# AI Competitor Intelligence Agent Tutorial\n",
    "This notebook demonstrates how to build an AI-powered competitor analysis system.\n",
    "\n",
    "## What we'll learn:\n",
    "1. Setting up API connections (Exa, Firecrawl, OpenAI)\n",
    "2. Finding competitor URLs automatically\n",
    "3. Extracting competitor data from websites\n",
    "4. Generating structured comparison reports\n",
    "5. Creating actionable business insights"
   ]
  },
  {
   "cell_type": "code",
   "execution_count": 7,
   "id": "43cfe73c",
   "metadata": {},
   "outputs": [
    {
     "name": "stdout",
     "output_type": "stream",
     "text": [
      "Requirement already satisfied: exa-py==1.7.1 in /Users/niyantarana/miniconda3/envs/bia_genai/lib/python3.11/site-packages (1.7.1)\n",
      "Requirement already satisfied: firecrawl-py==1.9.0 in /Users/niyantarana/miniconda3/envs/bia_genai/lib/python3.11/site-packages (1.9.0)\n",
      "Requirement already satisfied: duckduckgo-search==7.2.1 in /Users/niyantarana/miniconda3/envs/bia_genai/lib/python3.11/site-packages (7.2.1)\n",
      "Requirement already satisfied: phidata==2.7.3 in /Users/niyantarana/miniconda3/envs/bia_genai/lib/python3.11/site-packages (2.7.3)\n",
      "Requirement already satisfied: streamlit==1.41.1 in /Users/niyantarana/miniconda3/envs/bia_genai/lib/python3.11/site-packages (1.41.1)\n",
      "Requirement already satisfied: requests in /Users/niyantarana/miniconda3/envs/bia_genai/lib/python3.11/site-packages (from exa-py==1.7.1) (2.32.3)\n",
      "Requirement already satisfied: typing-extensions in /Users/niyantarana/miniconda3/envs/bia_genai/lib/python3.11/site-packages (from exa-py==1.7.1) (4.13.2)\n",
      "Requirement already satisfied: openai>=1.10.0 in /Users/niyantarana/miniconda3/envs/bia_genai/lib/python3.11/site-packages (from exa-py==1.7.1) (1.82.1)\n",
      "Requirement already satisfied: python-dotenv in /Users/niyantarana/miniconda3/envs/bia_genai/lib/python3.11/site-packages (from firecrawl-py==1.9.0) (1.1.0)\n",
      "Requirement already satisfied: websockets in /Users/niyantarana/miniconda3/envs/bia_genai/lib/python3.11/site-packages (from firecrawl-py==1.9.0) (15.0.1)\n",
      "Requirement already satisfied: nest-asyncio in /Users/niyantarana/miniconda3/envs/bia_genai/lib/python3.11/site-packages (from firecrawl-py==1.9.0) (1.6.0)\n",
      "Requirement already satisfied: pydantic>=2.10.3 in /Users/niyantarana/miniconda3/envs/bia_genai/lib/python3.11/site-packages (from firecrawl-py==1.9.0) (2.11.4)\n",
      "Requirement already satisfied: click>=8.1.7 in /Users/niyantarana/miniconda3/envs/bia_genai/lib/python3.11/site-packages (from duckduckgo-search==7.2.1) (8.2.0)\n",
      "Requirement already satisfied: primp>=0.10.0 in /Users/niyantarana/miniconda3/envs/bia_genai/lib/python3.11/site-packages (from duckduckgo-search==7.2.1) (0.15.0)\n",
      "Requirement already satisfied: lxml>=5.3.0 in /Users/niyantarana/miniconda3/envs/bia_genai/lib/python3.11/site-packages (from duckduckgo-search==7.2.1) (5.4.0)\n",
      "Requirement already satisfied: gitpython in /Users/niyantarana/miniconda3/envs/bia_genai/lib/python3.11/site-packages (from phidata==2.7.3) (3.1.44)\n",
      "Requirement already satisfied: httpx in /Users/niyantarana/miniconda3/envs/bia_genai/lib/python3.11/site-packages (from phidata==2.7.3) (0.28.1)\n",
      "Requirement already satisfied: pydantic-settings in /Users/niyantarana/miniconda3/envs/bia_genai/lib/python3.11/site-packages (from phidata==2.7.3) (2.9.1)\n",
      "Requirement already satisfied: pyyaml in /Users/niyantarana/miniconda3/envs/bia_genai/lib/python3.11/site-packages (from phidata==2.7.3) (6.0.2)\n",
      "Requirement already satisfied: rich in /Users/niyantarana/miniconda3/envs/bia_genai/lib/python3.11/site-packages (from phidata==2.7.3) (13.9.4)\n",
      "Requirement already satisfied: tomli in /Users/niyantarana/miniconda3/envs/bia_genai/lib/python3.11/site-packages (from phidata==2.7.3) (2.2.1)\n",
      "Requirement already satisfied: typer in /Users/niyantarana/miniconda3/envs/bia_genai/lib/python3.11/site-packages (from phidata==2.7.3) (0.16.0)\n",
      "Requirement already satisfied: altair<6,>=4.0 in /Users/niyantarana/miniconda3/envs/bia_genai/lib/python3.11/site-packages (from streamlit==1.41.1) (5.5.0)\n",
      "Requirement already satisfied: blinker<2,>=1.0.0 in /Users/niyantarana/miniconda3/envs/bia_genai/lib/python3.11/site-packages (from streamlit==1.41.1) (1.9.0)\n",
      "Requirement already satisfied: cachetools<6,>=4.0 in /Users/niyantarana/miniconda3/envs/bia_genai/lib/python3.11/site-packages (from streamlit==1.41.1) (5.5.2)\n",
      "Requirement already satisfied: numpy<3,>=1.23 in /Users/niyantarana/miniconda3/envs/bia_genai/lib/python3.11/site-packages (from streamlit==1.41.1) (2.2.6)\n",
      "Requirement already satisfied: packaging<25,>=20 in /Users/niyantarana/miniconda3/envs/bia_genai/lib/python3.11/site-packages (from streamlit==1.41.1) (24.2)\n",
      "Requirement already satisfied: pandas<3,>=1.4.0 in /Users/niyantarana/miniconda3/envs/bia_genai/lib/python3.11/site-packages (from streamlit==1.41.1) (2.2.3)\n",
      "Requirement already satisfied: pillow<12,>=7.1.0 in /Users/niyantarana/miniconda3/envs/bia_genai/lib/python3.11/site-packages (from streamlit==1.41.1) (11.2.1)\n",
      "Requirement already satisfied: protobuf<6,>=3.20 in /Users/niyantarana/miniconda3/envs/bia_genai/lib/python3.11/site-packages (from streamlit==1.41.1) (5.29.5)\n",
      "Requirement already satisfied: pyarrow>=7.0 in /Users/niyantarana/miniconda3/envs/bia_genai/lib/python3.11/site-packages (from streamlit==1.41.1) (20.0.0)\n",
      "Requirement already satisfied: tenacity<10,>=8.1.0 in /Users/niyantarana/miniconda3/envs/bia_genai/lib/python3.11/site-packages (from streamlit==1.41.1) (9.1.2)\n",
      "Requirement already satisfied: toml<2,>=0.10.1 in /Users/niyantarana/miniconda3/envs/bia_genai/lib/python3.11/site-packages (from streamlit==1.41.1) (0.10.2)\n",
      "Requirement already satisfied: pydeck<1,>=0.8.0b4 in /Users/niyantarana/miniconda3/envs/bia_genai/lib/python3.11/site-packages (from streamlit==1.41.1) (0.9.1)\n",
      "Requirement already satisfied: tornado<7,>=6.0.3 in /Users/niyantarana/miniconda3/envs/bia_genai/lib/python3.11/site-packages (from streamlit==1.41.1) (6.5.1)\n",
      "Requirement already satisfied: jinja2 in /Users/niyantarana/miniconda3/envs/bia_genai/lib/python3.11/site-packages (from altair<6,>=4.0->streamlit==1.41.1) (3.1.6)\n",
      "Requirement already satisfied: jsonschema>=3.0 in /Users/niyantarana/miniconda3/envs/bia_genai/lib/python3.11/site-packages (from altair<6,>=4.0->streamlit==1.41.1) (4.24.0)\n",
      "Requirement already satisfied: narwhals>=1.14.2 in /Users/niyantarana/miniconda3/envs/bia_genai/lib/python3.11/site-packages (from altair<6,>=4.0->streamlit==1.41.1) (1.42.1)\n",
      "Requirement already satisfied: gitdb<5,>=4.0.1 in /Users/niyantarana/miniconda3/envs/bia_genai/lib/python3.11/site-packages (from gitpython->phidata==2.7.3) (4.0.12)\n",
      "Requirement already satisfied: smmap<6,>=3.0.1 in /Users/niyantarana/miniconda3/envs/bia_genai/lib/python3.11/site-packages (from gitdb<5,>=4.0.1->gitpython->phidata==2.7.3) (5.0.2)\n",
      "Requirement already satisfied: python-dateutil>=2.8.2 in /Users/niyantarana/miniconda3/envs/bia_genai/lib/python3.11/site-packages (from pandas<3,>=1.4.0->streamlit==1.41.1) (2.9.0.post0)\n",
      "Requirement already satisfied: pytz>=2020.1 in /Users/niyantarana/miniconda3/envs/bia_genai/lib/python3.11/site-packages (from pandas<3,>=1.4.0->streamlit==1.41.1) (2025.2)\n",
      "Requirement already satisfied: tzdata>=2022.7 in /Users/niyantarana/miniconda3/envs/bia_genai/lib/python3.11/site-packages (from pandas<3,>=1.4.0->streamlit==1.41.1) (2025.2)\n",
      "Requirement already satisfied: charset-normalizer<4,>=2 in /Users/niyantarana/miniconda3/envs/bia_genai/lib/python3.11/site-packages (from requests->exa-py==1.7.1) (3.4.2)\n",
      "Requirement already satisfied: idna<4,>=2.5 in /Users/niyantarana/miniconda3/envs/bia_genai/lib/python3.11/site-packages (from requests->exa-py==1.7.1) (3.10)\n",
      "Requirement already satisfied: urllib3<3,>=1.21.1 in /Users/niyantarana/miniconda3/envs/bia_genai/lib/python3.11/site-packages (from requests->exa-py==1.7.1) (2.4.0)\n",
      "Requirement already satisfied: certifi>=2017.4.17 in /Users/niyantarana/miniconda3/envs/bia_genai/lib/python3.11/site-packages (from requests->exa-py==1.7.1) (2025.4.26)\n",
      "Requirement already satisfied: markdown-it-py>=2.2.0 in /Users/niyantarana/miniconda3/envs/bia_genai/lib/python3.11/site-packages (from rich->phidata==2.7.3) (3.0.0)\n",
      "Requirement already satisfied: pygments<3.0.0,>=2.13.0 in /Users/niyantarana/miniconda3/envs/bia_genai/lib/python3.11/site-packages (from rich->phidata==2.7.3) (2.19.1)\n",
      "Requirement already satisfied: MarkupSafe>=2.0 in /Users/niyantarana/miniconda3/envs/bia_genai/lib/python3.11/site-packages (from jinja2->altair<6,>=4.0->streamlit==1.41.1) (3.0.2)\n",
      "Requirement already satisfied: attrs>=22.2.0 in /Users/niyantarana/miniconda3/envs/bia_genai/lib/python3.11/site-packages (from jsonschema>=3.0->altair<6,>=4.0->streamlit==1.41.1) (25.3.0)\n",
      "Requirement already satisfied: jsonschema-specifications>=2023.03.6 in /Users/niyantarana/miniconda3/envs/bia_genai/lib/python3.11/site-packages (from jsonschema>=3.0->altair<6,>=4.0->streamlit==1.41.1) (2025.4.1)\n",
      "Requirement already satisfied: referencing>=0.28.4 in /Users/niyantarana/miniconda3/envs/bia_genai/lib/python3.11/site-packages (from jsonschema>=3.0->altair<6,>=4.0->streamlit==1.41.1) (0.36.2)\n",
      "Requirement already satisfied: rpds-py>=0.7.1 in /Users/niyantarana/miniconda3/envs/bia_genai/lib/python3.11/site-packages (from jsonschema>=3.0->altair<6,>=4.0->streamlit==1.41.1) (0.25.1)\n",
      "Requirement already satisfied: mdurl~=0.1 in /Users/niyantarana/miniconda3/envs/bia_genai/lib/python3.11/site-packages (from markdown-it-py>=2.2.0->rich->phidata==2.7.3) (0.1.2)\n",
      "Requirement already satisfied: anyio<5,>=3.5.0 in /Users/niyantarana/miniconda3/envs/bia_genai/lib/python3.11/site-packages (from openai>=1.10.0->exa-py==1.7.1) (4.9.0)\n",
      "Requirement already satisfied: distro<2,>=1.7.0 in /Users/niyantarana/miniconda3/envs/bia_genai/lib/python3.11/site-packages (from openai>=1.10.0->exa-py==1.7.1) (1.9.0)\n",
      "Requirement already satisfied: jiter<1,>=0.4.0 in /Users/niyantarana/miniconda3/envs/bia_genai/lib/python3.11/site-packages (from openai>=1.10.0->exa-py==1.7.1) (0.10.0)\n",
      "Requirement already satisfied: sniffio in /Users/niyantarana/miniconda3/envs/bia_genai/lib/python3.11/site-packages (from openai>=1.10.0->exa-py==1.7.1) (1.3.1)\n",
      "Requirement already satisfied: tqdm>4 in /Users/niyantarana/miniconda3/envs/bia_genai/lib/python3.11/site-packages (from openai>=1.10.0->exa-py==1.7.1) (4.67.1)\n",
      "Requirement already satisfied: httpcore==1.* in /Users/niyantarana/miniconda3/envs/bia_genai/lib/python3.11/site-packages (from httpx->phidata==2.7.3) (1.0.9)\n",
      "Requirement already satisfied: h11>=0.16 in /Users/niyantarana/miniconda3/envs/bia_genai/lib/python3.11/site-packages (from httpcore==1.*->httpx->phidata==2.7.3) (0.16.0)\n",
      "Requirement already satisfied: annotated-types>=0.6.0 in /Users/niyantarana/miniconda3/envs/bia_genai/lib/python3.11/site-packages (from pydantic>=2.10.3->firecrawl-py==1.9.0) (0.7.0)\n",
      "Requirement already satisfied: pydantic-core==2.33.2 in /Users/niyantarana/miniconda3/envs/bia_genai/lib/python3.11/site-packages (from pydantic>=2.10.3->firecrawl-py==1.9.0) (2.33.2)\n",
      "Requirement already satisfied: typing-inspection>=0.4.0 in /Users/niyantarana/miniconda3/envs/bia_genai/lib/python3.11/site-packages (from pydantic>=2.10.3->firecrawl-py==1.9.0) (0.4.0)\n",
      "Requirement already satisfied: six>=1.5 in /Users/niyantarana/miniconda3/envs/bia_genai/lib/python3.11/site-packages (from python-dateutil>=2.8.2->pandas<3,>=1.4.0->streamlit==1.41.1) (1.17.0)\n",
      "Requirement already satisfied: shellingham>=1.3.0 in /Users/niyantarana/miniconda3/envs/bia_genai/lib/python3.11/site-packages (from typer->phidata==2.7.3) (1.5.4)\n",
      "Note: you may need to restart the kernel to use updated packages.\n"
     ]
    }
   ],
   "source": [
    "pip install exa-py==1.7.1 firecrawl-py==1.9.0 duckduckgo-search==7.2.1 phidata==2.7.3 streamlit==1.41.1"
   ]
  },
  {
   "cell_type": "code",
   "execution_count": 8,
   "id": "831a242b",
   "metadata": {},
   "outputs": [
    {
     "name": "stdout",
     "output_type": "stream",
     "text": [
      "✅ All libraries imported successfully!\n"
     ]
    }
   ],
   "source": [
    "# Import required libraries\n",
    "from exa_py import Exa\n",
    "from phi.agent import Agent\n",
    "from phi.tools.firecrawl import FirecrawlTools\n",
    "from phi.model.openai import OpenAIChat\n",
    "from phi.tools.duckduckgo import DuckDuckGo\n",
    "import pandas as pd\n",
    "\n",
    "print(\"✅ All libraries imported successfully!\")"
   ]
  },
  {
   "cell_type": "code",
   "execution_count": 9,
   "id": "a293d7ce",
   "metadata": {},
   "outputs": [],
   "source": [
    "# Set up API keys (replace with your actual keys)\n",
    "import getpass\n",
    "import os\n",
    "\n",
    "os.environ[\"OPENAI_API_KEY\"] = getpass.getpass()\n",
    "os.environ[\"FIRECRAWL_API_KEY\"] = getpass.getpass()\n",
    "os.environ[\"EXA_API_KEY\"] = getpass.getpass()"
   ]
  },
  {
   "cell_type": "code",
   "execution_count": 10,
   "id": "ec2cb1ce",
   "metadata": {},
   "outputs": [
    {
     "name": "stdout",
     "output_type": "stream",
     "text": [
      "🔑 API keys configured\n"
     ]
    }
   ],
   "source": [
    "# Initialize Exa client\n",
    "exa = Exa(api_key=EXA_API_KEY)\n",
    "print(\"🔑 API keys configured\")"
   ]
  },
  {
   "cell_type": "code",
   "execution_count": 11,
   "id": "7232ebe7",
   "metadata": {},
   "outputs": [],
   "source": [
    "firecrawl_tools = FirecrawlTools(\n",
    "    api_key= FIRECRAWL_API_KEY,\n",
    "    scrape= False,\n",
    "    crawl=True,\n",
    "    limit=5\n",
    ")\n",
    "\n",
    "firecrawl_agent = Agent(\n",
    "    model=OpenAIChat(id=\"gpt-4o-mini\", api_key=OPENAI_API_KEY),\n",
    "    tools= [firecrawl_tools, DuckDuckGo()],\n",
    "    show_tool_calls=True,\n",
    "    markdown=True\n",
    ")\n",
    "\n"
   ]
  },
  {
   "cell_type": "code",
   "execution_count": 12,
   "id": "1dc7d8c8",
   "metadata": {},
   "outputs": [
    {
     "name": "stdout",
     "output_type": "stream",
     "text": [
      "AI Agent Initilized successfully\n"
     ]
    }
   ],
   "source": [
    "comparision_agent = Agent(\n",
    "    model=OpenAIChat(id=\"gpt-4o-mini\", api_key=OPENAI_API_KEY),\n",
    "    show_tool_calls=True,\n",
    "    markdown=True\n",
    ")\n",
    "\n",
    "print(\"AI Agent Initilized successfully\")"
   ]
  },
  {
   "cell_type": "code",
   "execution_count": 13,
   "id": "420cb196",
   "metadata": {},
   "outputs": [],
   "source": [
    "def get_competitor_urls(url=None, description=None):\n",
    "    \"\"\"\n",
    "    Find competitor URLs using Exa's search capabilities\n",
    "    \n",
    "    Args:\n",
    "        url: Company website URL\n",
    "        description: Company description text\n",
    "    \n",
    "    Returns:\n",
    "        List of competitor URLs\n",
    "    \"\"\"\n",
    "    if url:\n",
    "        # Find similar companies based on URL\n",
    "        result = exa.find_similar(\n",
    "            url=url,\n",
    "            num_results=10,\n",
    "            exclude_source_domain=True,\n",
    "            category=\"company\"\n",
    "        )\n",
    "    elif description:\n",
    "        # Search for companies based on description\n",
    "        result = exa.search(\n",
    "            description,\n",
    "            type=\"neural\",\n",
    "            category=\"company\",\n",
    "            use_autoprompt=True,\n",
    "            num_results=10\n",
    "        )\n",
    "    else:\n",
    "        raise ValueError(\"Please provide either a URL or a description.\")\n",
    "    \n",
    "    competitor_urls = [item.url for item in result.results]\n",
    "    return competitor_urls"
   ]
  },
  {
   "cell_type": "code",
   "execution_count": 14,
   "id": "9e6bb9c7",
   "metadata": {},
   "outputs": [
    {
     "ename": "ValueError",
     "evalue": "Request failed with status code 400: {\"requestId\":\"fde7c52d5bd24df619c0c97f5e5f1a38\",\"error\":\"x-api-key header must not be empty\"}",
     "output_type": "error",
     "traceback": [
      "\u001b[31m---------------------------------------------------------------------------\u001b[39m",
      "\u001b[31mValueError\u001b[39m                                Traceback (most recent call last)",
      "\u001b[36mCell\u001b[39m\u001b[36m \u001b[39m\u001b[32mIn[14]\u001b[39m\u001b[32m, line 1\u001b[39m\n\u001b[32m----> \u001b[39m\u001b[32m1\u001b[39m \u001b[43mget_competitor_urls\u001b[49m\u001b[43m(\u001b[49m\u001b[33;43m\"\u001b[39;49m\u001b[33;43mhttps://www.moneycontrol.com/\u001b[39;49m\u001b[33;43m\"\u001b[39;49m\u001b[43m,\u001b[49m\u001b[33;43m\"\u001b[39;49m\u001b[33;43mFor a financial portal born in late 1999, just when bursting of the dotcom bubble was about to nearly bring down both financial markets and the fledgling worldwide web, we couldn\u001b[39;49m\u001b[33;43m'\u001b[39;49m\u001b[33;43mt have chosen a more difficult time to launch. But it was really passion and belief that saw us through. A single-minded passion to become the country\u001b[39;49m\u001b[33;43m'\u001b[39;49m\u001b[33;43ms greatest resource for financial information on the Internet. And the belief, that through it, we would be able to make a difference to people\u001b[39;49m\u001b[33;43m'\u001b[39;49m\u001b[33;43ms financial lives.\u001b[39;49m\u001b[33;43m\"\u001b[39;49m\u001b[43m)\u001b[49m\n",
      "\u001b[36mCell\u001b[39m\u001b[36m \u001b[39m\u001b[32mIn[13]\u001b[39m\u001b[32m, line 14\u001b[39m, in \u001b[36mget_competitor_urls\u001b[39m\u001b[34m(url, description)\u001b[39m\n\u001b[32m      2\u001b[39m \u001b[38;5;250m\u001b[39m\u001b[33;03m\"\"\"\u001b[39;00m\n\u001b[32m      3\u001b[39m \u001b[33;03mFind competitor URLs using Exa's search capabilities\u001b[39;00m\n\u001b[32m      4\u001b[39m \n\u001b[32m   (...)\u001b[39m\u001b[32m     10\u001b[39m \u001b[33;03m    List of competitor URLs\u001b[39;00m\n\u001b[32m     11\u001b[39m \u001b[33;03m\"\"\"\u001b[39;00m\n\u001b[32m     12\u001b[39m \u001b[38;5;28;01mif\u001b[39;00m url:\n\u001b[32m     13\u001b[39m     \u001b[38;5;66;03m# Find similar companies based on URL\u001b[39;00m\n\u001b[32m---> \u001b[39m\u001b[32m14\u001b[39m     result = \u001b[43mexa\u001b[49m\u001b[43m.\u001b[49m\u001b[43mfind_similar\u001b[49m\u001b[43m(\u001b[49m\n\u001b[32m     15\u001b[39m \u001b[43m        \u001b[49m\u001b[43murl\u001b[49m\u001b[43m=\u001b[49m\u001b[43murl\u001b[49m\u001b[43m,\u001b[49m\n\u001b[32m     16\u001b[39m \u001b[43m        \u001b[49m\u001b[43mnum_results\u001b[49m\u001b[43m=\u001b[49m\u001b[32;43m10\u001b[39;49m\u001b[43m,\u001b[49m\n\u001b[32m     17\u001b[39m \u001b[43m        \u001b[49m\u001b[43mexclude_source_domain\u001b[49m\u001b[43m=\u001b[49m\u001b[38;5;28;43;01mTrue\u001b[39;49;00m\u001b[43m,\u001b[49m\n\u001b[32m     18\u001b[39m \u001b[43m        \u001b[49m\u001b[43mcategory\u001b[49m\u001b[43m=\u001b[49m\u001b[33;43m\"\u001b[39;49m\u001b[33;43mcompany\u001b[39;49m\u001b[33;43m\"\u001b[39;49m\n\u001b[32m     19\u001b[39m \u001b[43m    \u001b[49m\u001b[43m)\u001b[49m\n\u001b[32m     20\u001b[39m \u001b[38;5;28;01melif\u001b[39;00m description:\n\u001b[32m     21\u001b[39m     \u001b[38;5;66;03m# Search for companies based on description\u001b[39;00m\n\u001b[32m     22\u001b[39m     result = exa.search(\n\u001b[32m     23\u001b[39m         description,\n\u001b[32m     24\u001b[39m         \u001b[38;5;28mtype\u001b[39m=\u001b[33m\"\u001b[39m\u001b[33mneural\u001b[39m\u001b[33m\"\u001b[39m,\n\u001b[32m   (...)\u001b[39m\u001b[32m     27\u001b[39m         num_results=\u001b[32m10\u001b[39m\n\u001b[32m     28\u001b[39m     )\n",
      "\u001b[36mFile \u001b[39m\u001b[32m~/miniconda3/envs/bia_genai/lib/python3.11/site-packages/exa_py/api.py:1025\u001b[39m, in \u001b[36mExa.find_similar\u001b[39m\u001b[34m(self, url, num_results, include_domains, exclude_domains, start_crawl_date, end_crawl_date, start_published_date, end_published_date, include_text, exclude_text, exclude_source_domain, category)\u001b[39m\n\u001b[32m   1023\u001b[39m validate_search_options(options, FIND_SIMILAR_OPTIONS_TYPES)\n\u001b[32m   1024\u001b[39m options = to_camel_case(options)\n\u001b[32m-> \u001b[39m\u001b[32m1025\u001b[39m data = \u001b[38;5;28;43mself\u001b[39;49m\u001b[43m.\u001b[49m\u001b[43mrequest\u001b[49m\u001b[43m(\u001b[49m\u001b[33;43m\"\u001b[39;49m\u001b[33;43m/findSimilar\u001b[39;49m\u001b[33;43m\"\u001b[39;49m\u001b[43m,\u001b[49m\u001b[43m \u001b[49m\u001b[43moptions\u001b[49m\u001b[43m)\u001b[49m\n\u001b[32m   1026\u001b[39m \u001b[38;5;28;01mreturn\u001b[39;00m SearchResponse(\n\u001b[32m   1027\u001b[39m     [Result(**to_snake_case(result)) \u001b[38;5;28;01mfor\u001b[39;00m result \u001b[38;5;129;01min\u001b[39;00m data[\u001b[33m\"\u001b[39m\u001b[33mresults\u001b[39m\u001b[33m\"\u001b[39m]],\n\u001b[32m   1028\u001b[39m     data[\u001b[33m\"\u001b[39m\u001b[33mautopromptString\u001b[39m\u001b[33m\"\u001b[39m] \u001b[38;5;28;01mif\u001b[39;00m \u001b[33m\"\u001b[39m\u001b[33mautopromptString\u001b[39m\u001b[33m\"\u001b[39m \u001b[38;5;129;01min\u001b[39;00m data \u001b[38;5;28;01melse\u001b[39;00m \u001b[38;5;28;01mNone\u001b[39;00m,\n\u001b[32m   1029\u001b[39m     data[\u001b[33m\"\u001b[39m\u001b[33mresolvedSearchType\u001b[39m\u001b[33m\"\u001b[39m] \u001b[38;5;28;01mif\u001b[39;00m \u001b[33m\"\u001b[39m\u001b[33mresolvedSearchType\u001b[39m\u001b[33m\"\u001b[39m \u001b[38;5;129;01min\u001b[39;00m data \u001b[38;5;28;01melse\u001b[39;00m \u001b[38;5;28;01mNone\u001b[39;00m,\n\u001b[32m   1030\u001b[39m     data[\u001b[33m\"\u001b[39m\u001b[33mautoDate\u001b[39m\u001b[33m\"\u001b[39m] \u001b[38;5;28;01mif\u001b[39;00m \u001b[33m\"\u001b[39m\u001b[33mautoDate\u001b[39m\u001b[33m\"\u001b[39m \u001b[38;5;129;01min\u001b[39;00m data \u001b[38;5;28;01melse\u001b[39;00m \u001b[38;5;28;01mNone\u001b[39;00m,\n\u001b[32m   1031\u001b[39m )\n",
      "\u001b[36mFile \u001b[39m\u001b[32m~/miniconda3/envs/bia_genai/lib/python3.11/site-packages/exa_py/api.py:574\u001b[39m, in \u001b[36mExa.request\u001b[39m\u001b[34m(self, endpoint, data)\u001b[39m\n\u001b[32m    572\u001b[39m res = requests.post(\u001b[38;5;28mself\u001b[39m.base_url + endpoint, json=data, headers=\u001b[38;5;28mself\u001b[39m.headers)\n\u001b[32m    573\u001b[39m \u001b[38;5;28;01mif\u001b[39;00m res.status_code != \u001b[32m200\u001b[39m:\n\u001b[32m--> \u001b[39m\u001b[32m574\u001b[39m     \u001b[38;5;28;01mraise\u001b[39;00m \u001b[38;5;167;01mValueError\u001b[39;00m(\n\u001b[32m    575\u001b[39m         \u001b[33mf\u001b[39m\u001b[33m\"\u001b[39m\u001b[33mRequest failed with status code \u001b[39m\u001b[38;5;132;01m{\u001b[39;00mres.status_code\u001b[38;5;132;01m}\u001b[39;00m\u001b[33m: \u001b[39m\u001b[38;5;132;01m{\u001b[39;00mres.text\u001b[38;5;132;01m}\u001b[39;00m\u001b[33m\"\u001b[39m\n\u001b[32m    576\u001b[39m     )\n\u001b[32m    577\u001b[39m \u001b[38;5;28;01mreturn\u001b[39;00m res.json()\n",
      "\u001b[31mValueError\u001b[39m: Request failed with status code 400: {\"requestId\":\"fde7c52d5bd24df619c0c97f5e5f1a38\",\"error\":\"x-api-key header must not be empty\"}"
     ]
    }
   ],
   "source": [
    "get_competitor_urls(\"https://www.moneycontrol.com/\",\"For a financial portal born in late 1999, just when bursting of the dotcom bubble was about to nearly bring down both financial markets and the fledgling worldwide web, we couldn't have chosen a more difficult time to launch. But it was really passion and belief that saw us through. A single-minded passion to become the country's greatest resource for financial information on the Internet. And the belief, that through it, we would be able to make a difference to people's financial lives.\")"
   ]
  },
  {
   "cell_type": "code",
   "execution_count": null,
   "id": "c5cb9e17",
   "metadata": {},
   "outputs": [
    {
     "name": "stdout",
     "output_type": "stream",
     "text": [
      "Found competitors: ['https://moneycontrol.net/', 'https://www.cnbctv18.com/', 'https://stat2.moneycontrol.com/', 'https://www.etnownews.com/', 'https://www.capitalmarket.com/', 'https://investmentguruindia.com/', 'https://www.goodreturns.in/', 'https://img.moneycontrol.co.in/', 'https://www.zeebiz.com/hindi/']\n"
     ]
    }
   ],
   "source": [
    "test_url = \"https://www.moneycontrol.com/\"\n",
    "competitors = get_competitor_urls(url=test_url)\n",
    "print(f\"Found competitors: {competitors}\")"
   ]
  },
  {
   "cell_type": "code",
   "execution_count": null,
   "id": "b0b80731",
   "metadata": {},
   "outputs": [
    {
     "name": "stdout",
     "output_type": "stream",
     "text": [
      "Sample competitor data extracted!\n",
      "Data length: 850\n"
     ]
    }
   ],
   "source": [
    "## Adjus this function to work with the multiple URL\n",
    "\n",
    "def extract_competitor_info(competitor_url: str):\n",
    "    \"\"\"\n",
    "    Extract detailed information from competitor websites\n",
    "    \n",
    "    Args:\n",
    "        competitor_url: URL of competitor website\n",
    "        \n",
    "    Returns:\n",
    "        Dictionary with competitor data\n",
    "    \"\"\"\n",
    "    try:\n",
    "        # Use AI agent to crawl and summarize the website\n",
    "        crawl_response = firecrawl_agent.run(f\"Crawl and summarize {competitor_url}\")\n",
    "        crawled_data = crawl_response.content\n",
    "        \n",
    "        return {\n",
    "            \"competitor\": competitor_url,\n",
    "            \"data\": crawled_data\n",
    "        }\n",
    "    except Exception as e:\n",
    "        print(f\"Error extracting info for {competitor_url}: {e}\")\n",
    "        return {\n",
    "            \"competitor\": competitor_url,\n",
    "            \"error\": str(e)\n",
    "        }\n",
    "\n",
    "# Test the function \n",
    "sample_data = extract_competitor_info(competitors[0])\n",
    "print(\"Sample competitor data extracted!\")\n",
    "print(f\"Data length: {len(str(sample_data))}\")"
   ]
  },
  {
   "cell_type": "code",
   "execution_count": null,
   "id": "1f6e7915",
   "metadata": {},
   "outputs": [
    {
     "name": "stdout",
     "output_type": "stream",
     "text": [
      "{'competitor': 'https://moneycontrol.net/', 'data': '\\nRunning:\\n - crawl_website(url=https://moneycontrol.net/, limit=5)\\n\\nThe website **Moneycontrol.net** appears to be currently for sale. The content suggests that individuals can purchase the domain through BuyDomains.com by contacting their numbers.\\n\\n### Summary:\\n\\n- **Website:** [Moneycontrol.net](https://moneycontrol.net/)\\n- **Status:** Domain is available for sale.\\n- **Contact Information for Purchase:** \\n  - Phone: 781-373-6841 or 844-896-7299\\n\\nUnfortunately, the website does not seem to provide any current financial information, articles, or services related to money management or investing, which might typically be expected from a financial news platform.\\n\\nFor further details or to inquire about purchasing the domain, visitors are directed to the BuyDomains website.'}\n"
     ]
    }
   ],
   "source": [
    "print(sample_data)"
   ]
  },
  {
   "cell_type": "code",
   "execution_count": null,
   "id": "9a15b167",
   "metadata": {},
   "outputs": [],
   "source": []
  },
  {
   "cell_type": "code",
   "execution_count": null,
   "id": "5db94a8d",
   "metadata": {},
   "outputs": [],
   "source": []
  },
  {
   "cell_type": "code",
   "execution_count": null,
   "id": "d9d3b5a3",
   "metadata": {},
   "outputs": [],
   "source": []
  },
  {
   "cell_type": "code",
   "execution_count": null,
   "id": "e7f48b3b",
   "metadata": {},
   "outputs": [],
   "source": []
  },
  {
   "cell_type": "code",
   "execution_count": null,
   "id": "783d60b6",
   "metadata": {},
   "outputs": [],
   "source": []
  },
  {
   "cell_type": "code",
   "execution_count": null,
   "id": "1629213c",
   "metadata": {},
   "outputs": [],
   "source": []
  },
  {
   "cell_type": "markdown",
   "id": "0eab4167",
   "metadata": {},
   "source": []
  }
 ],
 "metadata": {
  "kernelspec": {
   "display_name": "bia_genai",
   "language": "python",
   "name": "python3"
  },
  "language_info": {
   "codemirror_mode": {
    "name": "ipython",
    "version": 3
   },
   "file_extension": ".py",
   "mimetype": "text/x-python",
   "name": "python",
   "nbconvert_exporter": "python",
   "pygments_lexer": "ipython3",
   "version": "3.11.11"
  }
 },
 "nbformat": 4,
 "nbformat_minor": 5
}
