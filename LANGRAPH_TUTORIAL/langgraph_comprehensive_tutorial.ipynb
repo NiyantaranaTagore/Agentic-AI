{
 "cells": [
  {
   "cell_type": "code",
   "execution_count": 1,
   "id": "6c0f1f06",
   "metadata": {},
   "outputs": [],
   "source": [
    "import os\n",
    "import getpass\n",
    "from typing import Annotated, Dict, List, Any\n",
    "from typing_extensions import TypedDict\n",
    "\n",
    "def setup_environment():\n",
    "    \"\"\"Set up API KEYs.\"\"\"\n",
    "    if not os.environ.get(\"OPENAI_API_KEY\"):\n",
    "        openai_key = getpass.getpass(\"Enter your OpenAI API key\")\n",
    "        os.environ[\"OPENAI_API_KEY\"] = openai_key\n",
    "\n",
    "    if not os.environ.get(\"LANGSMITH_API_KEY\"):\n",
    "        langsmith_key = getpass.getpass(\"Enter your LangSmith API key\")\n",
    "        if langsmith_key:\n",
    "               os.environ[\"LANGSMITH_API_KEY\"] = langsmith_key\n",
    "               os.environ[\"LANGCHAIN_TRACING_V2\"] = \"true\"\n",
    "               os.environ[\"LANGSMITH_PROJECT\"] = \"Langgraph tutotrial\"\n",
    "        else:\n",
    "             print(\"Skipping LangSmith set up\")\n",
    "    \n",
    "    print(\"Environment setup completed\")\n"
   ]
  },
  {
   "cell_type": "code",
   "execution_count": 2,
   "metadata": {},
   "outputs": [
    {
     "name": "stdout",
     "output_type": "stream",
     "text": [
      "Environment setup completed\n"
     ]
    }
   ],
   "source": [
    "setup_environment()"
   ]
  },
  {
   "cell_type": "code",
   "execution_count": 3,
   "metadata": {},
   "outputs": [],
   "source": [
    "from langgraph.graph import StateGraph, START, END\n",
    "from langgraph.graph.message import add_messages\n",
    "from langchain_core.messages import HumanMessage, AIMessage\n",
    "\n",
    "class State(TypedDict):\n",
    "    # Messages will store the conversation history\n",
    "    ### add_messages is a special function that append new message instead of replacing them\n",
    "\n",
    "    messages: Annotated[List, add_messages]\n",
    "    "
   ]
  },
  {
   "cell_type": "code",
   "execution_count": 4,
   "metadata": {},
   "outputs": [
    {
     "data": {
      "text/plain": [
       "'Hello! How can I assist you today?'"
      ]
     },
     "execution_count": 4,
     "metadata": {},
     "output_type": "execute_result"
    }
   ],
   "source": [
    "from langchain_openai import ChatOpenAI\n",
    "\n",
    "llm = ChatOpenAI(\n",
    "    model=\"gpt-4o\",\n",
    "    temperature=0.7,\n",
    ")\n",
    "llm.invoke(\"Hi\").content"
   ]
  },
  {
   "cell_type": "code",
   "execution_count": 5,
   "id": "b5200018",
   "metadata": {},
   "outputs": [
    {
     "name": "stdout",
     "output_type": "stream",
     "text": [
      "Model: gpt-4o\n"
     ]
    }
   ],
   "source": [
    "print(f\"Model: {llm.model_name}\")"
   ]
  },
  {
   "cell_type": "code",
   "execution_count": 6,
   "id": "c254b914",
   "metadata": {},
   "outputs": [],
   "source": [
    "def chatbot_node(state: State) -> Dict[str, Any]:\n",
    "    messages = state[\"messages\"]\n",
    "    response = llm.invoke(messages)\n",
    "    return {\"messages\": [response]}"
   ]
  },
  {
   "cell_type": "code",
   "execution_count": 7,
   "id": "ecd1ed8c",
   "metadata": {},
   "outputs": [],
   "source": [
    "graph_builder = StateGraph(State)\n",
    "\n",
    "graph_builder.add_node(\"chatbot\", chatbot_node)\n",
    "graph_builder.add_edge(START, \"chatbot\")\n",
    "graph_builder.add_edge(\"chatbot\", END)\n",
    "\n",
    "simple_chatbot = graph_builder.compile()"
   ]
  },
  {
   "cell_type": "code",
   "execution_count": 8,
   "id": "489a0248",
   "metadata": {},
   "outputs": [],
   "source": [
    "initial_state = {\n",
    "    \"messages\": [HumanMessage(content=\"Hello! My name is Niyantarana. What is your name?\")]\n",
    "}\n",
    "result = simple_chatbot.invoke(initial_state)"
   ]
  },
  {
   "cell_type": "code",
   "execution_count": 9,
   "id": "ed6944d6",
   "metadata": {},
   "outputs": [
    {
     "data": {
      "text/plain": [
       "[HumanMessage(content='Hello! My name is Niyantarana. What is your name?', additional_kwargs={}, response_metadata={}, id='03e9685a-df96-4bed-a4a3-263bb76c8ebe'),\n",
       " AIMessage(content='Hello Niyantarana! I’m an AI language model created by OpenAI, and I don’t have a personal name. You can call me Assistant if you’d like. How can I assist you today?', additional_kwargs={'refusal': None}, response_metadata={'token_usage': {'completion_tokens': 43, 'prompt_tokens': 22, 'total_tokens': 65, 'completion_tokens_details': {'accepted_prediction_tokens': 0, 'audio_tokens': 0, 'reasoning_tokens': 0, 'rejected_prediction_tokens': 0}, 'prompt_tokens_details': {'audio_tokens': 0, 'cached_tokens': 0}}, 'model_name': 'gpt-4o-2024-08-06', 'system_fingerprint': 'fp_07871e2ad8', 'id': 'chatcmpl-BnieggVGEXk51PctVUK8hTnmD0TlF', 'service_tier': 'default', 'finish_reason': 'stop', 'logprobs': None}, id='run--203107e5-20bf-4f28-b284-77d5a27d8d1b-0', usage_metadata={'input_tokens': 22, 'output_tokens': 43, 'total_tokens': 65, 'input_token_details': {'audio': 0, 'cache_read': 0}, 'output_token_details': {'audio': 0, 'reasoning': 0}})]"
      ]
     },
     "execution_count": 9,
     "metadata": {},
     "output_type": "execute_result"
    }
   ],
   "source": [
    "result['messages']"
   ]
  },
  {
   "cell_type": "code",
   "execution_count": 10,
   "id": "7b2c54ee",
   "metadata": {},
   "outputs": [
    {
     "name": "stdout",
     "output_type": "stream",
     "text": [
      "User: Hello! My name is Niyantarana. What is your name?\n",
      "AI: Hello Niyantarana! I’m an AI language model created by OpenAI, and I don’t have a personal name. You can call me Assistant if you’d like. How can I assist you today?\n"
     ]
    }
   ],
   "source": [
    "for i, message in enumerate(result['messages']):\n",
    "    if isinstance(message, HumanMessage):\n",
    "        print(f\"User: {message.content}\")\n",
    "    elif isinstance(message, AIMessage):\n",
    "        print(f\"AI: {message.content}\")\n",
    "    else:\n",
    "        print(f\"Unknown message type at index {i}: {message}\")"
   ]
  },
  {
   "cell_type": "code",
   "execution_count": 11,
   "id": "8a79fa94",
   "metadata": {},
   "outputs": [],
   "source": [
    "def test_simple(user_input):\n",
    "    initial_state = {\n",
    "        \"messages\": [HumanMessage(content=user_input)]\n",
    "    }\n",
    "    result = simple_chatbot.invoke(initial_state)\n",
    "    \n",
    "    for i, message in enumerate(result['messages']):\n",
    "        if isinstance(message, HumanMessage):\n",
    "            print(f\"Human: {message.content}\")\n",
    "        elif isinstance(message, AIMessage):\n",
    "            print(f\"AI: {message.content}\")\n",
    "        else:\n",
    "            print(f\"Unknown message type at index {i}: {message}\")"
   ]
  },
  {
   "cell_type": "code",
   "execution_count": 12,
   "id": "39220635",
   "metadata": {},
   "outputs": [
    {
     "name": "stdout",
     "output_type": "stream",
     "text": [
      "Human: What is the GATE cut off for CSE?\n",
      "AI: The GATE (Graduate Aptitude Test in Engineering) cut-off for Computer Science Engineering (CSE) varies each year, depending on various factors such as the difficulty level of the exam, the number of candidates appearing for the exam, and the number of available seats in the institutions. The cut-off marks are different for different categories like General, OBC, SC, ST, and PwD.\n",
      "\n",
      "For the most accurate and up-to-date information, you should check the official GATE website or the websites of the institutions you are interested in. They typically publish the cut-off scores after the results are announced.\n"
     ]
    }
   ],
   "source": [
    "test_simple(\"What is the GATE cut off for CSE?\")"
   ]
  },
  {
   "cell_type": "code",
   "execution_count": 13,
   "id": "998f3374",
   "metadata": {},
   "outputs": [
    {
     "name": "stdout",
     "output_type": "stream",
     "text": [
      "Human: What are the Subjects in GATE?\n",
      "AI: The Graduate Aptitude Test in Engineering (GATE) is an examination that primarily tests the comprehensive understanding of various undergraduate subjects in engineering and science for admission into master's programs and for recruitment by some public sector companies. As of the latest updates, here are the subjects (referred to as papers) in which GATE is conducted:\n",
      "\n",
      "1. Aerospace Engineering (AE)\n",
      "2. Agricultural Engineering (AG)\n",
      "3. Architecture and Planning (AR)\n",
      "4. Biomedical Engineering (BM)\n",
      "5. Biotechnology (BT)\n",
      "6. Civil Engineering (CE)\n",
      "7. Chemical Engineering (CH)\n",
      "8. Computer Science and Information Technology (CS)\n",
      "9. Chemistry (CY)\n",
      "10. Electronics and Communication Engineering (EC)\n",
      "11. Electrical Engineering (EE)\n",
      "12. Environmental Science and Engineering (ES)\n",
      "13. Ecology and Evolution (EY)\n",
      "14. Geology and Geophysics (GG)\n",
      "15. Instrumentation Engineering (IN)\n",
      "16. Mathematics (MA)\n",
      "17. Mechanical Engineering (ME)\n",
      "18. Mining Engineering (MN)\n",
      "19. Metallurgical Engineering (MT)\n",
      "20. Petroleum Engineering (PE)\n",
      "21. Physics (PH)\n",
      "22. Production and Industrial Engineering (PI)\n",
      "23. Statistics (ST)\n",
      "24. Textile Engineering and Fibre Science (TF)\n",
      "25. Engineering Sciences (XE) - This paper is divided into several sections like Fluid Mechanics, Materials Science, Solid Mechanics, Thermodynamics, Polymer Science and Engineering, Food Technology, and Atmospheric and Oceanic Sciences.\n",
      "26. Life Sciences (XL) - This paper includes sections such as Biochemistry, Botany, Microbiology, Zoology, and Food Technology.\n",
      "27. Humanities and Social Sciences (XH) - This includes sections like English, Philosophy, Economics, Linguistics, Psychology, and Sociology.\n",
      "28. Geomatics Engineering (GE)\n",
      "29. Naval Architecture and Marine Engineering (NM)\n",
      "30. Environmental Science and Engineering (ES)\n",
      "31. Humanities and Social Sciences (XH)\n",
      "\n",
      "The subjects offered can change, so it's a good idea to check the official GATE website or official notifications for the most current list and any updates or changes.\n"
     ]
    }
   ],
   "source": [
    "test_simple(\"What are the Subjects in GATE?\")"
   ]
  },
  {
   "cell_type": "code",
   "execution_count": 14,
   "metadata": {},
   "outputs": [
    {
     "name": "stdout",
     "output_type": "stream",
     "text": [
      "Human: What is the NET cut off for CSE?\n",
      "AI: The NET (National Eligibility Test) cut-off for Computer Science and Electronics (CSE) can vary each year based on factors such as the number of candidates, difficulty level of the exam, and overall performance. The cut-off marks are generally released by the conducting body, which is the National Testing Agency (NTA) in India, along with or shortly after the results are announced.\n",
      "\n",
      "To find the exact cut-off for a specific year, you would need to check the official NTA website or the official notification related to the NET exam results for that year. They usually publish the cut-off marks for each subject and category (General, OBC, SC, ST, etc.) on their official platform.\n"
     ]
    }
   ],
   "source": [
    "test_simple(\"What is the NET cut off for CSE?\")"
   ]
  },
  {
   "cell_type": "code",
   "execution_count": 15,
   "id": "0f4da205",
   "metadata": {},
   "outputs": [
    {
     "name": "stdout",
     "output_type": "stream",
     "text": [
      "Human: What was my last question?\n",
      "AI: I'm sorry, but I don't have the ability to recall past interactions or previous questions. My design is focused on maintaining privacy and confidentiality, which means I don't store personal data or past conversations. How can I assist you today?\n"
     ]
    }
   ],
   "source": [
    "test_simple(\"What was my last question?\")"
   ]
  },
  {
   "cell_type": "code",
   "execution_count": 16,
   "id": "03a77e00",
   "metadata": {},
   "outputs": [
    {
     "name": "stdout",
     "output_type": "stream",
     "text": [
      "Requirement already satisfied: langgraph-checkpoint-sqlite in /Users/niyantarana/miniconda3/envs/bia_genai/lib/python3.11/site-packages (2.0.10)\n",
      "Requirement already satisfied: aiosqlite>=0.20 in /Users/niyantarana/miniconda3/envs/bia_genai/lib/python3.11/site-packages (from langgraph-checkpoint-sqlite) (0.21.0)\n",
      "Requirement already satisfied: langgraph-checkpoint>=2.0.21 in /Users/niyantarana/miniconda3/envs/bia_genai/lib/python3.11/site-packages (from langgraph-checkpoint-sqlite) (2.0.26)\n",
      "Requirement already satisfied: sqlite-vec>=0.1.6 in /Users/niyantarana/miniconda3/envs/bia_genai/lib/python3.11/site-packages (from langgraph-checkpoint-sqlite) (0.1.6)\n",
      "Requirement already satisfied: typing_extensions>=4.0 in /Users/niyantarana/miniconda3/envs/bia_genai/lib/python3.11/site-packages (from aiosqlite>=0.20->langgraph-checkpoint-sqlite) (4.13.2)\n",
      "Requirement already satisfied: langchain-core>=0.2.38 in /Users/niyantarana/miniconda3/envs/bia_genai/lib/python3.11/site-packages (from langgraph-checkpoint>=2.0.21->langgraph-checkpoint-sqlite) (0.3.66)\n",
      "Requirement already satisfied: ormsgpack<2.0.0,>=1.8.0 in /Users/niyantarana/miniconda3/envs/bia_genai/lib/python3.11/site-packages (from langgraph-checkpoint>=2.0.21->langgraph-checkpoint-sqlite) (1.10.0)\n",
      "Requirement already satisfied: langsmith>=0.3.45 in /Users/niyantarana/miniconda3/envs/bia_genai/lib/python3.11/site-packages (from langchain-core>=0.2.38->langgraph-checkpoint>=2.0.21->langgraph-checkpoint-sqlite) (0.4.1)\n",
      "Requirement already satisfied: tenacity!=8.4.0,<10.0.0,>=8.1.0 in /Users/niyantarana/miniconda3/envs/bia_genai/lib/python3.11/site-packages (from langchain-core>=0.2.38->langgraph-checkpoint>=2.0.21->langgraph-checkpoint-sqlite) (9.1.2)\n",
      "Requirement already satisfied: jsonpatch<2.0,>=1.33 in /Users/niyantarana/miniconda3/envs/bia_genai/lib/python3.11/site-packages (from langchain-core>=0.2.38->langgraph-checkpoint>=2.0.21->langgraph-checkpoint-sqlite) (1.33)\n",
      "Requirement already satisfied: PyYAML>=5.3 in /Users/niyantarana/miniconda3/envs/bia_genai/lib/python3.11/site-packages (from langchain-core>=0.2.38->langgraph-checkpoint>=2.0.21->langgraph-checkpoint-sqlite) (6.0.2)\n",
      "Requirement already satisfied: packaging<25,>=23.2 in /Users/niyantarana/miniconda3/envs/bia_genai/lib/python3.11/site-packages (from langchain-core>=0.2.38->langgraph-checkpoint>=2.0.21->langgraph-checkpoint-sqlite) (24.2)\n",
      "Requirement already satisfied: pydantic>=2.7.4 in /Users/niyantarana/miniconda3/envs/bia_genai/lib/python3.11/site-packages (from langchain-core>=0.2.38->langgraph-checkpoint>=2.0.21->langgraph-checkpoint-sqlite) (2.11.4)\n",
      "Requirement already satisfied: jsonpointer>=1.9 in /Users/niyantarana/miniconda3/envs/bia_genai/lib/python3.11/site-packages (from jsonpatch<2.0,>=1.33->langchain-core>=0.2.38->langgraph-checkpoint>=2.0.21->langgraph-checkpoint-sqlite) (3.0.0)\n",
      "Requirement already satisfied: httpx<1,>=0.23.0 in /Users/niyantarana/miniconda3/envs/bia_genai/lib/python3.11/site-packages (from langsmith>=0.3.45->langchain-core>=0.2.38->langgraph-checkpoint>=2.0.21->langgraph-checkpoint-sqlite) (0.28.1)\n",
      "Requirement already satisfied: orjson<4.0.0,>=3.9.14 in /Users/niyantarana/miniconda3/envs/bia_genai/lib/python3.11/site-packages (from langsmith>=0.3.45->langchain-core>=0.2.38->langgraph-checkpoint>=2.0.21->langgraph-checkpoint-sqlite) (3.10.18)\n",
      "Requirement already satisfied: requests<3,>=2 in /Users/niyantarana/miniconda3/envs/bia_genai/lib/python3.11/site-packages (from langsmith>=0.3.45->langchain-core>=0.2.38->langgraph-checkpoint>=2.0.21->langgraph-checkpoint-sqlite) (2.32.3)\n",
      "Requirement already satisfied: requests-toolbelt<2.0.0,>=1.0.0 in /Users/niyantarana/miniconda3/envs/bia_genai/lib/python3.11/site-packages (from langsmith>=0.3.45->langchain-core>=0.2.38->langgraph-checkpoint>=2.0.21->langgraph-checkpoint-sqlite) (1.0.0)\n",
      "Requirement already satisfied: zstandard<0.24.0,>=0.23.0 in /Users/niyantarana/miniconda3/envs/bia_genai/lib/python3.11/site-packages (from langsmith>=0.3.45->langchain-core>=0.2.38->langgraph-checkpoint>=2.0.21->langgraph-checkpoint-sqlite) (0.23.0)\n",
      "Requirement already satisfied: anyio in /Users/niyantarana/miniconda3/envs/bia_genai/lib/python3.11/site-packages (from httpx<1,>=0.23.0->langsmith>=0.3.45->langchain-core>=0.2.38->langgraph-checkpoint>=2.0.21->langgraph-checkpoint-sqlite) (4.9.0)\n",
      "Requirement already satisfied: certifi in /Users/niyantarana/miniconda3/envs/bia_genai/lib/python3.11/site-packages (from httpx<1,>=0.23.0->langsmith>=0.3.45->langchain-core>=0.2.38->langgraph-checkpoint>=2.0.21->langgraph-checkpoint-sqlite) (2025.4.26)\n",
      "Requirement already satisfied: httpcore==1.* in /Users/niyantarana/miniconda3/envs/bia_genai/lib/python3.11/site-packages (from httpx<1,>=0.23.0->langsmith>=0.3.45->langchain-core>=0.2.38->langgraph-checkpoint>=2.0.21->langgraph-checkpoint-sqlite) (1.0.9)\n",
      "Requirement already satisfied: idna in /Users/niyantarana/miniconda3/envs/bia_genai/lib/python3.11/site-packages (from httpx<1,>=0.23.0->langsmith>=0.3.45->langchain-core>=0.2.38->langgraph-checkpoint>=2.0.21->langgraph-checkpoint-sqlite) (3.10)\n",
      "Requirement already satisfied: h11>=0.16 in /Users/niyantarana/miniconda3/envs/bia_genai/lib/python3.11/site-packages (from httpcore==1.*->httpx<1,>=0.23.0->langsmith>=0.3.45->langchain-core>=0.2.38->langgraph-checkpoint>=2.0.21->langgraph-checkpoint-sqlite) (0.16.0)\n",
      "Requirement already satisfied: annotated-types>=0.6.0 in /Users/niyantarana/miniconda3/envs/bia_genai/lib/python3.11/site-packages (from pydantic>=2.7.4->langchain-core>=0.2.38->langgraph-checkpoint>=2.0.21->langgraph-checkpoint-sqlite) (0.7.0)\n",
      "Requirement already satisfied: pydantic-core==2.33.2 in /Users/niyantarana/miniconda3/envs/bia_genai/lib/python3.11/site-packages (from pydantic>=2.7.4->langchain-core>=0.2.38->langgraph-checkpoint>=2.0.21->langgraph-checkpoint-sqlite) (2.33.2)\n",
      "Requirement already satisfied: typing-inspection>=0.4.0 in /Users/niyantarana/miniconda3/envs/bia_genai/lib/python3.11/site-packages (from pydantic>=2.7.4->langchain-core>=0.2.38->langgraph-checkpoint>=2.0.21->langgraph-checkpoint-sqlite) (0.4.0)\n",
      "Requirement already satisfied: charset-normalizer<4,>=2 in /Users/niyantarana/miniconda3/envs/bia_genai/lib/python3.11/site-packages (from requests<3,>=2->langsmith>=0.3.45->langchain-core>=0.2.38->langgraph-checkpoint>=2.0.21->langgraph-checkpoint-sqlite) (3.4.2)\n",
      "Requirement already satisfied: urllib3<3,>=1.21.1 in /Users/niyantarana/miniconda3/envs/bia_genai/lib/python3.11/site-packages (from requests<3,>=2->langsmith>=0.3.45->langchain-core>=0.2.38->langgraph-checkpoint>=2.0.21->langgraph-checkpoint-sqlite) (2.4.0)\n",
      "Requirement already satisfied: sniffio>=1.1 in /Users/niyantarana/miniconda3/envs/bia_genai/lib/python3.11/site-packages (from anyio->httpx<1,>=0.23.0->langsmith>=0.3.45->langchain-core>=0.2.38->langgraph-checkpoint>=2.0.21->langgraph-checkpoint-sqlite) (1.3.1)\n"
     ]
    }
   ],
   "source": [
    "!pip install langgraph-checkpoint-sqlite"
   ]
  },
  {
   "cell_type": "code",
   "execution_count": 17,
   "id": "c724c66a",
   "metadata": {},
   "outputs": [],
   "source": [
    "from langgraph.checkpoint.sqlite import SqliteSaver\n",
    "\n",
    "checkpointer = SqliteSaver.from_conn_string(\":memory\")"
   ]
  },
  {
   "cell_type": "code",
   "execution_count": 18,
   "id": "5eff0d95",
   "metadata": {},
   "outputs": [],
   "source": [
    "graph_builder_with_memory = StateGraph(State)\n",
    "\n",
    "graph_builder_with_memory.add_node(\"chatbot\", chatbot_node)\n",
    "graph_builder_with_memory.add_edge(START, \"chatbot\")\n",
    "graph_builder_with_memory.add_edge(\"chatbot\", END)\n",
    "\n",
    "chatbot_with_memory = graph_builder_with_memory.compile(checkpointer=checkpointer)\n"
   ]
  },
  {
   "cell_type": "code",
   "execution_count": 19,
   "id": "f90290dd",
   "metadata": {},
   "outputs": [
    {
     "name": "stdout",
     "output_type": "stream",
     "text": [
      "Unique ID for this conversation: 7514eeb5-3189-49ab-a754-826423eabd40\n"
     ]
    }
   ],
   "source": [
    "import uuid\n",
    "unique_id = uuid.uuid4()\n",
    "str(unique_id)\n",
    "print(f\"Unique ID for this conversation: {unique_id}\")"
   ]
  },
  {
   "cell_type": "code",
   "execution_count": 23,
   "id": "7c4e4e99",
   "metadata": {},
   "outputs": [],
   "source": [
    "unique_id = \"7514eeb5-3189-49ab-a754-826423eabd40\"\n",
    "\n",
    "def test_simple(user_input):\n",
    "    config = {\"configurable\": {\"thread_id\": str(unique_id)}}\n",
    "    result = chatbot_with_memory.invoke(\n",
    "        {\n",
    "            \"messages\": [HumanMessage(content=user_input)],\n",
    "            \"configurable\": config\n",
    "        }\n",
    "    )   \n",
    "    return result\n",
    "    "
   ]
  },
  {
   "cell_type": "code",
   "execution_count": 24,
   "id": "504cf097",
   "metadata": {},
   "outputs": [
    {
     "name": "stdout",
     "output_type": "stream",
     "text": [
      "🧠 Testing Chatbot with Memory\n",
      "==================================================\n",
      "📝 First interaction:\n"
     ]
    },
    {
     "ename": "AttributeError",
     "evalue": "'_GeneratorContextManager' object has no attribute 'get_next_version'",
     "output_type": "error",
     "traceback": [
      "\u001b[31m---------------------------------------------------------------------------\u001b[39m",
      "\u001b[31mAttributeError\u001b[39m                            Traceback (most recent call last)",
      "\u001b[36mCell\u001b[39m\u001b[36m \u001b[39m\u001b[32mIn[24]\u001b[39m\u001b[32m, line 39\u001b[39m\n\u001b[32m     36\u001b[39m     \u001b[38;5;28;01mreturn\u001b[39;00m result2\n\u001b[32m     38\u001b[39m \u001b[38;5;66;03m# Test the memory\u001b[39;00m\n\u001b[32m---> \u001b[39m\u001b[32m39\u001b[39m memory_result = \u001b[43mtest_memory_chatbot\u001b[49m\u001b[43m(\u001b[49m\u001b[43m)\u001b[49m\n",
      "\u001b[36mCell\u001b[39m\u001b[36m \u001b[39m\u001b[32mIn[24]\u001b[39m\u001b[32m, line 10\u001b[39m, in \u001b[36mtest_memory_chatbot\u001b[39m\u001b[34m()\u001b[39m\n\u001b[32m      8\u001b[39m \u001b[38;5;66;03m# First message\u001b[39;00m\n\u001b[32m      9\u001b[39m \u001b[38;5;28mprint\u001b[39m(\u001b[33m\"\u001b[39m\u001b[33m📝 First interaction:\u001b[39m\u001b[33m\"\u001b[39m)\n\u001b[32m---> \u001b[39m\u001b[32m10\u001b[39m result1 = \u001b[43mchatbot_with_memory\u001b[49m\u001b[43m.\u001b[49m\u001b[43minvoke\u001b[49m\u001b[43m(\u001b[49m\n\u001b[32m     11\u001b[39m \u001b[43m    \u001b[49m\u001b[43m{\u001b[49m\u001b[33;43m\"\u001b[39;49m\u001b[33;43mmessages\u001b[39;49m\u001b[33;43m\"\u001b[39;49m\u001b[43m:\u001b[49m\u001b[43m \u001b[49m\u001b[43m[\u001b[49m\u001b[43mHumanMessage\u001b[49m\u001b[43m(\u001b[49m\u001b[43mcontent\u001b[49m\u001b[43m=\u001b[49m\u001b[33;43m\"\u001b[39;49m\u001b[33;43mHi! My name is Niyantarana Tagore and I am an AI Agent Developer.\u001b[39;49m\u001b[33;43m\"\u001b[39;49m\u001b[43m)\u001b[49m\u001b[43m]\u001b[49m\u001b[43m}\u001b[49m\u001b[43m,\u001b[49m\n\u001b[32m     12\u001b[39m \u001b[43m    \u001b[49m\u001b[43mconfig\u001b[49m\u001b[43m  \u001b[49m\u001b[38;5;66;43;03m# Pass config as second parameter!\u001b[39;49;00m\n\u001b[32m     13\u001b[39m \u001b[43m\u001b[49m\u001b[43m)\u001b[49m\n\u001b[32m     15\u001b[39m \u001b[38;5;28;01mfor\u001b[39;00m message \u001b[38;5;129;01min\u001b[39;00m result1[\u001b[33m\"\u001b[39m\u001b[33mmessages\u001b[39m\u001b[33m\"\u001b[39m]:\n\u001b[32m     16\u001b[39m     \u001b[38;5;28;01mif\u001b[39;00m \u001b[38;5;28misinstance\u001b[39m(message, HumanMessage):\n",
      "\u001b[36mFile \u001b[39m\u001b[32m~/miniconda3/envs/bia_genai/lib/python3.11/site-packages/langgraph/pregel/__init__.py:2719\u001b[39m, in \u001b[36mPregel.invoke\u001b[39m\u001b[34m(self, input, config, stream_mode, output_keys, interrupt_before, interrupt_after, checkpoint_during, debug, **kwargs)\u001b[39m\n\u001b[32m   2716\u001b[39m chunks: \u001b[38;5;28mlist\u001b[39m[Union[\u001b[38;5;28mdict\u001b[39m[\u001b[38;5;28mstr\u001b[39m, Any], Any]] = []\n\u001b[32m   2717\u001b[39m interrupts: \u001b[38;5;28mlist\u001b[39m[Interrupt] = []\n\u001b[32m-> \u001b[39m\u001b[32m2719\u001b[39m \u001b[43m\u001b[49m\u001b[38;5;28;43;01mfor\u001b[39;49;00m\u001b[43m \u001b[49m\u001b[43mchunk\u001b[49m\u001b[43m \u001b[49m\u001b[38;5;129;43;01min\u001b[39;49;00m\u001b[43m \u001b[49m\u001b[38;5;28;43mself\u001b[39;49m\u001b[43m.\u001b[49m\u001b[43mstream\u001b[49m\u001b[43m(\u001b[49m\n\u001b[32m   2720\u001b[39m \u001b[43m    \u001b[49m\u001b[38;5;28;43minput\u001b[39;49m\u001b[43m,\u001b[49m\n\u001b[32m   2721\u001b[39m \u001b[43m    \u001b[49m\u001b[43mconfig\u001b[49m\u001b[43m,\u001b[49m\n\u001b[32m   2722\u001b[39m \u001b[43m    \u001b[49m\u001b[43mstream_mode\u001b[49m\u001b[43m=\u001b[49m\u001b[43mstream_mode\u001b[49m\u001b[43m,\u001b[49m\n\u001b[32m   2723\u001b[39m \u001b[43m    \u001b[49m\u001b[43moutput_keys\u001b[49m\u001b[43m=\u001b[49m\u001b[43moutput_keys\u001b[49m\u001b[43m,\u001b[49m\n\u001b[32m   2724\u001b[39m \u001b[43m    \u001b[49m\u001b[43minterrupt_before\u001b[49m\u001b[43m=\u001b[49m\u001b[43minterrupt_before\u001b[49m\u001b[43m,\u001b[49m\n\u001b[32m   2725\u001b[39m \u001b[43m    \u001b[49m\u001b[43minterrupt_after\u001b[49m\u001b[43m=\u001b[49m\u001b[43minterrupt_after\u001b[49m\u001b[43m,\u001b[49m\n\u001b[32m   2726\u001b[39m \u001b[43m    \u001b[49m\u001b[43mcheckpoint_during\u001b[49m\u001b[43m=\u001b[49m\u001b[43mcheckpoint_during\u001b[49m\u001b[43m,\u001b[49m\n\u001b[32m   2727\u001b[39m \u001b[43m    \u001b[49m\u001b[43mdebug\u001b[49m\u001b[43m=\u001b[49m\u001b[43mdebug\u001b[49m\u001b[43m,\u001b[49m\n\u001b[32m   2728\u001b[39m \u001b[43m    \u001b[49m\u001b[43m*\u001b[49m\u001b[43m*\u001b[49m\u001b[43mkwargs\u001b[49m\u001b[43m,\u001b[49m\n\u001b[32m   2729\u001b[39m \u001b[43m\u001b[49m\u001b[43m)\u001b[49m\u001b[43m:\u001b[49m\n\u001b[32m   2730\u001b[39m \u001b[43m    \u001b[49m\u001b[38;5;28;43;01mif\u001b[39;49;00m\u001b[43m \u001b[49m\u001b[43mstream_mode\u001b[49m\u001b[43m \u001b[49m\u001b[43m==\u001b[49m\u001b[43m \u001b[49m\u001b[33;43m\"\u001b[39;49m\u001b[33;43mvalues\u001b[39;49m\u001b[33;43m\"\u001b[39;49m\u001b[43m:\u001b[49m\n\u001b[32m   2731\u001b[39m \u001b[43m        \u001b[49m\u001b[38;5;28;43;01mif\u001b[39;49;00m\u001b[43m \u001b[49m\u001b[43m(\u001b[49m\n\u001b[32m   2732\u001b[39m \u001b[43m            \u001b[49m\u001b[38;5;28;43misinstance\u001b[39;49m\u001b[43m(\u001b[49m\u001b[43mchunk\u001b[49m\u001b[43m,\u001b[49m\u001b[43m \u001b[49m\u001b[38;5;28;43mdict\u001b[39;49m\u001b[43m)\u001b[49m\n\u001b[32m   2733\u001b[39m \u001b[43m            \u001b[49m\u001b[38;5;129;43;01mand\u001b[39;49;00m\u001b[43m \u001b[49m\u001b[43m(\u001b[49m\u001b[43mints\u001b[49m\u001b[43m \u001b[49m\u001b[43m:=\u001b[49m\u001b[43m \u001b[49m\u001b[43mchunk\u001b[49m\u001b[43m.\u001b[49m\u001b[43mget\u001b[49m\u001b[43m(\u001b[49m\u001b[43mINTERRUPT\u001b[49m\u001b[43m)\u001b[49m\u001b[43m)\u001b[49m\u001b[43m \u001b[49m\u001b[38;5;129;43;01mis\u001b[39;49;00m\u001b[43m \u001b[49m\u001b[38;5;129;43;01mnot\u001b[39;49;00m\u001b[43m \u001b[49m\u001b[38;5;28;43;01mNone\u001b[39;49;00m\n\u001b[32m   2734\u001b[39m \u001b[43m        \u001b[49m\u001b[43m)\u001b[49m\u001b[43m:\u001b[49m\n",
      "\u001b[36mFile \u001b[39m\u001b[32m~/miniconda3/envs/bia_genai/lib/python3.11/site-packages/langgraph/pregel/__init__.py:2368\u001b[39m, in \u001b[36mPregel.stream\u001b[39m\u001b[34m(self, input, config, stream_mode, output_keys, interrupt_before, interrupt_after, checkpoint_during, debug, subgraphs)\u001b[39m\n\u001b[32m   2366\u001b[39m \u001b[38;5;28;01mif\u001b[39;00m checkpoint_during \u001b[38;5;129;01mis\u001b[39;00m \u001b[38;5;129;01mnot\u001b[39;00m \u001b[38;5;28;01mNone\u001b[39;00m:\n\u001b[32m   2367\u001b[39m     config[CONF][CONFIG_KEY_CHECKPOINT_DURING] = checkpoint_during\n\u001b[32m-> \u001b[39m\u001b[32m2368\u001b[39m \u001b[38;5;28;01mwith\u001b[39;00m \u001b[43mSyncPregelLoop\u001b[49m\u001b[43m(\u001b[49m\n\u001b[32m   2369\u001b[39m \u001b[43m    \u001b[49m\u001b[38;5;28;43minput\u001b[39;49m\u001b[43m,\u001b[49m\n\u001b[32m   2370\u001b[39m \u001b[43m    \u001b[49m\u001b[43minput_model\u001b[49m\u001b[43m=\u001b[49m\u001b[38;5;28;43mself\u001b[39;49m\u001b[43m.\u001b[49m\u001b[43minput_model\u001b[49m\u001b[43m,\u001b[49m\n\u001b[32m   2371\u001b[39m \u001b[43m    \u001b[49m\u001b[43mstream\u001b[49m\u001b[43m=\u001b[49m\u001b[43mStreamProtocol\u001b[49m\u001b[43m(\u001b[49m\u001b[43mstream\u001b[49m\u001b[43m.\u001b[49m\u001b[43mput\u001b[49m\u001b[43m,\u001b[49m\u001b[43m \u001b[49m\u001b[43mstream_modes\u001b[49m\u001b[43m)\u001b[49m\u001b[43m,\u001b[49m\n\u001b[32m   2372\u001b[39m \u001b[43m    \u001b[49m\u001b[43mconfig\u001b[49m\u001b[43m=\u001b[49m\u001b[43mconfig\u001b[49m\u001b[43m,\u001b[49m\n\u001b[32m   2373\u001b[39m \u001b[43m    \u001b[49m\u001b[43mstore\u001b[49m\u001b[43m=\u001b[49m\u001b[43mstore\u001b[49m\u001b[43m,\u001b[49m\n\u001b[32m   2374\u001b[39m \u001b[43m    \u001b[49m\u001b[43mcache\u001b[49m\u001b[43m=\u001b[49m\u001b[43mcache\u001b[49m\u001b[43m,\u001b[49m\n\u001b[32m   2375\u001b[39m \u001b[43m    \u001b[49m\u001b[43mcheckpointer\u001b[49m\u001b[43m=\u001b[49m\u001b[43mcheckpointer\u001b[49m\u001b[43m,\u001b[49m\n\u001b[32m   2376\u001b[39m \u001b[43m    \u001b[49m\u001b[43mnodes\u001b[49m\u001b[43m=\u001b[49m\u001b[38;5;28;43mself\u001b[39;49m\u001b[43m.\u001b[49m\u001b[43mnodes\u001b[49m\u001b[43m,\u001b[49m\n\u001b[32m   2377\u001b[39m \u001b[43m    \u001b[49m\u001b[43mspecs\u001b[49m\u001b[43m=\u001b[49m\u001b[38;5;28;43mself\u001b[39;49m\u001b[43m.\u001b[49m\u001b[43mchannels\u001b[49m\u001b[43m,\u001b[49m\n\u001b[32m   2378\u001b[39m \u001b[43m    \u001b[49m\u001b[43moutput_keys\u001b[49m\u001b[43m=\u001b[49m\u001b[43moutput_keys\u001b[49m\u001b[43m,\u001b[49m\n\u001b[32m   2379\u001b[39m \u001b[43m    \u001b[49m\u001b[43mstream_keys\u001b[49m\u001b[43m=\u001b[49m\u001b[38;5;28;43mself\u001b[39;49m\u001b[43m.\u001b[49m\u001b[43mstream_channels_asis\u001b[49m\u001b[43m,\u001b[49m\n\u001b[32m   2380\u001b[39m \u001b[43m    \u001b[49m\u001b[43minterrupt_before\u001b[49m\u001b[43m=\u001b[49m\u001b[43minterrupt_before_\u001b[49m\u001b[43m,\u001b[49m\n\u001b[32m   2381\u001b[39m \u001b[43m    \u001b[49m\u001b[43minterrupt_after\u001b[49m\u001b[43m=\u001b[49m\u001b[43minterrupt_after_\u001b[49m\u001b[43m,\u001b[49m\n\u001b[32m   2382\u001b[39m \u001b[43m    \u001b[49m\u001b[43mmanager\u001b[49m\u001b[43m=\u001b[49m\u001b[43mrun_manager\u001b[49m\u001b[43m,\u001b[49m\n\u001b[32m   2383\u001b[39m \u001b[43m    \u001b[49m\u001b[43mdebug\u001b[49m\u001b[43m=\u001b[49m\u001b[43mdebug\u001b[49m\u001b[43m,\u001b[49m\n\u001b[32m   2384\u001b[39m \u001b[43m    \u001b[49m\u001b[43mcheckpoint_during\u001b[49m\u001b[43m=\u001b[49m\u001b[43mcheckpoint_during\u001b[49m\n\u001b[32m   2385\u001b[39m \u001b[43m    \u001b[49m\u001b[38;5;28;43;01mif\u001b[39;49;00m\u001b[43m \u001b[49m\u001b[43mcheckpoint_during\u001b[49m\u001b[43m \u001b[49m\u001b[38;5;129;43;01mis\u001b[39;49;00m\u001b[43m \u001b[49m\u001b[38;5;129;43;01mnot\u001b[39;49;00m\u001b[43m \u001b[49m\u001b[38;5;28;43;01mNone\u001b[39;49;00m\n\u001b[32m   2386\u001b[39m \u001b[43m    \u001b[49m\u001b[38;5;28;43;01melse\u001b[39;49;00m\u001b[43m \u001b[49m\u001b[43mconfig\u001b[49m\u001b[43m[\u001b[49m\u001b[43mCONF\u001b[49m\u001b[43m]\u001b[49m\u001b[43m.\u001b[49m\u001b[43mget\u001b[49m\u001b[43m(\u001b[49m\u001b[43mCONFIG_KEY_CHECKPOINT_DURING\u001b[49m\u001b[43m,\u001b[49m\u001b[43m \u001b[49m\u001b[38;5;28;43;01mTrue\u001b[39;49;00m\u001b[43m)\u001b[49m\u001b[43m,\u001b[49m\n\u001b[32m   2387\u001b[39m \u001b[43m    \u001b[49m\u001b[43mtrigger_to_nodes\u001b[49m\u001b[43m=\u001b[49m\u001b[38;5;28;43mself\u001b[39;49m\u001b[43m.\u001b[49m\u001b[43mtrigger_to_nodes\u001b[49m\u001b[43m,\u001b[49m\n\u001b[32m   2388\u001b[39m \u001b[43m    \u001b[49m\u001b[43mmigrate_checkpoint\u001b[49m\u001b[43m=\u001b[49m\u001b[38;5;28;43mself\u001b[39;49m\u001b[43m.\u001b[49m\u001b[43m_migrate_checkpoint\u001b[49m\u001b[43m,\u001b[49m\n\u001b[32m   2389\u001b[39m \u001b[43m    \u001b[49m\u001b[43mretry_policy\u001b[49m\u001b[43m=\u001b[49m\u001b[38;5;28;43mself\u001b[39;49m\u001b[43m.\u001b[49m\u001b[43mretry_policy\u001b[49m\u001b[43m,\u001b[49m\n\u001b[32m   2390\u001b[39m \u001b[43m    \u001b[49m\u001b[43mcache_policy\u001b[49m\u001b[43m=\u001b[49m\u001b[38;5;28;43mself\u001b[39;49m\u001b[43m.\u001b[49m\u001b[43mcache_policy\u001b[49m\u001b[43m,\u001b[49m\n\u001b[32m   2391\u001b[39m \u001b[43m\u001b[49m\u001b[43m)\u001b[49m \u001b[38;5;28;01mas\u001b[39;00m loop:\n\u001b[32m   2392\u001b[39m     \u001b[38;5;66;03m# create runner\u001b[39;00m\n\u001b[32m   2393\u001b[39m     runner = PregelRunner(\n\u001b[32m   2394\u001b[39m         submit=config[CONF].get(\n\u001b[32m   2395\u001b[39m             CONFIG_KEY_RUNNER_SUBMIT, weakref.WeakMethod(loop.submit)\n\u001b[32m   (...)\u001b[39m\u001b[32m   2398\u001b[39m         node_finished=config[CONF].get(CONFIG_KEY_NODE_FINISHED),\n\u001b[32m   2399\u001b[39m     )\n\u001b[32m   2400\u001b[39m     \u001b[38;5;66;03m# enable subgraph streaming\u001b[39;00m\n",
      "\u001b[36mFile \u001b[39m\u001b[32m~/miniconda3/envs/bia_genai/lib/python3.11/site-packages/langgraph/pregel/loop.py:1041\u001b[39m, in \u001b[36mSyncPregelLoop.__init__\u001b[39m\u001b[34m(self, input, stream, config, store, cache, checkpointer, nodes, specs, trigger_to_nodes, manager, interrupt_after, interrupt_before, output_keys, stream_keys, input_model, debug, migrate_checkpoint, retry_policy, cache_policy, checkpoint_during)\u001b[39m\n\u001b[32m   1039\u001b[39m \u001b[38;5;28mself\u001b[39m.stack = ExitStack()\n\u001b[32m   1040\u001b[39m \u001b[38;5;28;01mif\u001b[39;00m checkpointer:\n\u001b[32m-> \u001b[39m\u001b[32m1041\u001b[39m     \u001b[38;5;28mself\u001b[39m.checkpointer_get_next_version = \u001b[43mcheckpointer\u001b[49m\u001b[43m.\u001b[49m\u001b[43mget_next_version\u001b[49m\n\u001b[32m   1042\u001b[39m     \u001b[38;5;28mself\u001b[39m.checkpointer_put_writes = checkpointer.put_writes\n\u001b[32m   1043\u001b[39m     \u001b[38;5;28mself\u001b[39m.checkpointer_put_writes_accepts_task_path = (\n\u001b[32m   1044\u001b[39m         signature(checkpointer.put_writes).parameters.get(\u001b[33m\"\u001b[39m\u001b[33mtask_path\u001b[39m\u001b[33m\"\u001b[39m)\n\u001b[32m   1045\u001b[39m         \u001b[38;5;129;01mis\u001b[39;00m \u001b[38;5;129;01mnot\u001b[39;00m \u001b[38;5;28;01mNone\u001b[39;00m\n\u001b[32m   1046\u001b[39m     )\n",
      "\u001b[31mAttributeError\u001b[39m: '_GeneratorContextManager' object has no attribute 'get_next_version'"
     ]
    }
   ],
   "source": [
    "def test_memory_chatbot():\n",
    "    print(\"🧠 Testing Chatbot with Memory\")\n",
    "    print(\"=\" * 50)\n",
    "    \n",
    "    # Configuration with thread_id - this is crucial for memory!\n",
    "    config = {\"configurable\": {\"thread_id\": \"conversation_1\"}}\n",
    "    \n",
    "    # First message\n",
    "    print(\"📝 First interaction:\")\n",
    "    result1 = chatbot_with_memory.invoke(\n",
    "        {\"messages\": [HumanMessage(content=\"Hi! My name is Niyantarana Tagore and I am an AI Agent Developer.\")]},\n",
    "        config  # Pass config as second parameter!\n",
    "    )\n",
    "    \n",
    "    for message in result1[\"messages\"]:\n",
    "        if isinstance(message, HumanMessage):\n",
    "            print(f\"👤 Human: {message.content}\")\n",
    "        elif isinstance(message, AIMessage):\n",
    "            print(f\"🤖 AI: {message.content}\")\n",
    "    \n",
    "    print(\"\\n📝 Second interaction (same thread_id):\")\n",
    "    result2 = chatbot_with_memory.invoke(\n",
    "        {\"messages\": [HumanMessage(content=\"What's my name and what I do?\")]},\n",
    "        config  # Same config = same memory!\n",
    "    )\n",
    "    \n",
    "    # Only show the new messages\n",
    "    new_messages = result2[\"messages\"][len(result1[\"messages\"]):]\n",
    "    for message in new_messages:\n",
    "        if isinstance(message, HumanMessage):\n",
    "            print(f\"👤 Human: {message.content}\")\n",
    "        elif isinstance(message, AIMessage):\n",
    "            print(f\"🤖 AI: {message.content}\")\n",
    "    \n",
    "    print(\"\\n✅ Success! The chatbot remembered both your name and Specialization!\")\n",
    "    return result2\n",
    "\n",
    "# Test the memory\n",
    "memory_result = test_memory_chatbot()\n"
   ]
  },
  {
   "cell_type": "code",
   "execution_count": null,
   "id": "1a96967e",
   "metadata": {},
   "outputs": [],
   "source": []
  },
  {
   "cell_type": "code",
   "execution_count": null,
   "id": "8ee05111",
   "metadata": {},
   "outputs": [],
   "source": []
  },
  {
   "cell_type": "code",
   "execution_count": null,
   "id": "8a1f4def",
   "metadata": {},
   "outputs": [],
   "source": []
  },
  {
   "cell_type": "code",
   "execution_count": null,
   "id": "72a1ca5c",
   "metadata": {},
   "outputs": [],
   "source": []
  },
  {
   "cell_type": "code",
   "execution_count": null,
   "id": "78e78499",
   "metadata": {},
   "outputs": [],
   "source": []
  },
  {
   "cell_type": "code",
   "execution_count": null,
   "id": "258e47a4",
   "metadata": {},
   "outputs": [],
   "source": []
  },
  {
   "cell_type": "code",
   "execution_count": null,
   "id": "397aad60",
   "metadata": {},
   "outputs": [],
   "source": []
  },
  {
   "cell_type": "code",
   "execution_count": null,
   "id": "4472868e",
   "metadata": {},
   "outputs": [],
   "source": []
  },
  {
   "cell_type": "code",
   "execution_count": null,
   "id": "eb7199ad",
   "metadata": {},
   "outputs": [],
   "source": []
  },
  {
   "cell_type": "code",
   "execution_count": null,
   "id": "0841a57a",
   "metadata": {},
   "outputs": [],
   "source": []
  }
 ],
 "metadata": {
  "kernelspec": {
   "display_name": "bia_genai",
   "language": "python",
   "name": "python3"
  },
  "language_info": {
   "codemirror_mode": {
    "name": "ipython",
    "version": 3
   },
   "file_extension": ".py",
   "mimetype": "text/x-python",
   "name": "python",
   "nbconvert_exporter": "python",
   "pygments_lexer": "ipython3",
   "version": "3.11.11"
  }
 },
 "nbformat": 4,
 "nbformat_minor": 5
}
