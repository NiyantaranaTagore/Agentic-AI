{
 "cells": [
  {
   "cell_type": "markdown",
   "id": "6ae10d7b",
   "metadata": {},
   "source": [
    "# LangGraph Basic Chatbot Tutorial\n",
    "### Building Your First LangGraph Application\n",
    "\n",
    "Welcome to this hands-on tutorial where you'll build a basic chatbot using LangGraph! This tutorial is based on the [official LangGraph documentation](https://langchain-ai.github.io/langgraph/tutorials/get-started/1-build-basic-chatbot/) and is designed to give you a solid foundation in LangGraph concepts.\n",
    "\n",
    "## 🎯 Learning Objectives\n",
    "\n",
    "By the end of this tutorial, you will:\n",
    "- ✅ Understand what LangGraph is and why it's useful\n",
    "- ✅ Know how to create and structure a StateGraph\n",
    "- ✅ Learn about nodes, edges, and state management\n",
    "- ✅ Build a functional chatbot from scratch\n",
    "- ✅ Understand the basic LangGraph workflow\n",
    "\n",
    "## 📋 What We'll Build\n",
    "\n",
    "We'll create a simple chatbot that:\n",
    "- Maintains conversation state\n",
    "- Responds to user messages using an LLM\n",
    "- Demonstrates core LangGraph concepts\n",
    "- Forms the foundation for more advanced features\n",
    "\n",
    "Let's get started! 🚀\n"
   ]
  },
  {
   "cell_type": "markdown",
   "id": "37b6ca27",
   "metadata": {},
   "source": [
    "## Prerequisites\n",
    "\n",
    "Before we start, make sure you have:\n",
    "\n",
    "1. **Python 3.8+** installed on your system\n",
    "2. **Access to an LLM provider** that supports tool-calling features:\n",
    "   - OpenAI (GPT-4, GPT-3.5-turbo)\n",
    "   - Anthropic (Claude)\n",
    "   - Google Gemini\n",
    "   - Azure OpenAI\n",
    "   - AWS Bedrock\n",
    "\n",
    "3. **API credentials** for your chosen LLM provider\n",
    "4. **Basic Python knowledge** - understanding of functions, dictionaries, and classes\n",
    "\n",
    "> **💡 Tip:** We recommend starting with OpenAI or Anthropic as they have excellent tool-calling capabilities and extensive documentation.\n"
   ]
  },
  {
   "cell_type": "markdown",
   "id": "0422261a",
   "metadata": {},
   "source": [
    "### Install the required Packages"
   ]
  },
  {
   "cell_type": "code",
   "execution_count": 44,
   "id": "57a605a4",
   "metadata": {},
   "outputs": [
    {
     "name": "stdout",
     "output_type": "stream",
     "text": [
      "Requirement already satisfied: langgraph in /Users/niyantarana/miniconda3/envs/bia_genai/lib/python3.11/site-packages (0.4.7)\n",
      "Requirement already satisfied: langsmith in /Users/niyantarana/miniconda3/envs/bia_genai/lib/python3.11/site-packages (0.4.1)\n",
      "Requirement already satisfied: langchain-core>=0.1 in /Users/niyantarana/miniconda3/envs/bia_genai/lib/python3.11/site-packages (from langgraph) (0.3.66)\n",
      "Requirement already satisfied: langgraph-checkpoint>=2.0.26 in /Users/niyantarana/miniconda3/envs/bia_genai/lib/python3.11/site-packages (from langgraph) (2.0.26)\n",
      "Requirement already satisfied: langgraph-prebuilt>=0.2.0 in /Users/niyantarana/miniconda3/envs/bia_genai/lib/python3.11/site-packages (from langgraph) (0.2.2)\n",
      "Requirement already satisfied: langgraph-sdk>=0.1.42 in /Users/niyantarana/miniconda3/envs/bia_genai/lib/python3.11/site-packages (from langgraph) (0.1.70)\n",
      "Requirement already satisfied: pydantic>=2.7.4 in /Users/niyantarana/miniconda3/envs/bia_genai/lib/python3.11/site-packages (from langgraph) (2.11.4)\n",
      "Requirement already satisfied: xxhash>=3.5.0 in /Users/niyantarana/miniconda3/envs/bia_genai/lib/python3.11/site-packages (from langgraph) (3.5.0)\n",
      "Requirement already satisfied: httpx<1,>=0.23.0 in /Users/niyantarana/miniconda3/envs/bia_genai/lib/python3.11/site-packages (from langsmith) (0.28.1)\n",
      "Requirement already satisfied: orjson<4.0.0,>=3.9.14 in /Users/niyantarana/miniconda3/envs/bia_genai/lib/python3.11/site-packages (from langsmith) (3.10.18)\n",
      "Requirement already satisfied: packaging>=23.2 in /Users/niyantarana/miniconda3/envs/bia_genai/lib/python3.11/site-packages (from langsmith) (24.2)\n",
      "Requirement already satisfied: requests<3,>=2 in /Users/niyantarana/miniconda3/envs/bia_genai/lib/python3.11/site-packages (from langsmith) (2.32.3)\n",
      "Requirement already satisfied: requests-toolbelt<2.0.0,>=1.0.0 in /Users/niyantarana/miniconda3/envs/bia_genai/lib/python3.11/site-packages (from langsmith) (1.0.0)\n",
      "Requirement already satisfied: zstandard<0.24.0,>=0.23.0 in /Users/niyantarana/miniconda3/envs/bia_genai/lib/python3.11/site-packages (from langsmith) (0.23.0)\n",
      "Requirement already satisfied: anyio in /Users/niyantarana/miniconda3/envs/bia_genai/lib/python3.11/site-packages (from httpx<1,>=0.23.0->langsmith) (4.9.0)\n",
      "Requirement already satisfied: certifi in /Users/niyantarana/miniconda3/envs/bia_genai/lib/python3.11/site-packages (from httpx<1,>=0.23.0->langsmith) (2025.4.26)\n",
      "Requirement already satisfied: httpcore==1.* in /Users/niyantarana/miniconda3/envs/bia_genai/lib/python3.11/site-packages (from httpx<1,>=0.23.0->langsmith) (1.0.9)\n",
      "Requirement already satisfied: idna in /Users/niyantarana/miniconda3/envs/bia_genai/lib/python3.11/site-packages (from httpx<1,>=0.23.0->langsmith) (3.10)\n",
      "Requirement already satisfied: h11>=0.16 in /Users/niyantarana/miniconda3/envs/bia_genai/lib/python3.11/site-packages (from httpcore==1.*->httpx<1,>=0.23.0->langsmith) (0.16.0)\n",
      "Requirement already satisfied: annotated-types>=0.6.0 in /Users/niyantarana/miniconda3/envs/bia_genai/lib/python3.11/site-packages (from pydantic>=2.7.4->langgraph) (0.7.0)\n",
      "Requirement already satisfied: pydantic-core==2.33.2 in /Users/niyantarana/miniconda3/envs/bia_genai/lib/python3.11/site-packages (from pydantic>=2.7.4->langgraph) (2.33.2)\n",
      "Requirement already satisfied: typing-extensions>=4.12.2 in /Users/niyantarana/miniconda3/envs/bia_genai/lib/python3.11/site-packages (from pydantic>=2.7.4->langgraph) (4.13.2)\n",
      "Requirement already satisfied: typing-inspection>=0.4.0 in /Users/niyantarana/miniconda3/envs/bia_genai/lib/python3.11/site-packages (from pydantic>=2.7.4->langgraph) (0.4.0)\n",
      "Requirement already satisfied: charset-normalizer<4,>=2 in /Users/niyantarana/miniconda3/envs/bia_genai/lib/python3.11/site-packages (from requests<3,>=2->langsmith) (3.4.2)\n",
      "Requirement already satisfied: urllib3<3,>=1.21.1 in /Users/niyantarana/miniconda3/envs/bia_genai/lib/python3.11/site-packages (from requests<3,>=2->langsmith) (2.4.0)\n",
      "Requirement already satisfied: tenacity!=8.4.0,<10.0.0,>=8.1.0 in /Users/niyantarana/miniconda3/envs/bia_genai/lib/python3.11/site-packages (from langchain-core>=0.1->langgraph) (9.1.2)\n",
      "Requirement already satisfied: jsonpatch<2.0,>=1.33 in /Users/niyantarana/miniconda3/envs/bia_genai/lib/python3.11/site-packages (from langchain-core>=0.1->langgraph) (1.33)\n",
      "Requirement already satisfied: PyYAML>=5.3 in /Users/niyantarana/miniconda3/envs/bia_genai/lib/python3.11/site-packages (from langchain-core>=0.1->langgraph) (6.0.2)\n",
      "Requirement already satisfied: jsonpointer>=1.9 in /Users/niyantarana/miniconda3/envs/bia_genai/lib/python3.11/site-packages (from jsonpatch<2.0,>=1.33->langchain-core>=0.1->langgraph) (3.0.0)\n",
      "Requirement already satisfied: ormsgpack<2.0.0,>=1.8.0 in /Users/niyantarana/miniconda3/envs/bia_genai/lib/python3.11/site-packages (from langgraph-checkpoint>=2.0.26->langgraph) (1.10.0)\n",
      "Requirement already satisfied: sniffio>=1.1 in /Users/niyantarana/miniconda3/envs/bia_genai/lib/python3.11/site-packages (from anyio->httpx<1,>=0.23.0->langsmith) (1.3.1)\n",
      "Requirement already satisfied: langchain[openai] in /Users/niyantarana/miniconda3/envs/bia_genai/lib/python3.11/site-packages (0.3.26)\n",
      "Requirement already satisfied: langchain-core<1.0.0,>=0.3.66 in /Users/niyantarana/miniconda3/envs/bia_genai/lib/python3.11/site-packages (from langchain[openai]) (0.3.66)\n",
      "Requirement already satisfied: langchain-text-splitters<1.0.0,>=0.3.8 in /Users/niyantarana/miniconda3/envs/bia_genai/lib/python3.11/site-packages (from langchain[openai]) (0.3.8)\n",
      "Requirement already satisfied: langsmith>=0.1.17 in /Users/niyantarana/miniconda3/envs/bia_genai/lib/python3.11/site-packages (from langchain[openai]) (0.4.1)\n",
      "Requirement already satisfied: pydantic<3.0.0,>=2.7.4 in /Users/niyantarana/miniconda3/envs/bia_genai/lib/python3.11/site-packages (from langchain[openai]) (2.11.4)\n",
      "Requirement already satisfied: SQLAlchemy<3,>=1.4 in /Users/niyantarana/miniconda3/envs/bia_genai/lib/python3.11/site-packages (from langchain[openai]) (2.0.41)\n",
      "Requirement already satisfied: requests<3,>=2 in /Users/niyantarana/miniconda3/envs/bia_genai/lib/python3.11/site-packages (from langchain[openai]) (2.32.3)\n",
      "Requirement already satisfied: PyYAML>=5.3 in /Users/niyantarana/miniconda3/envs/bia_genai/lib/python3.11/site-packages (from langchain[openai]) (6.0.2)\n",
      "Requirement already satisfied: langchain-openai in /Users/niyantarana/miniconda3/envs/bia_genai/lib/python3.11/site-packages (from langchain[openai]) (0.3.18)\n",
      "Requirement already satisfied: tenacity!=8.4.0,<10.0.0,>=8.1.0 in /Users/niyantarana/miniconda3/envs/bia_genai/lib/python3.11/site-packages (from langchain-core<1.0.0,>=0.3.66->langchain[openai]) (9.1.2)\n",
      "Requirement already satisfied: jsonpatch<2.0,>=1.33 in /Users/niyantarana/miniconda3/envs/bia_genai/lib/python3.11/site-packages (from langchain-core<1.0.0,>=0.3.66->langchain[openai]) (1.33)\n",
      "Requirement already satisfied: packaging<25,>=23.2 in /Users/niyantarana/miniconda3/envs/bia_genai/lib/python3.11/site-packages (from langchain-core<1.0.0,>=0.3.66->langchain[openai]) (24.2)\n",
      "Requirement already satisfied: typing-extensions>=4.7 in /Users/niyantarana/miniconda3/envs/bia_genai/lib/python3.11/site-packages (from langchain-core<1.0.0,>=0.3.66->langchain[openai]) (4.13.2)\n",
      "Requirement already satisfied: jsonpointer>=1.9 in /Users/niyantarana/miniconda3/envs/bia_genai/lib/python3.11/site-packages (from jsonpatch<2.0,>=1.33->langchain-core<1.0.0,>=0.3.66->langchain[openai]) (3.0.0)\n",
      "Requirement already satisfied: annotated-types>=0.6.0 in /Users/niyantarana/miniconda3/envs/bia_genai/lib/python3.11/site-packages (from pydantic<3.0.0,>=2.7.4->langchain[openai]) (0.7.0)\n",
      "Requirement already satisfied: pydantic-core==2.33.2 in /Users/niyantarana/miniconda3/envs/bia_genai/lib/python3.11/site-packages (from pydantic<3.0.0,>=2.7.4->langchain[openai]) (2.33.2)\n",
      "Requirement already satisfied: typing-inspection>=0.4.0 in /Users/niyantarana/miniconda3/envs/bia_genai/lib/python3.11/site-packages (from pydantic<3.0.0,>=2.7.4->langchain[openai]) (0.4.0)\n",
      "Requirement already satisfied: charset-normalizer<4,>=2 in /Users/niyantarana/miniconda3/envs/bia_genai/lib/python3.11/site-packages (from requests<3,>=2->langchain[openai]) (3.4.2)\n",
      "Requirement already satisfied: idna<4,>=2.5 in /Users/niyantarana/miniconda3/envs/bia_genai/lib/python3.11/site-packages (from requests<3,>=2->langchain[openai]) (3.10)\n",
      "Requirement already satisfied: urllib3<3,>=1.21.1 in /Users/niyantarana/miniconda3/envs/bia_genai/lib/python3.11/site-packages (from requests<3,>=2->langchain[openai]) (2.4.0)\n",
      "Requirement already satisfied: certifi>=2017.4.17 in /Users/niyantarana/miniconda3/envs/bia_genai/lib/python3.11/site-packages (from requests<3,>=2->langchain[openai]) (2025.4.26)\n",
      "Requirement already satisfied: greenlet>=1 in /Users/niyantarana/miniconda3/envs/bia_genai/lib/python3.11/site-packages (from SQLAlchemy<3,>=1.4->langchain[openai]) (3.2.2)\n",
      "Requirement already satisfied: httpx<1,>=0.23.0 in /Users/niyantarana/miniconda3/envs/bia_genai/lib/python3.11/site-packages (from langsmith>=0.1.17->langchain[openai]) (0.28.1)\n",
      "Requirement already satisfied: orjson<4.0.0,>=3.9.14 in /Users/niyantarana/miniconda3/envs/bia_genai/lib/python3.11/site-packages (from langsmith>=0.1.17->langchain[openai]) (3.10.18)\n",
      "Requirement already satisfied: requests-toolbelt<2.0.0,>=1.0.0 in /Users/niyantarana/miniconda3/envs/bia_genai/lib/python3.11/site-packages (from langsmith>=0.1.17->langchain[openai]) (1.0.0)\n",
      "Requirement already satisfied: zstandard<0.24.0,>=0.23.0 in /Users/niyantarana/miniconda3/envs/bia_genai/lib/python3.11/site-packages (from langsmith>=0.1.17->langchain[openai]) (0.23.0)\n",
      "Requirement already satisfied: anyio in /Users/niyantarana/miniconda3/envs/bia_genai/lib/python3.11/site-packages (from httpx<1,>=0.23.0->langsmith>=0.1.17->langchain[openai]) (4.9.0)\n",
      "Requirement already satisfied: httpcore==1.* in /Users/niyantarana/miniconda3/envs/bia_genai/lib/python3.11/site-packages (from httpx<1,>=0.23.0->langsmith>=0.1.17->langchain[openai]) (1.0.9)\n",
      "Requirement already satisfied: h11>=0.16 in /Users/niyantarana/miniconda3/envs/bia_genai/lib/python3.11/site-packages (from httpcore==1.*->httpx<1,>=0.23.0->langsmith>=0.1.17->langchain[openai]) (0.16.0)\n",
      "Requirement already satisfied: sniffio>=1.1 in /Users/niyantarana/miniconda3/envs/bia_genai/lib/python3.11/site-packages (from anyio->httpx<1,>=0.23.0->langsmith>=0.1.17->langchain[openai]) (1.3.1)\n",
      "Requirement already satisfied: openai<2.0.0,>=1.68.2 in /Users/niyantarana/miniconda3/envs/bia_genai/lib/python3.11/site-packages (from langchain-openai->langchain[openai]) (1.82.1)\n",
      "Requirement already satisfied: tiktoken<1,>=0.7 in /Users/niyantarana/miniconda3/envs/bia_genai/lib/python3.11/site-packages (from langchain-openai->langchain[openai]) (0.9.0)\n",
      "Requirement already satisfied: distro<2,>=1.7.0 in /Users/niyantarana/miniconda3/envs/bia_genai/lib/python3.11/site-packages (from openai<2.0.0,>=1.68.2->langchain-openai->langchain[openai]) (1.9.0)\n",
      "Requirement already satisfied: jiter<1,>=0.4.0 in /Users/niyantarana/miniconda3/envs/bia_genai/lib/python3.11/site-packages (from openai<2.0.0,>=1.68.2->langchain-openai->langchain[openai]) (0.10.0)\n",
      "Requirement already satisfied: tqdm>4 in /Users/niyantarana/miniconda3/envs/bia_genai/lib/python3.11/site-packages (from openai<2.0.0,>=1.68.2->langchain-openai->langchain[openai]) (4.67.1)\n",
      "Requirement already satisfied: regex>=2022.1.18 in /Users/niyantarana/miniconda3/envs/bia_genai/lib/python3.11/site-packages (from tiktoken<1,>=0.7->langchain-openai->langchain[openai]) (2024.11.6)\n",
      "Requirement already satisfied: langchain[anthropic] in /Users/niyantarana/miniconda3/envs/bia_genai/lib/python3.11/site-packages (0.3.26)\n",
      "Requirement already satisfied: langchain-core<1.0.0,>=0.3.66 in /Users/niyantarana/miniconda3/envs/bia_genai/lib/python3.11/site-packages (from langchain[anthropic]) (0.3.66)\n",
      "Requirement already satisfied: langchain-text-splitters<1.0.0,>=0.3.8 in /Users/niyantarana/miniconda3/envs/bia_genai/lib/python3.11/site-packages (from langchain[anthropic]) (0.3.8)\n",
      "Requirement already satisfied: langsmith>=0.1.17 in /Users/niyantarana/miniconda3/envs/bia_genai/lib/python3.11/site-packages (from langchain[anthropic]) (0.4.1)\n",
      "Requirement already satisfied: pydantic<3.0.0,>=2.7.4 in /Users/niyantarana/miniconda3/envs/bia_genai/lib/python3.11/site-packages (from langchain[anthropic]) (2.11.4)\n",
      "Requirement already satisfied: SQLAlchemy<3,>=1.4 in /Users/niyantarana/miniconda3/envs/bia_genai/lib/python3.11/site-packages (from langchain[anthropic]) (2.0.41)\n",
      "Requirement already satisfied: requests<3,>=2 in /Users/niyantarana/miniconda3/envs/bia_genai/lib/python3.11/site-packages (from langchain[anthropic]) (2.32.3)\n",
      "Requirement already satisfied: PyYAML>=5.3 in /Users/niyantarana/miniconda3/envs/bia_genai/lib/python3.11/site-packages (from langchain[anthropic]) (6.0.2)\n",
      "Requirement already satisfied: langchain-anthropic in /Users/niyantarana/miniconda3/envs/bia_genai/lib/python3.11/site-packages (from langchain[anthropic]) (0.3.15)\n",
      "Requirement already satisfied: tenacity!=8.4.0,<10.0.0,>=8.1.0 in /Users/niyantarana/miniconda3/envs/bia_genai/lib/python3.11/site-packages (from langchain-core<1.0.0,>=0.3.66->langchain[anthropic]) (9.1.2)\n",
      "Requirement already satisfied: jsonpatch<2.0,>=1.33 in /Users/niyantarana/miniconda3/envs/bia_genai/lib/python3.11/site-packages (from langchain-core<1.0.0,>=0.3.66->langchain[anthropic]) (1.33)\n",
      "Requirement already satisfied: packaging<25,>=23.2 in /Users/niyantarana/miniconda3/envs/bia_genai/lib/python3.11/site-packages (from langchain-core<1.0.0,>=0.3.66->langchain[anthropic]) (24.2)\n",
      "Requirement already satisfied: typing-extensions>=4.7 in /Users/niyantarana/miniconda3/envs/bia_genai/lib/python3.11/site-packages (from langchain-core<1.0.0,>=0.3.66->langchain[anthropic]) (4.13.2)\n",
      "Requirement already satisfied: jsonpointer>=1.9 in /Users/niyantarana/miniconda3/envs/bia_genai/lib/python3.11/site-packages (from jsonpatch<2.0,>=1.33->langchain-core<1.0.0,>=0.3.66->langchain[anthropic]) (3.0.0)\n",
      "Requirement already satisfied: annotated-types>=0.6.0 in /Users/niyantarana/miniconda3/envs/bia_genai/lib/python3.11/site-packages (from pydantic<3.0.0,>=2.7.4->langchain[anthropic]) (0.7.0)\n",
      "Requirement already satisfied: pydantic-core==2.33.2 in /Users/niyantarana/miniconda3/envs/bia_genai/lib/python3.11/site-packages (from pydantic<3.0.0,>=2.7.4->langchain[anthropic]) (2.33.2)\n",
      "Requirement already satisfied: typing-inspection>=0.4.0 in /Users/niyantarana/miniconda3/envs/bia_genai/lib/python3.11/site-packages (from pydantic<3.0.0,>=2.7.4->langchain[anthropic]) (0.4.0)\n",
      "Requirement already satisfied: charset-normalizer<4,>=2 in /Users/niyantarana/miniconda3/envs/bia_genai/lib/python3.11/site-packages (from requests<3,>=2->langchain[anthropic]) (3.4.2)\n",
      "Requirement already satisfied: idna<4,>=2.5 in /Users/niyantarana/miniconda3/envs/bia_genai/lib/python3.11/site-packages (from requests<3,>=2->langchain[anthropic]) (3.10)\n",
      "Requirement already satisfied: urllib3<3,>=1.21.1 in /Users/niyantarana/miniconda3/envs/bia_genai/lib/python3.11/site-packages (from requests<3,>=2->langchain[anthropic]) (2.4.0)\n",
      "Requirement already satisfied: certifi>=2017.4.17 in /Users/niyantarana/miniconda3/envs/bia_genai/lib/python3.11/site-packages (from requests<3,>=2->langchain[anthropic]) (2025.4.26)\n",
      "Requirement already satisfied: greenlet>=1 in /Users/niyantarana/miniconda3/envs/bia_genai/lib/python3.11/site-packages (from SQLAlchemy<3,>=1.4->langchain[anthropic]) (3.2.2)\n",
      "Requirement already satisfied: httpx<1,>=0.23.0 in /Users/niyantarana/miniconda3/envs/bia_genai/lib/python3.11/site-packages (from langsmith>=0.1.17->langchain[anthropic]) (0.28.1)\n",
      "Requirement already satisfied: orjson<4.0.0,>=3.9.14 in /Users/niyantarana/miniconda3/envs/bia_genai/lib/python3.11/site-packages (from langsmith>=0.1.17->langchain[anthropic]) (3.10.18)\n",
      "Requirement already satisfied: requests-toolbelt<2.0.0,>=1.0.0 in /Users/niyantarana/miniconda3/envs/bia_genai/lib/python3.11/site-packages (from langsmith>=0.1.17->langchain[anthropic]) (1.0.0)\n",
      "Requirement already satisfied: zstandard<0.24.0,>=0.23.0 in /Users/niyantarana/miniconda3/envs/bia_genai/lib/python3.11/site-packages (from langsmith>=0.1.17->langchain[anthropic]) (0.23.0)\n",
      "Requirement already satisfied: anyio in /Users/niyantarana/miniconda3/envs/bia_genai/lib/python3.11/site-packages (from httpx<1,>=0.23.0->langsmith>=0.1.17->langchain[anthropic]) (4.9.0)\n",
      "Requirement already satisfied: httpcore==1.* in /Users/niyantarana/miniconda3/envs/bia_genai/lib/python3.11/site-packages (from httpx<1,>=0.23.0->langsmith>=0.1.17->langchain[anthropic]) (1.0.9)\n",
      "Requirement already satisfied: h11>=0.16 in /Users/niyantarana/miniconda3/envs/bia_genai/lib/python3.11/site-packages (from httpcore==1.*->httpx<1,>=0.23.0->langsmith>=0.1.17->langchain[anthropic]) (0.16.0)\n",
      "Requirement already satisfied: sniffio>=1.1 in /Users/niyantarana/miniconda3/envs/bia_genai/lib/python3.11/site-packages (from anyio->httpx<1,>=0.23.0->langsmith>=0.1.17->langchain[anthropic]) (1.3.1)\n",
      "Requirement already satisfied: anthropic<1,>=0.52.0 in /Users/niyantarana/miniconda3/envs/bia_genai/lib/python3.11/site-packages (from langchain-anthropic->langchain[anthropic]) (0.54.0)\n",
      "Requirement already satisfied: distro<2,>=1.7.0 in /Users/niyantarana/miniconda3/envs/bia_genai/lib/python3.11/site-packages (from anthropic<1,>=0.52.0->langchain-anthropic->langchain[anthropic]) (1.9.0)\n",
      "Requirement already satisfied: jiter<1,>=0.4.0 in /Users/niyantarana/miniconda3/envs/bia_genai/lib/python3.11/site-packages (from anthropic<1,>=0.52.0->langchain-anthropic->langchain[anthropic]) (0.10.0)\n"
     ]
    }
   ],
   "source": [
    "!pip install langgraph langsmith\n",
    "\n",
    "!pip install -U \"langchain[openai]\"\n",
    "\n",
    "!pip install -U \"langchain[anthropic]\"\n",
    "\n",
    "\n"
   ]
  },
  {
   "cell_type": "markdown",
   "id": "b2bb3cfd",
   "metadata": {},
   "source": [
    "### 📚 About LangSmith\n",
    "\n",
    "**LangSmith** is LangChain's observability platform that helps you:\n",
    "- **Debug** your LangGraph applications\n",
    "- **Monitor** performance and costs\n",
    "- **Test** and evaluate your AI systems\n",
    "- **Trace** execution flows\n",
    "\n",
    "> **💡 Pro Tip:** Sign up for [LangSmith](https://langsmith.langchain.com/) to get detailed insights into your LangGraph applications. It's invaluable for development and debugging!\n"
   ]
  },
  {
   "cell_type": "markdown",
   "id": "e3c5ea4b",
   "metadata": {},
   "source": [
    "### Step 2: Create StateGraph"
   ]
  },
  {
   "cell_type": "code",
   "execution_count": 45,
   "id": "943a257c",
   "metadata": {},
   "outputs": [],
   "source": [
    "from typing import Annotated\n",
    "from typing_extensions import TypedDict\n",
    "\n",
    "from langgraph.graph import StateGraph, START, END\n",
    "from langgraph.graph.message import add_messages"
   ]
  },
  {
   "cell_type": "code",
   "execution_count": 46,
   "id": "23848b56",
   "metadata": {},
   "outputs": [],
   "source": [
    "class State(TypedDict):\n",
    "    messages: Annotated[list, add_messages]"
   ]
  },
  {
   "cell_type": "code",
   "execution_count": 47,
   "id": "fd04b6a8",
   "metadata": {},
   "outputs": [],
   "source": [
    "graph_builder= StateGraph(State)"
   ]
  },
  {
   "cell_type": "markdown",
   "id": "2601e797-9ee2-4a6e-b90f-09434e7fbe8a",
   "metadata": {},
   "source": [
    "### Step -3 Set up of Language Model"
   ]
  },
  {
   "cell_type": "code",
   "execution_count": 48,
   "id": "1466b275",
   "metadata": {},
   "outputs": [],
   "source": [
    "import os \n",
    "from langchain.chat_models import init_chat_model\n",
    "\n",
    "os.getenv(\"OPENAI_API_KEY\")\n",
    "llm = init_chat_model(\"openai:gpt-4o\")"
   ]
  },
  {
   "cell_type": "code",
   "execution_count": 49,
   "id": "182040ab",
   "metadata": {},
   "outputs": [
    {
     "data": {
      "text/plain": [
       "AIMessage(content='Hello! How can I assist you today?', additional_kwargs={'refusal': None}, response_metadata={'token_usage': {'completion_tokens': 9, 'prompt_tokens': 8, 'total_tokens': 17, 'completion_tokens_details': {'accepted_prediction_tokens': 0, 'audio_tokens': 0, 'reasoning_tokens': 0, 'rejected_prediction_tokens': 0}, 'prompt_tokens_details': {'audio_tokens': 0, 'cached_tokens': 0}}, 'model_name': 'gpt-4o-2024-08-06', 'system_fingerprint': 'fp_a288987b44', 'id': 'chatcmpl-BlC6ZaPwlLS2eEtd1SRPp1R7muDcl', 'service_tier': 'default', 'finish_reason': 'stop', 'logprobs': None}, id='run--8fd5c053-61cf-42bd-bd67-e79cc8eb78e1-0', usage_metadata={'input_tokens': 8, 'output_tokens': 9, 'total_tokens': 17, 'input_token_details': {'audio': 0, 'cache_read': 0}, 'output_token_details': {'audio': 0, 'reasoning': 0}})"
      ]
     },
     "execution_count": 49,
     "metadata": {},
     "output_type": "execute_result"
    }
   ],
   "source": [
    "llm.invoke(\"hi\")"
   ]
  },
  {
   "cell_type": "markdown",
   "id": "f5c678b1-5702-44b1-b5af-27d872e3ea7d",
   "metadata": {},
   "source": [
    "## Step 4: Add a Node\n",
    "\n",
    "Now we'll add our first node to the graph. **Nodes** represent units of work and are typically regular Python functions.\n",
    "\n",
    "### 🔧 Understanding Nodes\n",
    "\n",
    "- **Input**: Nodes receive the current `State`\n",
    "- **Processing**: They perform some work (like calling an LLM)\n",
    "- **Output**: They return a dictionary with state updates\n",
    "- **Pattern**: All LangGraph node functions follow this pattern\n"
   ]
  },
  {
   "cell_type": "code",
   "execution_count": 50,
   "id": "588b1cd6-ef28-4ba8-8caa-c9ba86207535",
   "metadata": {},
   "outputs": [],
   "source": [
    "def chatbot(state: State):\n",
    "    response = llm.invoke(state['messages'])\n",
    "    return {\"messages\": [response]}\n",
    "    \n",
    "\n",
    "               "
   ]
  },
  {
   "cell_type": "code",
   "execution_count": 51,
   "id": "e46934e0-e5a9-4c99-8021-0feca077e040",
   "metadata": {},
   "outputs": [],
   "source": [
    "graph_builder.add_node(\"node_1\",chatbot)\n",
    "graph_builder.add_edge(START,\"node_1\")\n",
    "\n",
    "graph_builder.add_edge(\"node_1\", END)\n",
    "\n",
    "graph = graph_builder.compile()\n"
   ]
  },
  {
   "cell_type": "code",
   "execution_count": 52,
   "id": "b85344db-0a86-4268-aa9e-19f70fd11ee5",
   "metadata": {},
   "outputs": [
    {
     "name": "stdout",
     "output_type": "stream",
     "text": [
      "📊 Graph Visualization:\n",
      "==============================\n",
      "ASCII visualization not available: Install grandalf to draw graphs: `pip install grandalf`.\n",
      "Simple Graph Structure:\n",
      "┌─────────┐\n",
      "│  START  │\n",
      "└────┬────┘\n",
      "     │\n",
      "     ▼\n",
      "┌─────────┐\n",
      "│ chatbot │\n",
      "└─────────┘\n",
      "\n",
      "==============================\n"
     ]
    },
    {
     "data": {
      "image/png": "[encoded data removed]",
      "text/plain": [
       "<IPython.core.display.Image object>"
      ]
     },
     "metadata": {},
     "output_type": "display_data"
    },
    {
     "name": "stdout",
     "output_type": "stream",
     "text": [
      "🎨 Professional diagram displayed above!\n",
      "\n",
      "✅ Graph structure visualized!\n",
      "📈 Our simple chatbot has one node connected to START\n"
     ]
    }
   ],
   "source": [
    "# Visualize our graph structure\n",
    "print(\"📊 Graph Visualization:\")\n",
    "print(\"=\" * 30)\n",
    "\n",
    "# ASCII visualization (always works)\n",
    "try:\n",
    "    ascii_viz = graph.get_graph().draw_ascii()\n",
    "    print(ascii_viz)\n",
    "except Exception as e:\n",
    "    print(\"ASCII visualization not available:\", e)\n",
    "    # Fallback simple visualization\n",
    "    print(\"Simple Graph Structure:\")\n",
    "    print(\"┌─────────┐\")\n",
    "    print(\"│  START  │\")\n",
    "    print(\"└────┬────┘\")\n",
    "    print(\"     │\")\n",
    "    print(\"     ▼\")\n",
    "    print(\"┌─────────┐\")\n",
    "    print(\"│ chatbot │\")\n",
    "    print(\"└─────────┘\")\n",
    "\n",
    "print(\"\\n\" + \"=\" * 30)\n",
    "\n",
    "# Try to display a more professional diagram (if dependencies are available)\n",
    "try:\n",
    "    from IPython.display import Image, display\n",
    "    display(Image(graph.get_graph().draw_mermaid_png()))\n",
    "    print(\"🎨 Professional diagram displayed above!\")\n",
    "except Exception as e:\n",
    "    print(\"🎨 Professional visualization not available (this is normal)\")\n",
    "    print(\"💡 To enable: pip install 'langgraph[visualization]'\")\n",
    "\n",
    "print(\"\\n✅ Graph structure visualized!\")\n",
    "print(\"📈 Our simple chatbot has one node connected to START\")\n"
   ]
  },
  {
   "cell_type": "code",
   "execution_count": 53,
   "id": "271433ed-e0c1-4c36-a0f7-04b795741a91",
   "metadata": {},
   "outputs": [
    {
     "name": "stdout",
     "output_type": "stream",
     "text": [
      "🚀 Testing our LangGraph chatbot:\n",
      "==================================================\n"
     ]
    }
   ],
   "source": [
    "def stream_graph_updates(user_input: str):\n",
    "    \"\"\"\n",
    "    Stream updates from our graph execution.\n",
    "    \n",
    "    This function:\n",
    "    1. Creates initial state with user message\n",
    "    2. Streams graph execution results\n",
    "    3. Displays assistant responses\n",
    "    \n",
    "    Args:\n",
    "        user_input: The user's message\n",
    "    \"\"\"\n",
    "    print(f\"\\n👤 User: {user_input}\")\n",
    "    print(\"🔄 Processing...\")\n",
    "    \n",
    "    # Create initial state with user message\n",
    "    initial_state = {\n",
    "        \"messages\": [{\"role\": \"user\", \"content\": user_input}]\n",
    "    }\n",
    "    \n",
    "    # Stream the graph execution\n",
    "    for event in graph.stream(initial_state):\n",
    "        for value in event.values():\n",
    "            # Get the latest message (assistant's response)\n",
    "            if value[\"messages\"]:\n",
    "                latest_message = value[\"messages\"][-1]\n",
    "                print(f\"🤖 Assistant: {latest_message.content}\")\n",
    "\n",
    "# Test our chatbot with some sample interactions\n",
    "print(\"🚀 Testing our LangGraph chatbot:\")\n",
    "print(\"=\" * 50)\n"
   ]
  },
  {
   "cell_type": "code",
   "execution_count": 54,
   "id": "5f86e412-61ef-4abf-9d1a-9633874f4469",
   "metadata": {},
   "outputs": [
    {
     "name": "stdout",
     "output_type": "stream",
     "text": [
      "\n",
      "👤 User: Hello\n",
      "🔄 Processing...\n"
     ]
    },
    {
     "name": "stdout",
     "output_type": "stream",
     "text": [
      "🤖 Assistant: Hello! How can I assist you today?\n"
     ]
    }
   ],
   "source": [
    "stream_graph_updates(\"Hello\")"
   ]
  },
  {
   "cell_type": "code",
   "execution_count": 55,
   "id": "050a3e78-c552-4c95-8fd8-e1321c5686a0",
   "metadata": {},
   "outputs": [
    {
     "name": "stdout",
     "output_type": "stream",
     "text": [
      "\n",
      "👤 User: which number is bigger 10.5 and 10.1\n",
      "🔄 Processing...\n",
      "🤖 Assistant: The number 10.5 is bigger than 10.1.\n"
     ]
    }
   ],
   "source": [
    "stream_graph_updates(\"which number is bigger 10.5 and 10.1\")"
   ]
  },
  {
   "cell_type": "code",
   "execution_count": 56,
   "id": "7a5ddd23-ac44-4653-82a9-4f2d774a54a2",
   "metadata": {},
   "outputs": [],
   "source": [
    "def book_ticket(input1):\n",
    "    return input1 + \" from book ticket function\"\n",
    "\n",
    "def book_hotel(input2):\n",
    "    return input2 + \" from book_hotel function\""
   ]
  },
  {
   "cell_type": "code",
   "execution_count": 57,
   "id": "b5a163a2-86df-4cf7-af9c-c25232dd505c",
   "metadata": {},
   "outputs": [
    {
     "data": {
      "text/plain": [
       "'Niyantarana from book ticket function'"
      ]
     },
     "execution_count": 57,
     "metadata": {},
     "output_type": "execute_result"
    }
   ],
   "source": [
    "book_ticket(\"Niyantarana\")"
   ]
  },
  {
   "cell_type": "code",
   "execution_count": 58,
   "id": "6f87d957-6b69-4f09-baeb-157d35b36387",
   "metadata": {},
   "outputs": [
    {
     "data": {
      "text/plain": [
       "'Tagore from book_hotel function'"
      ]
     },
     "execution_count": 58,
     "metadata": {},
     "output_type": "execute_result"
    }
   ],
   "source": [
    "book_hotel(\"Tagore\")"
   ]
  },
  {
   "cell_type": "code",
   "execution_count": 59,
   "id": "5551204c-db6b-4f99-824c-1a83f9d04f67",
   "metadata": {},
   "outputs": [],
   "source": [
    "from langgraph.graph import Graph\n",
    "workflow1 = Graph()"
   ]
  },
  {
   "cell_type": "code",
   "execution_count": 60,
   "id": "b8cca0c7-360b-4389-ad91-49602e56dcea",
   "metadata": {},
   "outputs": [
    {
     "data": {
      "text/plain": [
       "<langgraph.graph.graph.Graph at 0x1180bbb50>"
      ]
     },
     "execution_count": 60,
     "metadata": {},
     "output_type": "execute_result"
    }
   ],
   "source": [
    "workflow1.add_node(\"BookTicket\", book_ticket)\n",
    "workflow1.add_node(\"BookHotel\", book_hotel)"
   ]
  },
  {
   "cell_type": "code",
   "execution_count": 61,
   "id": "ccf35cd2-f163-41ee-a4d9-bd8c3ae99f39",
   "metadata": {},
   "outputs": [
    {
     "data": {
      "text/plain": [
       "<langgraph.graph.graph.Graph at 0x1180bbb50>"
      ]
     },
     "execution_count": 61,
     "metadata": {},
     "output_type": "execute_result"
    }
   ],
   "source": [
    "workflow1.add_edge(\"BookTicket\", \"BookHotel\")"
   ]
  },
  {
   "cell_type": "code",
   "execution_count": 62,
   "id": "bb6fb142-6321-4d56-b6ac-d7bd7cee1c4f",
   "metadata": {},
   "outputs": [],
   "source": [
    "workflow1.set_entry_point(\"BookTicket\")\n",
    "workflow1.set_finish_point(\"BookHotel\")\n",
    "app1 = workflow1.compile()\n"
   ]
  },
  {
   "cell_type": "code",
   "execution_count": 63,
   "id": "5388fd9d-6d39-45cf-a58a-abef06a2d197",
   "metadata": {},
   "outputs": [
    {
     "data": {
      "image/png": "[encoded data removed]",
      "text/plain": [
       "<IPython.core.display.Image object>"
      ]
     },
     "metadata": {},
     "output_type": "display_data"
    }
   ],
   "source": [
    "from IPython.display import Image, display\n",
    "\n",
    "try:\n",
    "    display(Image(app1.get_graph().draw_mermaid_png()))\n",
    "except Exception as e:\n",
    "    print(e)"
   ]
  },
  {
   "cell_type": "code",
   "execution_count": 64,
   "id": "9e4b88c2-fc82-4ff2-828a-7fea99242956",
   "metadata": {},
   "outputs": [
    {
     "data": {
      "text/plain": [
       "'Hi This is Niyantarana from book ticket function from book_hotel function'"
      ]
     },
     "execution_count": 64,
     "metadata": {},
     "output_type": "execute_result"
    }
   ],
   "source": [
    "app1.invoke(\"Hi This is Niyantarana\")\n"
   ]
  },
  {
   "cell_type": "code",
   "execution_count": 65,
   "id": "7aef4cb3-f890-4083-bce7-3b24d99f9bb1",
   "metadata": {},
   "outputs": [
    {
     "name": "stdout",
     "output_type": "stream",
     "text": [
      "here is output from BookTicket\n",
      "_______\n",
      "hi this is Niyantarana  from book ticket function\n",
      "\n",
      "\n",
      "here is output from BookHotel\n",
      "_______\n",
      "hi this is Niyantarana  from book ticket function from book_hotel function\n",
      "\n",
      "\n"
     ]
    }
   ],
   "source": [
    "input = \"hi this is Niyantarana \"\n",
    "for output in app1.stream(input):\n",
    "    for key,value in output.items():\n",
    "        print(f\"here is output from {key}\")\n",
    "        print(\"_______\")\n",
    "        print(value)\n",
    "        print(\"\\n\")"
   ]
  },
  {
   "cell_type": "code",
   "execution_count": null,
   "id": "1d4695ec-193e-4631-adbe-16f736f30afb",
   "metadata": {},
   "outputs": [],
   "source": []
  }
 ],
 "metadata": {
  "kernelspec": {
   "display_name": "bia_genai",
   "language": "python",
   "name": "python3"
  },
  "language_info": {
   "codemirror_mode": {
    "name": "ipython",
    "version": 3
   },
   "file_extension": ".py",
   "mimetype": "text/x-python",
   "name": "python",
   "nbconvert_exporter": "python",
   "pygments_lexer": "ipython3",
   "version": "3.11.11"
  }
 },
 "nbformat": 4,
 "nbformat_minor": 5
}
