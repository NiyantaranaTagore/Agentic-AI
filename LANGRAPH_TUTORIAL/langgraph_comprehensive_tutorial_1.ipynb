{
 "cells": [
  {
   "cell_type": "code",
   "execution_count": 10,
   "id": "dda834c5",
   "metadata": {},
   "outputs": [],
   "source": [
    "import os \n",
    "import getpass\n",
    "from typing import Annotated, Dict, List, Any\n",
    "from typing_extensions import TypedDict\n",
    "\n",
    "def setup_environment():\n",
    "    \"\"\"Setup your API KEYs\"\"\"\n",
    "    if not os.environ.get(\"OPENAI_API_KEY\"):\n",
    "        openai_key = getpass.getpass(\"Enter your OPENAI API KEY\")\n",
    "        os.environ[\"OPENAI_API_KEY\"] = openai_key\n",
    "\n",
    "    if not os.environ.get(\"LANGSMITH_API_KEY\"):\n",
    "        langsmith_key = getpass.getpass(\"ENTER your LAngsmith API KEY\")\n",
    "        if langsmith_key:\n",
    "            os.environ[\"LANGSMITH_API_KEY\"] = langsmith_key\n",
    "            os.environ[\"LANGCHAIN_TRACING_V2\"] =\"true\"\n",
    "            os.environ[\"LANGCHAIN_PROJECT\"] = \"Langgraph tutorial\"\n",
    "        else:\n",
    "            print(\"skipping langsmith set up\")\n",
    "\n",
    "\n",
    "    print(\"Envioenment setup completed\")\n",
    "            \n",
    "    \n",
    "    "
   ]
  },
  {
   "cell_type": "markdown",
   "id": "ac53ae08-19af-4359-950d-ccb49af6ee18",
   "metadata": {},
   "source": []
  },
  {
   "cell_type": "code",
   "execution_count": 11,
   "id": "a972de4c",
   "metadata": {},
   "outputs": [
    {
     "name": "stdin",
     "output_type": "stream",
     "text": [
      "Enter your OPENAI API KEY ········\n",
      "ENTER your LAngsmith API KEY ········\n"
     ]
    },
    {
     "name": "stdout",
     "output_type": "stream",
     "text": [
      "Envioenment setup completed\n"
     ]
    }
   ],
   "source": [
    "setup_environment()"
   ]
  },
  {
   "cell_type": "markdown",
   "id": "3dae9fa5-503f-4f85-9e27-07bfe875b202",
   "metadata": {},
   "source": [
    "### Different components of Langgraph\n",
    "\n",
    "1. State\n",
    "   . The Memory of your application\n",
    "   Share data structure that persistance accross all steps\n",
    "   * Can contain message, variabelse, flags or any data\n",
    "  \n",
    "2. Nodes\n",
    "\n",
    "   * Individual functions or operations in your workflow\n",
    "   * Each Nodes receives the current state and returns the updates\n",
    "   * Think of them as \"workers\" that do specific tasks\n",
    "\n",
    "3. Edges\n",
    "\n",
    "   * Connections between the Nodes that define the flow\n",
    "   * can be simple edge (A->B) or conditional (A->B or C based on the condition)\n",
    "\n",
    "4. Graph\n",
    "\n",
    "   * The ccomplete workflow combining nodes and edges\n",
    "   * "
   ]
  },
  {
   "cell_type": "code",
   "execution_count": 12,
   "id": "de7f027e",
   "metadata": {},
   "outputs": [],
   "source": [
    "from langgraph.graph import StateGraph , START, END\n",
    "from langgraph.graph.message import add_messages\n",
    "from langchain_core.messages import HumanMessage, AIMessage\n",
    "\n",
    "\n",
    "class State(TypedDict):\n",
    "    # messages will store our conversation history\n",
    "    ### add_messages is a special function  that append new message instead of replacing them\n",
    "\n",
    "    messages: Annotated[list, add_messages]\n",
    "\n"
   ]
  },
  {
   "cell_type": "code",
   "execution_count": null,
   "id": "ab803965-af80-43a8-ac4c-c698626846cb",
   "metadata": {},
   "outputs": [],
   "source": []
  },
  {
   "cell_type": "code",
   "execution_count": 13,
   "id": "1ff753be",
   "metadata": {},
   "outputs": [
    {
     "data": {
      "text/plain": [
       "'Hello! How can I assist you today?'"
      ]
     },
     "execution_count": 13,
     "metadata": {},
     "output_type": "execute_result"
    }
   ],
   "source": [
    "from langchain_openai import ChatOpenAI\n",
    "\n",
    "llm = ChatOpenAI(\n",
    "    model = \"gpt-4o\",\n",
    "    temperature= 0.7\n",
    ")\n",
    "\n",
    "llm.invoke(\"Hi\").content"
   ]
  },
  {
   "cell_type": "code",
   "execution_count": 14,
   "id": "3ac659e9",
   "metadata": {},
   "outputs": [
    {
     "name": "stdout",
     "output_type": "stream",
     "text": [
      "Model: gpt-4o\n"
     ]
    }
   ],
   "source": [
    "print(f\"Model: {llm.model_name}\")"
   ]
  },
  {
   "cell_type": "markdown",
   "id": "05825f50-16c7-406e-afd7-5b821894f8ab",
   "metadata": {},
   "source": [
    "### step-3 create the chatbot Node\n",
    "\n",
    "A **node** is a function that:\n",
    "1. Takes the current state as input\n",
    "2. does some work (like calling the LLM)\n",
    "3. Return updates to state\n"
   ]
  },
  {
   "cell_type": "code",
   "execution_count": 13,
   "id": "aa7281fe-2f6a-41ee-b334-2d2f5ec610d4",
   "metadata": {},
   "outputs": [],
   "source": [
    "def chatbot_node(state: State) -> Dict[str, Any]:\n",
    "    messages = state['messages']\n",
    "    response = llm.invoke(messages)\n",
    "    return {\"messages\": [response]}\n",
    "    "
   ]
  },
  {
   "cell_type": "markdown",
   "id": "d4bff049-1beb-45f2-9cc0-ca8602ef2329",
   "metadata": {},
   "source": [
    "### Step 4: Build Graph\n",
    "\n",
    "Now we'll create a graph by:\n",
    "1. Creating a StateGraph\n",
    "2. Adding our Chatbot Node\n",
    "3. Defining the flow\n",
    "4. compiling it into a runnable application"
   ]
  },
  {
   "cell_type": "code",
   "execution_count": 14,
   "id": "b178e425-0f37-4b91-8cb8-574751a45f6f",
   "metadata": {},
   "outputs": [],
   "source": [
    "graph_builder = StateGraph(State)\n",
    "\n",
    "graph_builder.add_node(\"chatbot\", chatbot_node)\n",
    "graph_builder.add_edge(START, \"chatbot\")\n",
    "graph_builder.add_edge(\"chatbot\", END)\n",
    "\n",
    "\n",
    "simple_chatbot = graph_builder.compile()\n"
   ]
  },
  {
   "cell_type": "code",
   "execution_count": 19,
   "id": "df6081a5-481a-4427-995e-fb8d74484007",
   "metadata": {},
   "outputs": [],
   "source": [
    "initial_state = {\n",
    "        \"messages\": [HumanMessage(content=\"Hello! My name is Rajesh. What's your name?\")]\n",
    "    }\n",
    "result = simple_chatbot.invoke(initial_state)"
   ]
  },
  {
   "cell_type": "code",
   "execution_count": 21,
   "id": "7be67019-b7bc-40d7-b111-77a9243f1ceb",
   "metadata": {
    "collapsed": true,
    "jupyter": {
     "outputs_hidden": true
    }
   },
   "outputs": [
    {
     "data": {
      "text/plain": [
       "[HumanMessage(content=\"Hello! My name is Rajesh. What's your name?\", additional_kwargs={}, response_metadata={}, id='910e110b-b8f1-4cf3-8b5e-a245e1970eea'),\n",
       " AIMessage(content=\"Hello Rajesh! I'm an AI and don't have a personal name, but you can call me Assistant. How can I help you today?\", additional_kwargs={'refusal': None}, response_metadata={'token_usage': {'completion_tokens': 28, 'prompt_tokens': 19, 'total_tokens': 47, 'completion_tokens_details': {'accepted_prediction_tokens': 0, 'audio_tokens': 0, 'reasoning_tokens': 0, 'rejected_prediction_tokens': 0}, 'prompt_tokens_details': {'audio_tokens': 0, 'cached_tokens': 0}}, 'model_name': 'gpt-4o-2024-08-06', 'system_fingerprint': 'fp_07871e2ad8', 'id': 'chatcmpl-BnMLoCufap4fdgjHKkq40jgEqwl16', 'service_tier': 'default', 'finish_reason': 'stop', 'logprobs': None}, id='run--bf3dcd57-072f-4e57-b323-96f51abdca77-0', usage_metadata={'input_tokens': 19, 'output_tokens': 28, 'total_tokens': 47, 'input_token_details': {'audio': 0, 'cache_read': 0}, 'output_token_details': {'audio': 0, 'reasoning': 0}})]"
      ]
     },
     "execution_count": 21,
     "metadata": {},
     "output_type": "execute_result"
    }
   ],
   "source": [
    "result['messages']"
   ]
  },
  {
   "cell_type": "code",
   "execution_count": 24,
   "id": "9b15dda3-a6be-43fb-9b5e-efc5b1b2cc91",
   "metadata": {},
   "outputs": [
    {
     "name": "stdout",
     "output_type": "stream",
     "text": [
      "Human: Hello! My name is Rajesh. What's your name?\n",
      "AI: Hello Rajesh! I'm an AI and don't have a personal name, but you can call me Assistant. How can I help you today?\n"
     ]
    }
   ],
   "source": [
    "for i, message in enumerate(result['messages']):\n",
    "    if isinstance(message, HumanMessage):\n",
    "        print(f\"Human: {message.content}\")\n",
    "\n",
    "    if isinstance(message, AIMessage):\n",
    "        print(f\"AI: {message.content}\")\n",
    "\n",
    "    \n",
    "    "
   ]
  },
  {
   "cell_type": "code",
   "execution_count": 29,
   "id": "6e1e7cca-c04d-48ec-9626-fed185462fb7",
   "metadata": {},
   "outputs": [],
   "source": [
    "def test_simple(user_input):\n",
    "    initial_state = {\n",
    "        \"messages\": [HumanMessage(content=user_input)]\n",
    "    }\n",
    "    result = simple_chatbot.invoke(initial_state)\n",
    "\n",
    "    for i, message in enumerate(result['messages']):\n",
    "        if isinstance(message, HumanMessage):\n",
    "            print(f\"Human: {message.content}\")\n",
    "    \n",
    "        if isinstance(message, AIMessage):\n",
    "            print(f\"AI: {message.content}\")\n",
    "\n",
    "    # return result\n",
    "    \n",
    "    "
   ]
  },
  {
   "cell_type": "code",
   "execution_count": 30,
   "id": "e3efce7c-d84f-4d98-bb1e-5d15b2690b46",
   "metadata": {},
   "outputs": [
    {
     "name": "stdout",
     "output_type": "stream",
     "text": [
      "Human: What is the GATE cutoff for CSE Student\n",
      "AI: The GATE (Graduate Aptitude Test in Engineering) cutoff for Computer Science Engineering (CSE) students can vary each year based on several factors, including the difficulty level of the exam, the number of candidates appearing for the exam, and the number of available seats in the participating institutions. The cutoff is usually announced after the results are declared.\n",
      "\n",
      "For the most current and specific cutoff information, you should:\n",
      "\n",
      "1. Check the official GATE website or the website of the organizing institute of the year.\n",
      "2. Look for announcements made by individual institutes for their specific programs, as they may have their own cutoffs.\n",
      "3. Review previous years' cutoffs to get an idea of the expected range.\n",
      "\n",
      "Typically, the GATE cutoff for CSE can range from 25 to 30 marks out of 100 for the general category, but this can fluctuate. Always refer to the most recent and official sources for accurate information.\n"
     ]
    }
   ],
   "source": [
    "test_simple(\"What is the GATE cutoff for CSE Student\")"
   ]
  },
  {
   "cell_type": "code",
   "execution_count": 28,
   "id": "dcabde17-d3bb-4d65-9d1f-51f4b012e25c",
   "metadata": {},
   "outputs": [
    {
     "name": "stdout",
     "output_type": "stream",
     "text": [
      "Human: What is the .NET cutoff for CSE Student\n",
      "AI: The \".NET cutoff\" could refer to various things depending on the context, such as eligibility criteria for a course, examination score requirements, or hiring qualifications for a job involving .NET technologies. Given that it relates to a Computer Science Engineering (CSE) student, it might pertain to academic or employment criteria involving .NET, a framework developed by Microsoft.\n",
      "\n",
      "If you are referring to a specific examination, course, or job, the cutoff can vary widely between institutions and companies. Academic programs might have certain prerequisites or required scores in relevant subjects, while employers might look for proficiency in .NET technologies as part of their hiring criteria.\n",
      "\n",
      "To get accurate and specific information, you would need to check with the relevant educational institution or employer. They would provide detailed eligibility criteria or cutoff scores related to .NET for CSE students.\n"
     ]
    },
    {
     "data": {
      "text/plain": [
       "{'messages': [HumanMessage(content='What is the .NET cutoff for CSE Student', additional_kwargs={}, response_metadata={}, id='e26e69ec-6e35-40a9-81f9-b0f90c8ca3f5'),\n",
       "  AIMessage(content='The \".NET cutoff\" could refer to various things depending on the context, such as eligibility criteria for a course, examination score requirements, or hiring qualifications for a job involving .NET technologies. Given that it relates to a Computer Science Engineering (CSE) student, it might pertain to academic or employment criteria involving .NET, a framework developed by Microsoft.\\n\\nIf you are referring to a specific examination, course, or job, the cutoff can vary widely between institutions and companies. Academic programs might have certain prerequisites or required scores in relevant subjects, while employers might look for proficiency in .NET technologies as part of their hiring criteria.\\n\\nTo get accurate and specific information, you would need to check with the relevant educational institution or employer. They would provide detailed eligibility criteria or cutoff scores related to .NET for CSE students.', additional_kwargs={'refusal': None}, response_metadata={'token_usage': {'completion_tokens': 164, 'prompt_tokens': 17, 'total_tokens': 181, 'completion_tokens_details': {'accepted_prediction_tokens': 0, 'audio_tokens': 0, 'reasoning_tokens': 0, 'rejected_prediction_tokens': 0}, 'prompt_tokens_details': {'audio_tokens': 0, 'cached_tokens': 0}}, 'model_name': 'gpt-4o-2024-08-06', 'system_fingerprint': 'fp_a288987b44', 'id': 'chatcmpl-BnMXGpHG23rbVSR9yRBdoCY8W8XzG', 'service_tier': 'default', 'finish_reason': 'stop', 'logprobs': None}, id='run--17450a89-cf0f-4833-bded-650772416b9a-0', usage_metadata={'input_tokens': 17, 'output_tokens': 164, 'total_tokens': 181, 'input_token_details': {'audio': 0, 'cache_read': 0}, 'output_token_details': {'audio': 0, 'reasoning': 0}})]}"
      ]
     },
     "execution_count": 28,
     "metadata": {},
     "output_type": "execute_result"
    }
   ],
   "source": [
    "test_simple(\"What is the .NET cutoff for CSE Student\")"
   ]
  },
  {
   "cell_type": "code",
   "execution_count": 31,
   "id": "a12c627c-cc0c-456b-8227-4197552f79bb",
   "metadata": {},
   "outputs": [
    {
     "name": "stdout",
     "output_type": "stream",
     "text": [
      "Human: what was my last question\n",
      "AI: I'm sorry, but I can't recall previous interactions or questions. If you have a new question or need assistance, feel free to ask!\n"
     ]
    }
   ],
   "source": [
    "test_simple(\"what was my last question\")"
   ]
  },
  {
   "cell_type": "markdown",
   "id": "2f40c7aa-f6d6-4823-9ed9-978432cb8936",
   "metadata": {},
   "source": [
    "### Adding Memory with Checkpointings\n",
    "\n",
    "The power of Langgraph really shines when we add ** persistant memory**. This allows our agent to :\n",
    "\n",
    "- Remember conversations accross multiple interactios\n",
    "- Resume from where it left off\n",
    "- Handle long-running workflow\n",
    "- support Human-in-loop\n",
    "\n",
    "\n",
    "### What is checkpointing\n",
    "\n",
    "**Checkpointing** automatically saves the state after each steps. when you invoke the graph again with the same 'thread_id'. it load the saved state and continue from there \n",
    "\n",
    "Think of it like a video game save system!!\n",
    "\n"
   ]
  },
  {
   "cell_type": "code",
   "execution_count": 34,
   "id": "9e3748cb-5337-4d69-a8cd-ff1f2fcf850b",
   "metadata": {},
   "outputs": [
    {
     "name": "stdout",
     "output_type": "stream",
     "text": [
      "Collecting langgraph-checkpoint-sqlite\n",
      "  Downloading langgraph_checkpoint_sqlite-2.0.10-py3-none-any.whl.metadata (2.7 kB)\n",
      "Collecting aiosqlite>=0.20 (from langgraph-checkpoint-sqlite)\n",
      "  Downloading aiosqlite-0.21.0-py3-none-any.whl.metadata (4.3 kB)\n",
      "Requirement already satisfied: langgraph-checkpoint>=2.0.21 in /Users/rajeshthakur/miniconda3/envs/bia_genai/lib/python3.11/site-packages (from langgraph-checkpoint-sqlite) (2.0.26)\n",
      "Collecting sqlite-vec>=0.1.6 (from langgraph-checkpoint-sqlite)\n",
      "  Downloading sqlite_vec-0.1.6-py3-none-macosx_11_0_arm64.whl.metadata (198 bytes)\n",
      "Requirement already satisfied: typing_extensions>=4.0 in /Users/rajeshthakur/miniconda3/envs/bia_genai/lib/python3.11/site-packages (from aiosqlite>=0.20->langgraph-checkpoint-sqlite) (4.13.2)\n",
      "Requirement already satisfied: langchain-core>=0.2.38 in /Users/rajeshthakur/miniconda3/envs/bia_genai/lib/python3.11/site-packages (from langgraph-checkpoint>=2.0.21->langgraph-checkpoint-sqlite) (0.3.66)\n",
      "Requirement already satisfied: ormsgpack<2.0.0,>=1.8.0 in /Users/rajeshthakur/miniconda3/envs/bia_genai/lib/python3.11/site-packages (from langgraph-checkpoint>=2.0.21->langgraph-checkpoint-sqlite) (1.10.0)\n",
      "Requirement already satisfied: langsmith>=0.3.45 in /Users/rajeshthakur/miniconda3/envs/bia_genai/lib/python3.11/site-packages (from langchain-core>=0.2.38->langgraph-checkpoint>=2.0.21->langgraph-checkpoint-sqlite) (0.3.45)\n",
      "Requirement already satisfied: tenacity!=8.4.0,<10.0.0,>=8.1.0 in /Users/rajeshthakur/miniconda3/envs/bia_genai/lib/python3.11/site-packages (from langchain-core>=0.2.38->langgraph-checkpoint>=2.0.21->langgraph-checkpoint-sqlite) (9.1.2)\n",
      "Requirement already satisfied: jsonpatch<2.0,>=1.33 in /Users/rajeshthakur/miniconda3/envs/bia_genai/lib/python3.11/site-packages (from langchain-core>=0.2.38->langgraph-checkpoint>=2.0.21->langgraph-checkpoint-sqlite) (1.33)\n",
      "Requirement already satisfied: PyYAML>=5.3 in /Users/rajeshthakur/miniconda3/envs/bia_genai/lib/python3.11/site-packages (from langchain-core>=0.2.38->langgraph-checkpoint>=2.0.21->langgraph-checkpoint-sqlite) (6.0.2)\n",
      "Requirement already satisfied: packaging<25,>=23.2 in /Users/rajeshthakur/miniconda3/envs/bia_genai/lib/python3.11/site-packages (from langchain-core>=0.2.38->langgraph-checkpoint>=2.0.21->langgraph-checkpoint-sqlite) (24.2)\n",
      "Requirement already satisfied: pydantic>=2.7.4 in /Users/rajeshthakur/miniconda3/envs/bia_genai/lib/python3.11/site-packages (from langchain-core>=0.2.38->langgraph-checkpoint>=2.0.21->langgraph-checkpoint-sqlite) (2.11.4)\n",
      "Requirement already satisfied: jsonpointer>=1.9 in /Users/rajeshthakur/miniconda3/envs/bia_genai/lib/python3.11/site-packages (from jsonpatch<2.0,>=1.33->langchain-core>=0.2.38->langgraph-checkpoint>=2.0.21->langgraph-checkpoint-sqlite) (3.0.0)\n",
      "Requirement already satisfied: httpx<1,>=0.23.0 in /Users/rajeshthakur/miniconda3/envs/bia_genai/lib/python3.11/site-packages (from langsmith>=0.3.45->langchain-core>=0.2.38->langgraph-checkpoint>=2.0.21->langgraph-checkpoint-sqlite) (0.28.1)\n",
      "Requirement already satisfied: orjson<4.0.0,>=3.9.14 in /Users/rajeshthakur/miniconda3/envs/bia_genai/lib/python3.11/site-packages (from langsmith>=0.3.45->langchain-core>=0.2.38->langgraph-checkpoint>=2.0.21->langgraph-checkpoint-sqlite) (3.10.18)\n",
      "Requirement already satisfied: requests<3,>=2 in /Users/rajeshthakur/miniconda3/envs/bia_genai/lib/python3.11/site-packages (from langsmith>=0.3.45->langchain-core>=0.2.38->langgraph-checkpoint>=2.0.21->langgraph-checkpoint-sqlite) (2.32.3)\n",
      "Requirement already satisfied: requests-toolbelt<2.0.0,>=1.0.0 in /Users/rajeshthakur/miniconda3/envs/bia_genai/lib/python3.11/site-packages (from langsmith>=0.3.45->langchain-core>=0.2.38->langgraph-checkpoint>=2.0.21->langgraph-checkpoint-sqlite) (1.0.0)\n",
      "Requirement already satisfied: zstandard<0.24.0,>=0.23.0 in /Users/rajeshthakur/miniconda3/envs/bia_genai/lib/python3.11/site-packages (from langsmith>=0.3.45->langchain-core>=0.2.38->langgraph-checkpoint>=2.0.21->langgraph-checkpoint-sqlite) (0.23.0)\n",
      "Requirement already satisfied: anyio in /Users/rajeshthakur/miniconda3/envs/bia_genai/lib/python3.11/site-packages (from httpx<1,>=0.23.0->langsmith>=0.3.45->langchain-core>=0.2.38->langgraph-checkpoint>=2.0.21->langgraph-checkpoint-sqlite) (4.9.0)\n",
      "Requirement already satisfied: certifi in /Users/rajeshthakur/miniconda3/envs/bia_genai/lib/python3.11/site-packages (from httpx<1,>=0.23.0->langsmith>=0.3.45->langchain-core>=0.2.38->langgraph-checkpoint>=2.0.21->langgraph-checkpoint-sqlite) (2025.4.26)\n",
      "Requirement already satisfied: httpcore==1.* in /Users/rajeshthakur/miniconda3/envs/bia_genai/lib/python3.11/site-packages (from httpx<1,>=0.23.0->langsmith>=0.3.45->langchain-core>=0.2.38->langgraph-checkpoint>=2.0.21->langgraph-checkpoint-sqlite) (1.0.9)\n",
      "Requirement already satisfied: idna in /Users/rajeshthakur/miniconda3/envs/bia_genai/lib/python3.11/site-packages (from httpx<1,>=0.23.0->langsmith>=0.3.45->langchain-core>=0.2.38->langgraph-checkpoint>=2.0.21->langgraph-checkpoint-sqlite) (3.10)\n",
      "Requirement already satisfied: h11>=0.16 in /Users/rajeshthakur/miniconda3/envs/bia_genai/lib/python3.11/site-packages (from httpcore==1.*->httpx<1,>=0.23.0->langsmith>=0.3.45->langchain-core>=0.2.38->langgraph-checkpoint>=2.0.21->langgraph-checkpoint-sqlite) (0.16.0)\n",
      "Requirement already satisfied: annotated-types>=0.6.0 in /Users/rajeshthakur/miniconda3/envs/bia_genai/lib/python3.11/site-packages (from pydantic>=2.7.4->langchain-core>=0.2.38->langgraph-checkpoint>=2.0.21->langgraph-checkpoint-sqlite) (0.7.0)\n",
      "Requirement already satisfied: pydantic-core==2.33.2 in /Users/rajeshthakur/miniconda3/envs/bia_genai/lib/python3.11/site-packages (from pydantic>=2.7.4->langchain-core>=0.2.38->langgraph-checkpoint>=2.0.21->langgraph-checkpoint-sqlite) (2.33.2)\n",
      "Requirement already satisfied: typing-inspection>=0.4.0 in /Users/rajeshthakur/miniconda3/envs/bia_genai/lib/python3.11/site-packages (from pydantic>=2.7.4->langchain-core>=0.2.38->langgraph-checkpoint>=2.0.21->langgraph-checkpoint-sqlite) (0.4.0)\n",
      "Requirement already satisfied: charset-normalizer<4,>=2 in /Users/rajeshthakur/miniconda3/envs/bia_genai/lib/python3.11/site-packages (from requests<3,>=2->langsmith>=0.3.45->langchain-core>=0.2.38->langgraph-checkpoint>=2.0.21->langgraph-checkpoint-sqlite) (3.4.2)\n",
      "Requirement already satisfied: urllib3<3,>=1.21.1 in /Users/rajeshthakur/miniconda3/envs/bia_genai/lib/python3.11/site-packages (from requests<3,>=2->langsmith>=0.3.45->langchain-core>=0.2.38->langgraph-checkpoint>=2.0.21->langgraph-checkpoint-sqlite) (2.4.0)\n",
      "Requirement already satisfied: sniffio>=1.1 in /Users/rajeshthakur/miniconda3/envs/bia_genai/lib/python3.11/site-packages (from anyio->httpx<1,>=0.23.0->langsmith>=0.3.45->langchain-core>=0.2.38->langgraph-checkpoint>=2.0.21->langgraph-checkpoint-sqlite) (1.3.1)\n",
      "Downloading langgraph_checkpoint_sqlite-2.0.10-py3-none-any.whl (30 kB)\n",
      "Downloading aiosqlite-0.21.0-py3-none-any.whl (15 kB)\n",
      "Downloading sqlite_vec-0.1.6-py3-none-macosx_11_0_arm64.whl (165 kB)\n",
      "Installing collected packages: sqlite-vec, aiosqlite, langgraph-checkpoint-sqlite\n",
      "\u001b[2K   \u001b[38;2;114;156;31m━━━━━━━━━━━━━━━━━━━━━━━━━━━━━━━━━━━━━━━━\u001b[0m \u001b[32m3/3\u001b[0m [langgraph-checkpoint-sqlite]\n",
      "\u001b[1A\u001b[2KSuccessfully installed aiosqlite-0.21.0 langgraph-checkpoint-sqlite-2.0.10 sqlite-vec-0.1.6\n"
     ]
    }
   ],
   "source": [
    "!pip install langgraph-checkpoint-sqlite"
   ]
  },
  {
   "cell_type": "code",
   "execution_count": 40,
   "id": "aa15403f-46e4-4bdc-9171-a8945a1d2f31",
   "metadata": {},
   "outputs": [],
   "source": [
    "from langgraph.checkpoint.sqlite import SqliteSaver\n",
    "\n",
    "chekpointer = SqliteSaver.from_conn_string(\":memory\")\n",
    "\n"
   ]
  },
  {
   "cell_type": "markdown",
   "id": "e179b1bd-2a72-4b39-b2c8-3db3d81aebab",
   "metadata": {},
   "source": [
    "### Step 2: Create a chatbot with Memory\n",
    "\n",
    "\n"
   ]
  },
  {
   "cell_type": "code",
   "execution_count": 39,
   "id": "cf166f01-7235-4f7f-b9ec-2123bf821259",
   "metadata": {},
   "outputs": [],
   "source": [
    "from langgraph.checkpoint.memory import MemorySaver\n",
    "memory = MemorySaver()\n"
   ]
  },
  {
   "cell_type": "code",
   "execution_count": 40,
   "id": "13d9dd4b-11df-4ba3-9319-31fbb72807b2",
   "metadata": {},
   "outputs": [
    {
     "ename": "NameError",
     "evalue": "name 'chatbot_node' is not defined",
     "output_type": "error",
     "traceback": [
      "\u001b[31m---------------------------------------------------------------------------\u001b[39m",
      "\u001b[31mNameError\u001b[39m                                 Traceback (most recent call last)",
      "\u001b[36mCell\u001b[39m\u001b[36m \u001b[39m\u001b[32mIn[40]\u001b[39m\u001b[32m, line 3\u001b[39m\n\u001b[32m      1\u001b[39m graph_builder_with_memory = StateGraph(State)\n\u001b[32m----> \u001b[39m\u001b[32m3\u001b[39m graph_builder_with_memory.add_node(\u001b[33m\"\u001b[39m\u001b[33mchatbot\u001b[39m\u001b[33m\"\u001b[39m, \u001b[43mchatbot_node\u001b[49m)\n\u001b[32m      4\u001b[39m graph_builder_with_memory.add_edge(START, \u001b[33m\"\u001b[39m\u001b[33mchatbot\u001b[39m\u001b[33m\"\u001b[39m)\n\u001b[32m      5\u001b[39m graph_builder_with_memory.add_edge(\u001b[33m\"\u001b[39m\u001b[33mchatbot\u001b[39m\u001b[33m\"\u001b[39m, END)\n",
      "\u001b[31mNameError\u001b[39m: name 'chatbot_node' is not defined"
     ]
    }
   ],
   "source": [
    "graph_builder_with_memory = StateGraph(State)\n",
    "\n",
    "graph_builder_with_memory.add_node(\"chatbot\", chatbot_node)\n",
    "graph_builder_with_memory.add_edge(START, \"chatbot\")\n",
    "graph_builder_with_memory.add_edge(\"chatbot\", END)\n",
    "\n",
    "chatbot_with_memory = graph_builder_with_memory.compile(checkpointer=memory)\n",
    "\n"
   ]
  },
  {
   "cell_type": "code",
   "execution_count": 82,
   "id": "0968cf8b-8ba9-4c50-b0e8-4b2f5ce1a26b",
   "metadata": {},
   "outputs": [
    {
     "name": "stdout",
     "output_type": "stream",
     "text": [
      "unique ID:- fa5b61fb-2252-494f-a528-ff357976f70f\n"
     ]
    }
   ],
   "source": [
    "unique_id = uuid.uuid4()\n",
    "print(f\"unique ID:- {unique_id}\")"
   ]
  },
  {
   "cell_type": "code",
   "execution_count": 87,
   "id": "37a781ff-b9f2-4869-8d6b-82269fcd4c30",
   "metadata": {},
   "outputs": [],
   "source": [
    "\n",
    "unique_id = \"831173cc-dd33-4542-925d-7958802a975f\"\n",
    "def test_simple(user_input):\n",
    "    \n",
    "    config = {\"configurable\": {\"thread_id\":str(unique_id)}}\n",
    "    result = chatbot_with_memory.invoke(\n",
    "        {\"messages\": [HumanMessage(content=user_input)]},\n",
    "        config\n",
    "    )\n",
    "    return result\n",
    "    "
   ]
  },
  {
   "cell_type": "code",
   "execution_count": 85,
   "id": "1dbaabe2-7c02-421d-9c92-416fff3b3664",
   "metadata": {},
   "outputs": [
    {
     "data": {
      "text/plain": [
       "{'messages': [HumanMessage(content='what is my name', additional_kwargs={}, response_metadata={}, id='64261a95-bfcb-4e32-b17f-8661a700961c'),\n",
       "  AIMessage(content=\"I'm sorry, but I don't have access to personal data about individuals unless it has been shared with me in the course of our conversation. If you tell me your name, I'll be happy to use it in our discussion.\", additional_kwargs={'refusal': None}, response_metadata={'token_usage': {'completion_tokens': 44, 'prompt_tokens': 11, 'total_tokens': 55, 'completion_tokens_details': {'accepted_prediction_tokens': 0, 'audio_tokens': 0, 'reasoning_tokens': 0, 'rejected_prediction_tokens': 0}, 'prompt_tokens_details': {'audio_tokens': 0, 'cached_tokens': 0}}, 'model_name': 'gpt-4o-2024-08-06', 'system_fingerprint': 'fp_a288987b44', 'id': 'chatcmpl-BnNbjUrwjUqXeGVa7WHIMRAkx8y3y', 'service_tier': 'default', 'finish_reason': 'stop', 'logprobs': None}, id='run--acce4b61-de20-4d54-9916-45352ea5f82f-0', usage_metadata={'input_tokens': 11, 'output_tokens': 44, 'total_tokens': 55, 'input_token_details': {'audio': 0, 'cache_read': 0}, 'output_token_details': {'audio': 0, 'reasoning': 0}}),\n",
       "  HumanMessage(content='Hi I am Rajesh and I use to take GEN classes', additional_kwargs={}, response_metadata={}, id='35232f00-6426-41d1-a2c3-052a6296101f'),\n",
       "  AIMessage(content=\"Hello Rajesh! It's nice to meet you. If there's anything specific you'd like to discuss about your GEN classes or anything else, feel free to let me know.\", additional_kwargs={'refusal': None}, response_metadata={'token_usage': {'completion_tokens': 33, 'prompt_tokens': 75, 'total_tokens': 108, 'completion_tokens_details': {'accepted_prediction_tokens': 0, 'audio_tokens': 0, 'reasoning_tokens': 0, 'rejected_prediction_tokens': 0}, 'prompt_tokens_details': {'audio_tokens': 0, 'cached_tokens': 0}}, 'model_name': 'gpt-4o-2024-08-06', 'system_fingerprint': 'fp_07871e2ad8', 'id': 'chatcmpl-BnNbsFVJ96IKBVgqHzuh14BZxDbmW', 'service_tier': 'default', 'finish_reason': 'stop', 'logprobs': None}, id='run--9f858eaf-59c7-4f57-a02d-899d08a45b44-0', usage_metadata={'input_tokens': 75, 'output_tokens': 33, 'total_tokens': 108, 'input_token_details': {'audio': 0, 'cache_read': 0}, 'output_token_details': {'audio': 0, 'reasoning': 0}})]}"
      ]
     },
     "execution_count": 85,
     "metadata": {},
     "output_type": "execute_result"
    }
   ],
   "source": [
    "test_simple(\"Hi I am Rajesh and I use to take GEN classes\")"
   ]
  },
  {
   "cell_type": "code",
   "execution_count": 88,
   "id": "a5908b6e-afd1-44da-b807-a528ab41ce83",
   "metadata": {},
   "outputs": [
    {
     "data": {
      "text/plain": [
       "{'messages': [HumanMessage(content='Hi I am Rajesh and I use to take GEN classes', additional_kwargs={}, response_metadata={}, id='7033c77a-34ea-4236-8dc5-37009362562c'),\n",
       "  AIMessage(content=\"Hello Rajesh! It's great to hear from you. How can I assist you with your GEN classes today?\", additional_kwargs={'refusal': None}, response_metadata={'token_usage': {'completion_tokens': 22, 'prompt_tokens': 19, 'total_tokens': 41, 'completion_tokens_details': {'accepted_prediction_tokens': 0, 'audio_tokens': 0, 'reasoning_tokens': 0, 'rejected_prediction_tokens': 0}, 'prompt_tokens_details': {'audio_tokens': 0, 'cached_tokens': 0}}, 'model_name': 'gpt-4o-2024-08-06', 'system_fingerprint': 'fp_a288987b44', 'id': 'chatcmpl-BnNayYShi4LEqf7gofM5r8Py8cEYm', 'service_tier': 'default', 'finish_reason': 'stop', 'logprobs': None}, id='run--fcfaee0f-46b3-4014-af9a-37d86085730c-0', usage_metadata={'input_tokens': 19, 'output_tokens': 22, 'total_tokens': 41, 'input_token_details': {'audio': 0, 'cache_read': 0}, 'output_token_details': {'audio': 0, 'reasoning': 0}}),\n",
       "  HumanMessage(content='what is my name', additional_kwargs={}, response_metadata={}, id='4c5874ee-f4fd-47af-bc78-e24b52e8036b'),\n",
       "  AIMessage(content=\"You mentioned that your name is Rajesh. Is there anything else you'd like to discuss or need help with?\", additional_kwargs={'refusal': None}, response_metadata={'token_usage': {'completion_tokens': 22, 'prompt_tokens': 53, 'total_tokens': 75, 'completion_tokens_details': {'accepted_prediction_tokens': 0, 'audio_tokens': 0, 'reasoning_tokens': 0, 'rejected_prediction_tokens': 0}, 'prompt_tokens_details': {'audio_tokens': 0, 'cached_tokens': 0}}, 'model_name': 'gpt-4o-2024-08-06', 'system_fingerprint': 'fp_a288987b44', 'id': 'chatcmpl-BnNb2NIl3vHx46ZCUMMZGmYRt5WKs', 'service_tier': 'default', 'finish_reason': 'stop', 'logprobs': None}, id='run--56820429-4c72-4ae2-acc2-25fcae97f919-0', usage_metadata={'input_tokens': 53, 'output_tokens': 22, 'total_tokens': 75, 'input_token_details': {'audio': 0, 'cache_read': 0}, 'output_token_details': {'audio': 0, 'reasoning': 0}}),\n",
       "  HumanMessage(content='what is my name', additional_kwargs={}, response_metadata={}, id='57fe616f-6fc3-46e0-b8d4-70a195f327c9'),\n",
       "  AIMessage(content=\"You introduced yourself as Rajesh. If there's anything specific you need assistance with, feel free to let me know!\", additional_kwargs={'refusal': None}, response_metadata={'token_usage': {'completion_tokens': 23, 'prompt_tokens': 87, 'total_tokens': 110, 'completion_tokens_details': {'accepted_prediction_tokens': 0, 'audio_tokens': 0, 'reasoning_tokens': 0, 'rejected_prediction_tokens': 0}, 'prompt_tokens_details': {'audio_tokens': 0, 'cached_tokens': 0}}, 'model_name': 'gpt-4o-2024-08-06', 'system_fingerprint': 'fp_a288987b44', 'id': 'chatcmpl-BnNcXxVKX1sN09QInvkG0uhZSSlhF', 'service_tier': 'default', 'finish_reason': 'stop', 'logprobs': None}, id='run--5bb0629f-c881-4935-99b0-ac312cb1617c-0', usage_metadata={'input_tokens': 87, 'output_tokens': 23, 'total_tokens': 110, 'input_token_details': {'audio': 0, 'cache_read': 0}, 'output_token_details': {'audio': 0, 'reasoning': 0}})]}"
      ]
     },
     "execution_count": 88,
     "metadata": {},
     "output_type": "execute_result"
    }
   ],
   "source": [
    "test_simple(\"what is my name\")"
   ]
  },
  {
   "cell_type": "code",
   "execution_count": 74,
   "id": "f5dcf8ea-524f-4d01-b69b-9e549a1284f5",
   "metadata": {},
   "outputs": [
    {
     "data": {
      "text/plain": [
       "'e4daa067-713f-472e-858b-4018a088e464'"
      ]
     },
     "execution_count": 74,
     "metadata": {},
     "output_type": "execute_result"
    }
   ],
   "source": [
    "import uuid\n",
    "unique_id = uuid.uuid4()\n",
    "\n",
    "str(unique_id)"
   ]
  },
  {
   "cell_type": "markdown",
   "id": "7756dc14-f5b4-409f-879a-fa5f3d037cde",
   "metadata": {},
   "source": [
    "### Tool Integration\n",
    "\n",
    "Real AI agents needs to intract with the outside world! Let's add the tool calling capablities\n",
    "\n",
    "### What are tool \n",
    "- search the web\n",
    "- Query database\n",
    "- send email\n",
    "- perform calculations\n",
    "- Access APIs\n",
    "\n"
   ]
  },
  {
   "cell_type": "code",
   "execution_count": 89,
   "id": "6551def9-b2b0-4565-93fb-889582f589ac",
   "metadata": {},
   "outputs": [
    {
     "data": {
      "text/plain": [
       "dict_items([('__name__', 'math'), ('__doc__', 'This module provides access to the mathematical functions\\ndefined by the C standard.'), ('__package__', ''), ('__loader__', <_frozen_importlib_external.ExtensionFileLoader object at 0x100ea3ed0>), ('__spec__', ModuleSpec(name='math', loader=<_frozen_importlib_external.ExtensionFileLoader object at 0x100ea3ed0>, origin='/Users/rajeshthakur/miniconda3/envs/bia_genai/lib/python3.11/lib-dynload/math.cpython-311-darwin.so')), ('acos', <built-in function acos>), ('acosh', <built-in function acosh>), ('asin', <built-in function asin>), ('asinh', <built-in function asinh>), ('atan', <built-in function atan>), ('atan2', <built-in function atan2>), ('atanh', <built-in function atanh>), ('cbrt', <built-in function cbrt>), ('ceil', <built-in function ceil>), ('copysign', <built-in function copysign>), ('cos', <built-in function cos>), ('cosh', <built-in function cosh>), ('degrees', <built-in function degrees>), ('dist', <built-in function dist>), ('erf', <built-in function erf>), ('erfc', <built-in function erfc>), ('exp', <built-in function exp>), ('exp2', <built-in function exp2>), ('expm1', <built-in function expm1>), ('fabs', <built-in function fabs>), ('factorial', <built-in function factorial>), ('floor', <built-in function floor>), ('fmod', <built-in function fmod>), ('frexp', <built-in function frexp>), ('fsum', <built-in function fsum>), ('gamma', <built-in function gamma>), ('gcd', <built-in function gcd>), ('hypot', <built-in function hypot>), ('isclose', <built-in function isclose>), ('isfinite', <built-in function isfinite>), ('isinf', <built-in function isinf>), ('isnan', <built-in function isnan>), ('isqrt', <built-in function isqrt>), ('lcm', <built-in function lcm>), ('ldexp', <built-in function ldexp>), ('lgamma', <built-in function lgamma>), ('log', <built-in function log>), ('log1p', <built-in function log1p>), ('log10', <built-in function log10>), ('log2', <built-in function log2>), ('modf', <built-in function modf>), ('pow', <built-in function pow>), ('radians', <built-in function radians>), ('remainder', <built-in function remainder>), ('sin', <built-in function sin>), ('sinh', <built-in function sinh>), ('sqrt', <built-in function sqrt>), ('tan', <built-in function tan>), ('tanh', <built-in function tanh>), ('trunc', <built-in function trunc>), ('prod', <built-in function prod>), ('perm', <built-in function perm>), ('comb', <built-in function comb>), ('nextafter', <built-in function nextafter>), ('ulp', <built-in function ulp>), ('__file__', '/Users/rajeshthakur/miniconda3/envs/bia_genai/lib/python3.11/lib-dynload/math.cpython-311-darwin.so'), ('pi', 3.141592653589793), ('e', 2.718281828459045), ('tau', 6.283185307179586), ('inf', inf), ('nan', nan)])"
      ]
     },
     "execution_count": 89,
     "metadata": {},
     "output_type": "execute_result"
    }
   ],
   "source": [
    "import math\n",
    "math.__dict__.items()"
   ]
  },
  {
   "cell_type": "code",
   "execution_count": 48,
   "id": "c551880c-51bf-4a1f-b704-8b8096df69bc",
   "metadata": {},
   "outputs": [],
   "source": [
    "from langchain_core.tools import tool\n",
    "import math\n",
    "\n",
    "@tool\n",
    "def calculator(expression: str) -> str:\n",
    "    \"\"\"\n",
    "    Evaluate a mathematical expression safely.\n",
    "    \n",
    "    Args:\n",
    "        expression: A mathematical expression to evaluate (e.g., \"2 + 3 * 4\")\n",
    "        \n",
    "    Returns:\n",
    "        The result of the calculation\n",
    "    \"\"\"\n",
    "    try:\n",
    "        # Safe evaluation of mathematical expressions\n",
    "        # Only allow basic math operations\n",
    "        allowed_names = {\n",
    "            k: v for k, v in math.__dict__.items() if not k.startswith(\"__\")\n",
    "        }\n",
    "        allowed_names.update({\"abs\": abs, \"round\": round})\n",
    "        \n",
    "        result = eval(expression, {\"__builtins__\": {}}, allowed_names)\n",
    "        return f\"The result of {expression} is {result}\"\n",
    "    except Exception as e:\n",
    "        return f\"Error calculating {expression}: {str(e)}\"\n",
    "\n",
    "@tool  \n",
    "def get_current_time() -> str:\n",
    "    \"\"\"Get the current time.\"\"\"\n",
    "    from datetime import datetime\n",
    "    return f\"Current time is: {datetime.now().strftime('%Y-%m-%d %H:%M:%S')}\"\n",
    "    "
   ]
  },
  {
   "cell_type": "code",
   "execution_count": 49,
   "id": "71398d1a-9859-460e-9fca-b24f61e70127",
   "metadata": {},
   "outputs": [
    {
     "data": {
      "text/plain": [
       "'The result of cos(0) is 1.0'"
      ]
     },
     "execution_count": 49,
     "metadata": {},
     "output_type": "execute_result"
    }
   ],
   "source": [
    "calculator(\"cos(0)\")"
   ]
  },
  {
   "cell_type": "code",
   "execution_count": 50,
   "id": "bdb895eb-f4ad-451c-aa1a-54eb200cde5f",
   "metadata": {},
   "outputs": [
    {
     "data": {
      "text/plain": [
       "'Current time is: 2025-06-29 14:43:32'"
      ]
     },
     "execution_count": 50,
     "metadata": {},
     "output_type": "execute_result"
    }
   ],
   "source": [
    "get_current_time(\"\")"
   ]
  },
  {
   "cell_type": "code",
   "execution_count": 51,
   "id": "88f5b3ab-ad63-4bfe-90a7-43f0ef775c6e",
   "metadata": {},
   "outputs": [
    {
     "data": {
      "text/plain": [
       "'2025-06-29 14:43:33'"
      ]
     },
     "execution_count": 51,
     "metadata": {},
     "output_type": "execute_result"
    }
   ],
   "source": [
    "from datetime import datetime\n",
    "datetime.now().strftime('%Y-%m-%d %H:%M:%S')"
   ]
  },
  {
   "cell_type": "code",
   "execution_count": 52,
   "id": "86a512f1-fc6e-4b8a-b101-84ed96dd22fb",
   "metadata": {},
   "outputs": [
    {
     "data": {
      "text/plain": [
       "AIMessage(content='As of my last update, the Prime Minister of India is Narendra Modi. However, I recommend checking the latest sources to confirm if this is still current information.', additional_kwargs={'refusal': None}, response_metadata={'token_usage': {'completion_tokens': 33, 'prompt_tokens': 95, 'total_tokens': 128, 'completion_tokens_details': {'accepted_prediction_tokens': 0, 'audio_tokens': 0, 'reasoning_tokens': 0, 'rejected_prediction_tokens': 0}, 'prompt_tokens_details': {'audio_tokens': 0, 'cached_tokens': 0}}, 'model_name': 'gpt-4o-2024-08-06', 'system_fingerprint': 'fp_07871e2ad8', 'id': 'chatcmpl-BniOMDGVhkR9OEf70TPw2syu8QdYH', 'service_tier': 'default', 'finish_reason': 'stop', 'logprobs': None}, id='run--c773ccca-741f-4e2d-9601-500f16385c21-0', usage_metadata={'input_tokens': 95, 'output_tokens': 33, 'total_tokens': 128, 'input_token_details': {'audio': 0, 'cache_read': 0}, 'output_token_details': {'audio': 0, 'reasoning': 0}})"
      ]
     },
     "execution_count": 52,
     "metadata": {},
     "output_type": "execute_result"
    }
   ],
   "source": [
    "from langgraph.prebuilt import ToolNode\n",
    "from langchain_core.messages import ToolMessage\n",
    "\n",
    "tools = [calculator, get_current_time]\n",
    "llm_with_tools = llm.bind_tools(tools)\n",
    "\n",
    "\n",
    "llm_with_tools.invoke(\"Hi who is the current PM in India\")"
   ]
  },
  {
   "cell_type": "code",
   "execution_count": 53,
   "id": "de20c61a-a4c9-4671-aedb-969775d766be",
   "metadata": {},
   "outputs": [
    {
     "data": {
      "text/plain": [
       "AIMessage(content='', additional_kwargs={'tool_calls': [{'id': 'call_RV8V93Iluo25aQmBpOKHS92o', 'function': {'arguments': '{\"expression\":\"2+2\"}', 'name': 'calculator'}, 'type': 'function'}], 'refusal': None}, response_metadata={'token_usage': {'completion_tokens': 16, 'prompt_tokens': 90, 'total_tokens': 106, 'completion_tokens_details': {'accepted_prediction_tokens': 0, 'audio_tokens': 0, 'reasoning_tokens': 0, 'rejected_prediction_tokens': 0}, 'prompt_tokens_details': {'audio_tokens': 0, 'cached_tokens': 0}}, 'model_name': 'gpt-4o-2024-08-06', 'system_fingerprint': 'fp_07871e2ad8', 'id': 'chatcmpl-BniONaPiPanbKnoGryAT0j64HfVkW', 'service_tier': 'default', 'finish_reason': 'tool_calls', 'logprobs': None}, id='run--0f6183cd-70fa-438c-ab57-9d3771bff0ca-0', tool_calls=[{'name': 'calculator', 'args': {'expression': '2+2'}, 'id': 'call_RV8V93Iluo25aQmBpOKHS92o', 'type': 'tool_call'}], usage_metadata={'input_tokens': 90, 'output_tokens': 16, 'total_tokens': 106, 'input_token_details': {'audio': 0, 'cache_read': 0}, 'output_token_details': {'audio': 0, 'reasoning': 0}})"
      ]
     },
     "execution_count": 53,
     "metadata": {},
     "output_type": "execute_result"
    }
   ],
   "source": [
    "llm_with_tools.invoke(\"2+2\")"
   ]
  },
  {
   "cell_type": "code",
   "execution_count": 54,
   "id": "6c467af1-0c7b-4702-aa33-1678ce2d4611",
   "metadata": {},
   "outputs": [],
   "source": [
    "from langgraph.prebuilt import ToolNode\n",
    "from langchain_core.messages import ToolMessage\n",
    "\n",
    "tools = [calculator, get_current_time]\n",
    "llm_with_tools = llm.bind_tools(tools)\n",
    "\n",
    "\n",
    "def chatbot_with_tools(state: State) -> Dict[str, Any]:\n",
    "    messages = state['messages']\n",
    "    response = llm_with_tools.invoke(messages)\n",
    "    return {\"messages\": [response]}\n",
    "\n",
    "\n",
    "\n",
    "tool_node = ToolNode(tools)\n",
    "\n",
    "\n",
    "    \n",
    "    "
   ]
  },
  {
   "cell_type": "code",
   "execution_count": 55,
   "id": "568d4b7b-fef7-4ced-85da-2911f67b078c",
   "metadata": {},
   "outputs": [],
   "source": [
    "from typing import Literal\n",
    "\n",
    "def should_continue(state: State) -> Literal[\"tools\", \"__end__\"]:\n",
    "    \"\"\"\n",
    "    Determines if we should use tools or end the conversation\n",
    "\n",
    "    Return:\n",
    "         \"tools\" if the last message has tool calls\n",
    "         \"__end__\" if we should end\n",
    "    \n",
    "    \n",
    "    \"\"\"\n",
    "    last_message = state['messages'][-1]\n",
    "    if hasattr(last_message, \"tool_calls\"):\n",
    "        return \"tools\"\n",
    "    else:\n",
    "        return \"__end__\"\n",
    "        \n",
    "               \n",
    "    "
   ]
  },
  {
   "cell_type": "code",
   "execution_count": 56,
   "id": "33052073-9c1a-4ecb-8ff5-038261759d01",
   "metadata": {},
   "outputs": [
    {
     "data": {
      "text/plain": [
       "True"
      ]
     },
     "execution_count": 56,
     "metadata": {},
     "output_type": "execute_result"
    }
   ],
   "source": [
    "\n",
    "d = llm_with_tools.invoke(\"2+2\")\n",
    "\n",
    "# d= {\"a\":{\"b\": 3}}\n",
    "\n",
    "hasattr(d, \"tool_calls\")"
   ]
  },
  {
   "cell_type": "code",
   "execution_count": 62,
   "id": "8b947e1b-7a35-4601-b867-fb7c63835e6f",
   "metadata": {},
   "outputs": [],
   "source": [
    "tools_graph_builder = StateGraph(State)\n",
    "tools_graph_builder.add_node(\"chatbot\", chatbot_with_tools)\n",
    "tools_graph_builder.add_node(\"tools\", tool_node)\n",
    "\n",
    "tools_graph_builder.add_edge(START, \"chatbot\")\n",
    "tools_graph_builder.add_conditional_edges(\n",
    "    \"chatbot\",\n",
    "    should_continue,\n",
    "    {\n",
    "        \"tools\": \"tools\",\n",
    "        \"__end__\": END\n",
    "    }\n",
    ")\n",
    "\n",
    "tools_graph_builder.add_edge(\"tools\", END)\n",
    "tool_chatbot = tools_graph_builder.compile(checkpointer=memory)"
   ]
  },
  {
   "cell_type": "code",
   "execution_count": 68,
   "id": "33282d12-b328-4a90-b75b-11a2a8281898",
   "metadata": {},
   "outputs": [
    {
     "data": {
      "image/png": "[encoded data removed]",
      "text/plain": [
       "<IPython.core.display.Image object>"
      ]
     },
     "metadata": {},
     "output_type": "display_data"
    }
   ],
   "source": [
    "from IPython.display import Image, display\n",
    "\n",
    "try:\n",
    "    display(Image(tool_chatbot.get_graph().draw_mermaid_png()))\n",
    "except Exception as e:\n",
    "    print(e)"
   ]
  },
  {
   "cell_type": "code",
   "execution_count": 63,
   "id": "08947ff7-d2df-47a2-a1f8-71ad518a54bd",
   "metadata": {},
   "outputs": [
    {
     "name": "stdout",
     "output_type": "stream",
     "text": [
      "unique ID:- 9f545871-4c26-4780-9aa7-12a2f59c129f\n"
     ]
    }
   ],
   "source": [
    "import uuid\n",
    "unique_id = uuid.uuid4()\n",
    "print(f\"unique ID:- {unique_id}\")"
   ]
  },
  {
   "cell_type": "code",
   "execution_count": 67,
   "id": "6747a29a-5201-4510-93f2-746078cc95ae",
   "metadata": {},
   "outputs": [
    {
     "name": "stdout",
     "output_type": "stream",
     "text": [
      "🛠️ Testing Tool-Enabled Chatbot\n",
      "==================================================\n",
      "📝 Test 1: Math Calculation\n",
      "👤 Human: What's 15 * 7 + sqrt(144)?\n",
      "🤖 AI: [Calling tool: calculator]\n",
      "🔧 Tool: The result of 15 * 7 + sqrt(144) is 117.0\n",
      "🤖 AI: The result of \\(15 \\times 7 + \\sqrt{144}\\) is 117.\n",
      "🤖 AI: If you have any more questions or need further assistance, feel free to ask!\n",
      "🤖 AI: If you have any more questions or need further assistance, feel free to ask!\n",
      "🤖 AI: If you have any more questions or need further assistance, feel free to ask!\n",
      "🤖 AI: If you have any more questions or need further assistance, feel free to ask!\n",
      "🤖 AI: If you have any more questions or need further assistance, feel free to ask!\n",
      "🤖 AI: If you have any more questions or need further assistance, feel free to ask!\n",
      "🤖 AI: If you have any more questions or need further assistance, feel free to ask!\n",
      "🤖 AI: If you have any more questions or need further assistance, feel free to ask!\n",
      "🤖 AI: If you have any more questions or need further assistance, feel free to ask!\n",
      "🤖 AI: If you have any more questions or need further assistance, feel free to ask!\n",
      "🤖 AI: If you have any more questions or need further assistance, feel free to ask!\n",
      "👤 Human: What's 15 * 7 + sqrt(144)?\n",
      "🤖 AI: [Calling tool: calculator]\n",
      "🔧 Tool: The result of 15 * 7 + sqrt(144) is 117.0\n",
      "👤 Human: What time is it right now?\n",
      "🤖 AI: [Calling tool: get_current_time]\n",
      "🔧 Tool: Current time is: 2025-06-29 14:45:28\n",
      "👤 Human: what is 2+2\n",
      "🤖 AI: [Calling tool: calculator]\n",
      "🔧 Tool: The result of 2 + 2 is 4\n",
      "👤 Human: who is PM of INdia\n",
      "🤖 AI: As of my last update, the Prime Minister of India is Narendra Modi. However, please verify with a current source as political positions can change.\n"
     ]
    }
   ],
   "source": [
    "def test_tool_chatbot(user_message):\n",
    "    print(\"🛠️ Testing Tool-Enabled Chatbot\")\n",
    "    print(\"=\" * 50)\n",
    "    \n",
    "    config = {\"configurable\": {\"thread_id\": \"tool_test_1\"}}\n",
    "    \n",
    "    # Test 1: Math calculation\n",
    "    print(\"📝 Test 1: Math Calculation\")\n",
    "    result1 = tool_chatbot.invoke(\n",
    "        {\"messages\": [HumanMessage(content=user_message)]},\n",
    "        config\n",
    "    )\n",
    "    \n",
    "    for message in result1[\"messages\"]:\n",
    "        if isinstance(message, HumanMessage):\n",
    "            print(f\"👤 Human: {message.content}\")\n",
    "        elif isinstance(message, AIMessage):\n",
    "            if hasattr(message, 'tool_calls') and message.tool_calls:\n",
    "                print(f\"🤖 AI: [Calling tool: {message.tool_calls[0]['name']}]\")\n",
    "            else:\n",
    "                print(f\"🤖 AI: {message.content}\")\n",
    "        elif isinstance(message, ToolMessage):\n",
    "            print(f\"🔧 Tool: {message.content}\")\n",
    "    \n",
    "    \n",
    "    # return result2\n",
    "\n",
    "# Test the tool-enabled chatbot\n",
    "tool_result = test_tool_chatbot(\"who is PM of INdia\")\n"
   ]
  },
  {
   "cell_type": "code",
   "execution_count": 65,
   "id": "32a50136-4394-4aa3-b72a-25523ea6c8d8",
   "metadata": {},
   "outputs": [
    {
     "data": {
      "text/plain": [
       "{'messages': [HumanMessage(content='2+2', additional_kwargs={}, response_metadata={}, id='b80c853b-d207-4818-86bd-54cdb6c107a3'),\n",
       "  AIMessage(content='', additional_kwargs={'tool_calls': [{'id': 'call_E3skwrknhxB9FLsVUXn8j6Hw', 'function': {'arguments': '{\"expression\":\"2+2\"}', 'name': 'calculator'}, 'type': 'function'}], 'refusal': None}, response_metadata={'token_usage': {'completion_tokens': 16, 'prompt_tokens': 90, 'total_tokens': 106, 'completion_tokens_details': {'accepted_prediction_tokens': 0, 'audio_tokens': 0, 'reasoning_tokens': 0, 'rejected_prediction_tokens': 0}, 'prompt_tokens_details': {'audio_tokens': 0, 'cached_tokens': 0}}, 'model_name': 'gpt-4o-2024-08-06', 'system_fingerprint': 'fp_07871e2ad8', 'id': 'chatcmpl-BniQpdeKl7Pst6233aF3JRtRdR01e', 'service_tier': 'default', 'finish_reason': 'tool_calls', 'logprobs': None}, id='run--7b026deb-d88c-41c7-92ef-efabd7bbf639-0', tool_calls=[{'name': 'calculator', 'args': {'expression': '2+2'}, 'id': 'call_E3skwrknhxB9FLsVUXn8j6Hw', 'type': 'tool_call'}], usage_metadata={'input_tokens': 90, 'output_tokens': 16, 'total_tokens': 106, 'input_token_details': {'audio': 0, 'cache_read': 0}, 'output_token_details': {'audio': 0, 'reasoning': 0}}),\n",
       "  ToolMessage(content='The result of 2+2 is 4', name='calculator', id='c7427b62-35de-4419-924e-614fc225d2be', tool_call_id='call_E3skwrknhxB9FLsVUXn8j6Hw')]}"
      ]
     },
     "execution_count": 65,
     "metadata": {},
     "output_type": "execute_result"
    }
   ],
   "source": [
    "test_simple(\"2+2\")"
   ]
  },
  {
   "cell_type": "markdown",
   "id": "5f9c5938-3295-41ef-a6b4-725f721c5c42",
   "metadata": {},
   "source": [
    "### Human in loop\n",
    "\n",
    "Sometimes AI agents need human oversight or approval before actions. \n",
    "\n",
    "## What are the Intrupts\n",
    "\n",
    "- Review what the agent plan to do\n",
    "- Modify the state if neede\n",
    "- Approve or reject actions\n",
    "- provide additional guidence\n",
    "\n"
   ]
  },
  {
   "cell_type": "code",
   "execution_count": 170,
   "id": "968b6160-6162-44da-924d-419fa5a25882",
   "metadata": {},
   "outputs": [],
   "source": [
    "class HumanLoopState(TypedDict):\n",
    "    # messages will store our conversation history\n",
    "    ### add_messages is a special function  that append new message instead of replacing them\n",
    "\n",
    "    messages: Annotated[list, add_messages]\n",
    "    ask_human: bool"
   ]
  },
  {
   "cell_type": "code",
   "execution_count": 171,
   "id": "a8d4ead3-52d6-4f40-91f6-b3bb3a10ef06",
   "metadata": {},
   "outputs": [],
   "source": [
    "@tool\n",
    "def request_human_help(question:str)  -> str:\n",
    "    \"\"\"\n",
    "    Request help from a human Supervison.\n",
    "    Args:\n",
    "    question: The question or situation where human help is needed\n",
    "\n",
    "    Returns:\n",
    "        Confirmation that help has been requested\n",
    "\n",
    "    \"\"\"\n",
    "    return f\"Human help requested for: {question}\"\n",
    "\n",
    "\n",
    "human_tools = [calculator, get_current_time, request_human_help]\n",
    "\n",
    "llm_with_human_tools = llm.bind_tools(human_tools)\n"
   ]
  },
  {
   "cell_type": "code",
   "execution_count": 172,
   "id": "07f5a46e-8be9-47c9-887d-10de43ae06d4",
   "metadata": {},
   "outputs": [],
   "source": [
    "### create a node with Human assistant logic\n",
    "\n",
    "def chatbot_with_human_help(state: HumanLoopState) -> Dict[str, Any]:\n",
    "    messages = state[\"messages\"]\n",
    "    response = llm_with_human_tools.invoke(messages)\n",
    "    ask_human = False\n",
    "    if hasattr(response, \"tool_calls\"):\n",
    "        for tool_call in response.tool_calls:\n",
    "            if tool_call['name'] == 'request_human_help':\n",
    "                ask_human = True\n",
    "    return {\"messages\": [response], \"ask_human\": ask_human}\n",
    "\n",
    "\n",
    "\n",
    "def human_node(state: HumanLoopState) -> Dict[str, Any]:\n",
    "    \"\"\"\n",
    "    Human intervention node- this is where human can provide input\n",
    "    \"\"\"\n",
    "    last_message = state['messages'][-1]\n",
    "    if hasattr(last_message, \"tool_calls\") and last_message.tool_calls:\n",
    "        tool_call = last_message.tool_calls[0]\n",
    "        if tool_call['name'] ==  \"request_human_help\":\n",
    "            human_response = \"I'have reviewed your question, Please process with calculation and provide a detail Explanation\"\n",
    "            tool_message = ToolMessage(\n",
    "                content = human_response, \n",
    "                tool_call_id = tool_call['id']\n",
    "\n",
    "            )\n",
    "            return {\"messages\": [tool_message],\n",
    "                    \"ask_human\": False}\n",
    "\n",
    "    return {\"ask_human\": False} \n",
    "        \n",
    "    "
   ]
  },
  {
   "cell_type": "code",
   "execution_count": 173,
   "id": "c29493c4-4464-4b3e-b773-8f6c3dd4df69",
   "metadata": {},
   "outputs": [],
   "source": [
    "def route_human_loop(state: HumanLoopState) -> Literal[\"human\", \"tools\", \"__end__\"]:\n",
    "    \"\"\"\n",
    "    Route based on whether human help needed or tool cshould be called\n",
    "\n",
    "    \"\"\"\n",
    "    if state.get(\"ask_human\", False):\n",
    "        return \"human\"\n",
    "\n",
    "    messages = state['messages']\n",
    "    last_message = messages[-1]\n",
    "\n",
    "    if hasattr(last_message, \"tool_calls\"):\n",
    "        for tool_call in last_message.tool_calls:\n",
    "            if tool_call[\"name\"] != \"request_human_help\":\n",
    "                return \"tools\"\n",
    "        return \"human\" \n",
    "\n",
    "    else:\n",
    "        return \"__end__\"\n",
    "    \n",
    "\n",
    "    \n",
    "\n",
    "    "
   ]
  },
  {
   "cell_type": "code",
   "execution_count": 174,
   "id": "2cb79fe6-5b35-44f6-abda-c7ff7472fe02",
   "metadata": {},
   "outputs": [],
   "source": [
    "d = {\"a\": 1, \"b\": 2}"
   ]
  },
  {
   "cell_type": "code",
   "execution_count": 175,
   "id": "de38828b-4ef6-4a7a-acee-984f6e468613",
   "metadata": {},
   "outputs": [
    {
     "data": {
      "text/plain": [
       "False"
      ]
     },
     "execution_count": 175,
     "metadata": {},
     "output_type": "execute_result"
    }
   ],
   "source": [
    "d.get(\"c\", False)"
   ]
  },
  {
   "cell_type": "code",
   "execution_count": 176,
   "id": "11666abe-cb96-4446-98ab-6837c99e5527",
   "metadata": {},
   "outputs": [],
   "source": [
    "i = 2\n",
    "def _check_if_else():\n",
    "    if i==2:\n",
    "        # print(\"conditioned matched\")\n",
    "        return \"conditioned matched\"\n",
    "    else:\n",
    "        return \"conditioned not matched\""
   ]
  },
  {
   "cell_type": "code",
   "execution_count": 177,
   "id": "ef6c6dd1-5f29-4bb7-ac2b-07d29aac3afa",
   "metadata": {},
   "outputs": [
    {
     "data": {
      "text/plain": [
       "'conditioned matched'"
      ]
     },
     "execution_count": 177,
     "metadata": {},
     "output_type": "execute_result"
    }
   ],
   "source": [
    "_check_if_else()"
   ]
  },
  {
   "cell_type": "code",
   "execution_count": 178,
   "id": "b938b359-a612-4c16-8034-0a6a96b91a43",
   "metadata": {},
   "outputs": [],
   "source": [
    "human_loop_builder = StateGraph(HumanLoopState)\n",
    "human_loop_builder.add_node(\"chatbot\",chatbot_with_human_help)\n",
    "human_loop_builder.add_node(\"tools\", ToolNode(human_tools))\n",
    "human_loop_builder.add_node(\"human\", human_node)\n",
    "\n",
    "human_loop_builder.add_edge(START, \"chatbot\")\n",
    "human_loop_builder.add_conditional_edges(\n",
    "    \"chatbot\",\n",
    "    route_human_loop,\n",
    "    {\n",
    "        \"human\": \"human\",\n",
    "        \"tools\": \"tools\", \n",
    "        \"__end__\": END\n",
    "    }\n",
    ")\n",
    "\n",
    "human_loop_builder.add_edge(\"human\", END)\n",
    "human_loop_builder.add_edge(\"tools\", END)\n",
    "\n",
    "human_loop_chatbot = human_loop_builder.compile(\n",
    "    checkpointer=memory,\n",
    "    interrupt_before=[\"human\"]\n",
    "\n",
    ")\n",
    "    \n",
    "        "
   ]
  },
  {
   "cell_type": "code",
   "execution_count": 179,
   "id": "17c7bca7-5704-4c4c-bc5c-d6d3e97b8ffd",
   "metadata": {},
   "outputs": [
    {
     "data": {
      "image/png": "[encoded data removed]",
      "text/plain": [
       "<IPython.core.display.Image object>"
      ]
     },
     "metadata": {},
     "output_type": "display_data"
    }
   ],
   "source": [
    "from IPython.display import Image, display\n",
    "\n",
    "try:\n",
    "    display(Image(human_loop_chatbot.get_graph().draw_mermaid_png()))\n",
    "except Exception as e:\n",
    "    print(e)"
   ]
  },
  {
   "cell_type": "code",
   "execution_count": 180,
   "id": "6c39cd55-28d4-4e2a-929a-b2360b985e57",
   "metadata": {},
   "outputs": [],
   "source": [
    "def test_human_loop(user_message):\n",
    "    print(\"🛠️ Testing Tool-Enabled Chatbot\")\n",
    "    print(\"=\" * 50)\n",
    "    \n",
    "    config = {\"configurable\": {\"thread_id\": \"human_loop_test\"}}\n",
    "\n",
    "\n",
    "    \n",
    "    initial_result = human_loop_chatbot.invoke(\n",
    "        {\"messages\": [HumanMessage(content=user_message)]},\n",
    "        config\n",
    "    )\n",
    "\n",
    "    for message in initial_result[\"messages\"]:\n",
    "        if isinstance(message, HumanMessage):\n",
    "            print(f\"👤 Human: {message.content}\")\n",
    "        elif isinstance(message, AIMessage):\n",
    "            if hasattr(message, 'tool_calls') and message.tool_calls:\n",
    "                print(f\"🤖 AI: [Requesting human help]\")\n",
    "            else:\n",
    "                print(f\"🤖 AI: {message.content}\")\n",
    "\n",
    "    state = human_loop_chatbot.get_state(config)\n",
    "    if state.next == (\"human\",):\n",
    "        print(\"In a real app, a human would now review and provide input.\")\n",
    "        final_result = human_loop_chatbot.invoke(None, config)\n",
    "        \n",
    "        # Show the final messages\n",
    "        new_messages = final_result[\"messages\"][len(initial_result[\"messages\"]):]\n",
    "        for message in new_messages:\n",
    "            if isinstance(message, ToolMessage):\n",
    "                print(f\"👨‍💼 Human: {message.content}\")\n",
    "            elif isinstance(message, AIMessage):\n",
    "                print(f\"🤖 AI: {message.content}\")\n",
    "    \n",
    "        return final_result\n",
    "        \n",
    "   "
   ]
  },
  {
   "cell_type": "code",
   "execution_count": 181,
   "id": "3d460d52-3e0e-4ffc-98c5-4f0891a18d68",
   "metadata": {},
   "outputs": [
    {
     "name": "stdout",
     "output_type": "stream",
     "text": [
      "🛠️ Testing Tool-Enabled Chatbot\n",
      "==================================================\n",
      "👤 Human: add 2+2 and devide by 2\n",
      "🤖 AI: [Requesting human help]\n",
      "👤 Human: add 2+2 and devide by 2\n",
      "👤 Human: add 2+2 and devide by 2\n",
      "👤 Human: add 2+2 and devide by 2\n",
      "👤 Human: add 2+2 and devide by 2\n",
      "🤖 AI: The result of \\((2 + 2) / 2\\) is 2.0.\n",
      "👤 Human: add 2+2 and devide by 2\n",
      "🤖 AI: The result of \\((2 + 2) / 2\\) is 2.0.\n",
      "👤 Human: add 2+2 and devide by 2\n",
      "🤖 AI: The result of \\((2 + 2) / 2\\) is 2.0.\n",
      "In a real app, a human would now review and provide input.\n"
     ]
    },
    {
     "data": {
      "text/plain": [
       "{'messages': [HumanMessage(content='add 2+2 and devide by 2', additional_kwargs={}, response_metadata={}, id='fc2f8900-9156-4872-b342-61b470828852'),\n",
       "  AIMessage(content='', additional_kwargs={'tool_calls': [{'id': 'call_6ZujW4EiWk9J95Hz0GunFFLo', 'function': {'arguments': '{\"expression\":\"(2 + 2) / 2\"}', 'name': 'calculator'}, 'type': 'function'}], 'refusal': None}, response_metadata={'token_usage': {'completion_tokens': 22, 'prompt_tokens': 146, 'total_tokens': 168, 'completion_tokens_details': {'accepted_prediction_tokens': 0, 'audio_tokens': 0, 'reasoning_tokens': 0, 'rejected_prediction_tokens': 0}, 'prompt_tokens_details': {'audio_tokens': 0, 'cached_tokens': 0}}, 'model_name': 'gpt-4o-2024-08-06', 'system_fingerprint': 'fp_07871e2ad8', 'id': 'chatcmpl-Bnjf8eFg6houO1pBSQ89qNibCu8dh', 'service_tier': 'default', 'finish_reason': 'tool_calls', 'logprobs': None}, id='run--f197b51a-cdd9-4aaf-aa16-fcc8a486f098-0', tool_calls=[{'name': 'calculator', 'args': {'expression': '(2 + 2) / 2'}, 'id': 'call_6ZujW4EiWk9J95Hz0GunFFLo', 'type': 'tool_call'}], usage_metadata={'input_tokens': 146, 'output_tokens': 22, 'total_tokens': 168, 'input_token_details': {'audio': 0, 'cache_read': 0}, 'output_token_details': {'audio': 0, 'reasoning': 0}}),\n",
       "  ToolMessage(content='The result of (2 + 2) / 2 is 2.0', name='calculator', id='61b1ad8b-49f0-454b-9e45-c3ea40d132d8', tool_call_id='call_6ZujW4EiWk9J95Hz0GunFFLo'),\n",
       "  HumanMessage(content='add 2+2 and devide by 2', additional_kwargs={}, response_metadata={}, id='18582446-f3b0-483f-ad14-1f993acce441'),\n",
       "  HumanMessage(content='add 2+2 and devide by 2', additional_kwargs={}, response_metadata={}, id='00923784-ce3a-4855-b664-9ca43f830964'),\n",
       "  HumanMessage(content='add 2+2 and devide by 2', additional_kwargs={}, response_metadata={}, id='633b9435-1fef-44ec-838d-05846643fb2f'),\n",
       "  HumanMessage(content='add 2+2 and devide by 2', additional_kwargs={}, response_metadata={}, id='a6fc999d-f583-403b-b0b6-68749c6a4f39'),\n",
       "  AIMessage(content='The result of \\\\((2 + 2) / 2\\\\) is 2.0.', additional_kwargs={'refusal': None}, response_metadata={'token_usage': {'completion_tokens': 22, 'prompt_tokens': 252, 'total_tokens': 274, 'completion_tokens_details': {'accepted_prediction_tokens': 0, 'audio_tokens': 0, 'reasoning_tokens': 0, 'rejected_prediction_tokens': 0}, 'prompt_tokens_details': {'audio_tokens': 0, 'cached_tokens': 0}}, 'model_name': 'gpt-4o-2024-08-06', 'system_fingerprint': 'fp_07871e2ad8', 'id': 'chatcmpl-BnjyprEXVnbTEGQJ1TFUu1AhkbjHn', 'service_tier': 'default', 'finish_reason': 'stop', 'logprobs': None}, id='run--7a92d205-aa95-430c-94ee-11c57721d0fd-0', usage_metadata={'input_tokens': 252, 'output_tokens': 22, 'total_tokens': 274, 'input_token_details': {'audio': 0, 'cache_read': 0}, 'output_token_details': {'audio': 0, 'reasoning': 0}}),\n",
       "  HumanMessage(content='add 2+2 and devide by 2', additional_kwargs={}, response_metadata={}, id='04065678-c87a-4fda-8e63-214ff608fad5'),\n",
       "  AIMessage(content='The result of \\\\((2 + 2) / 2\\\\) is 2.0.', additional_kwargs={'refusal': None}, response_metadata={'token_usage': {'completion_tokens': 22, 'prompt_tokens': 292, 'total_tokens': 314, 'completion_tokens_details': {'accepted_prediction_tokens': 0, 'audio_tokens': 0, 'reasoning_tokens': 0, 'rejected_prediction_tokens': 0}, 'prompt_tokens_details': {'audio_tokens': 0, 'cached_tokens': 0}}, 'model_name': 'gpt-4o-2024-08-06', 'system_fingerprint': 'fp_07871e2ad8', 'id': 'chatcmpl-Bnk1YunaegUo8lVSe6poloiZAw61X', 'service_tier': 'default', 'finish_reason': 'stop', 'logprobs': None}, id='run--917fb5be-5b23-47ce-bf08-839cb437aafe-0', usage_metadata={'input_tokens': 292, 'output_tokens': 22, 'total_tokens': 314, 'input_token_details': {'audio': 0, 'cache_read': 0}, 'output_token_details': {'audio': 0, 'reasoning': 0}}),\n",
       "  HumanMessage(content='add 2+2 and devide by 2', additional_kwargs={}, response_metadata={}, id='cedd8e20-a5d0-4216-8ce9-bac9e63d8d5b'),\n",
       "  AIMessage(content='The result of \\\\((2 + 2) / 2\\\\) is 2.0.', additional_kwargs={'refusal': None}, response_metadata={'token_usage': {'completion_tokens': 22, 'prompt_tokens': 332, 'total_tokens': 354, 'completion_tokens_details': {'accepted_prediction_tokens': 0, 'audio_tokens': 0, 'reasoning_tokens': 0, 'rejected_prediction_tokens': 0}, 'prompt_tokens_details': {'audio_tokens': 0, 'cached_tokens': 0}}, 'model_name': 'gpt-4o-2024-08-06', 'system_fingerprint': 'fp_07871e2ad8', 'id': 'chatcmpl-Bnk2VCkVLLgGoJxzUBAhqIBq9umtz', 'service_tier': 'default', 'finish_reason': 'stop', 'logprobs': None}, id='run--148379d0-f73b-4438-b7b0-87c85d943cda-0', usage_metadata={'input_tokens': 332, 'output_tokens': 22, 'total_tokens': 354, 'input_token_details': {'audio': 0, 'cache_read': 0}, 'output_token_details': {'audio': 0, 'reasoning': 0}})],\n",
       " 'ask_human': False}"
      ]
     },
     "execution_count": 181,
     "metadata": {},
     "output_type": "execute_result"
    }
   ],
   "source": [
    "test_human_loop(\"add 2+2 and devide by 2\")"
   ]
  },
  {
   "cell_type": "code",
   "execution_count": 114,
   "id": "3c4c9fdc-e216-4a51-9cb4-10a2a51b67b0",
   "metadata": {},
   "outputs": [
    {
     "name": "stdout",
     "output_type": "stream",
     "text": [
      "/Users/rajeshthakur/Desktop/rajesh/Archive/teaching/agentic_ai/BMGR-MAY2025-GIAI-2/langGraph_tutorial\n"
     ]
    }
   ],
   "source": [
    "!pwd\n"
   ]
  },
  {
   "cell_type": "code",
   "execution_count": null,
   "id": "f03f7fa8-76ef-4f44-a42c-59832b4f176c",
   "metadata": {},
   "outputs": [],
   "source": []
  },
  {
   "cell_type": "code",
   "execution_count": null,
   "id": "f832d4a4-41bc-422a-bf07-594052f9e81b",
   "metadata": {},
   "outputs": [],
   "source": []
  }
 ],
 "metadata": {
  "kernelspec": {
   "display_name": "Python 3 (ipykernel)",
   "language": "python",
   "name": "python3"
  },
  "language_info": {
   "codemirror_mode": {
    "name": "ipython",
    "version": 3
   },
   "file_extension": ".py",
   "mimetype": "text/x-python",
   "name": "python",
   "nbconvert_exporter": "python",
   "pygments_lexer": "ipython3",
   "version": "3.11.11"
  }
 },
 "nbformat": 4,
 "nbformat_minor": 5
}
