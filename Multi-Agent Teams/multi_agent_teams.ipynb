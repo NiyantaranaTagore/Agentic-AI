{
 "cells": [
  {
   "cell_type": "code",
   "execution_count": 1,
   "id": "1de83f1c",
   "metadata": {},
   "outputs": [
    {
     "name": "stdout",
     "output_type": "stream",
     "text": [
      "Requirement already satisfied: agno in /Users/niyantarana/miniconda3/envs/bia_genai/lib/python3.11/site-packages (1.6.2)\n",
      "Requirement already satisfied: duckduckgo-search in /Users/niyantarana/miniconda3/envs/bia_genai/lib/python3.11/site-packages (7.2.1)\n",
      "Requirement already satisfied: google-genai in /Users/niyantarana/miniconda3/envs/bia_genai/lib/python3.11/site-packages (1.20.0)\n",
      "Requirement already satisfied: docstring-parser in /Users/niyantarana/miniconda3/envs/bia_genai/lib/python3.11/site-packages (from agno) (0.16)\n",
      "Requirement already satisfied: gitpython in /Users/niyantarana/miniconda3/envs/bia_genai/lib/python3.11/site-packages (from agno) (3.1.44)\n",
      "Requirement already satisfied: httpx in /Users/niyantarana/miniconda3/envs/bia_genai/lib/python3.11/site-packages (from agno) (0.28.1)\n",
      "Requirement already satisfied: pydantic-settings in /Users/niyantarana/miniconda3/envs/bia_genai/lib/python3.11/site-packages (from agno) (2.9.1)\n",
      "Requirement already satisfied: pydantic in /Users/niyantarana/miniconda3/envs/bia_genai/lib/python3.11/site-packages (from agno) (2.11.4)\n",
      "Requirement already satisfied: python-dotenv in /Users/niyantarana/miniconda3/envs/bia_genai/lib/python3.11/site-packages (from agno) (1.1.0)\n",
      "Requirement already satisfied: python-multipart in /Users/niyantarana/miniconda3/envs/bia_genai/lib/python3.11/site-packages (from agno) (0.0.20)\n",
      "Requirement already satisfied: pyyaml in /Users/niyantarana/miniconda3/envs/bia_genai/lib/python3.11/site-packages (from agno) (6.0.2)\n",
      "Requirement already satisfied: rich in /Users/niyantarana/miniconda3/envs/bia_genai/lib/python3.11/site-packages (from agno) (13.9.4)\n",
      "Requirement already satisfied: tomli in /Users/niyantarana/miniconda3/envs/bia_genai/lib/python3.11/site-packages (from agno) (2.2.1)\n",
      "Requirement already satisfied: typer in /Users/niyantarana/miniconda3/envs/bia_genai/lib/python3.11/site-packages (from agno) (0.16.0)\n",
      "Requirement already satisfied: typing-extensions in /Users/niyantarana/miniconda3/envs/bia_genai/lib/python3.11/site-packages (from agno) (4.13.2)\n",
      "Requirement already satisfied: click>=8.1.7 in /Users/niyantarana/miniconda3/envs/bia_genai/lib/python3.11/site-packages (from duckduckgo-search) (8.2.0)\n",
      "Requirement already satisfied: primp>=0.10.0 in /Users/niyantarana/miniconda3/envs/bia_genai/lib/python3.11/site-packages (from duckduckgo-search) (0.15.0)\n",
      "Requirement already satisfied: lxml>=5.3.0 in /Users/niyantarana/miniconda3/envs/bia_genai/lib/python3.11/site-packages (from duckduckgo-search) (5.4.0)\n",
      "Requirement already satisfied: anyio<5.0.0,>=4.8.0 in /Users/niyantarana/miniconda3/envs/bia_genai/lib/python3.11/site-packages (from google-genai) (4.9.0)\n",
      "Requirement already satisfied: google-auth<3.0.0,>=2.14.1 in /Users/niyantarana/miniconda3/envs/bia_genai/lib/python3.11/site-packages (from google-genai) (2.40.2)\n",
      "Requirement already satisfied: requests<3.0.0,>=2.28.1 in /Users/niyantarana/miniconda3/envs/bia_genai/lib/python3.11/site-packages (from google-genai) (2.32.3)\n",
      "Requirement already satisfied: websockets<15.1.0,>=13.0.0 in /Users/niyantarana/miniconda3/envs/bia_genai/lib/python3.11/site-packages (from google-genai) (15.0.1)\n",
      "Requirement already satisfied: idna>=2.8 in /Users/niyantarana/miniconda3/envs/bia_genai/lib/python3.11/site-packages (from anyio<5.0.0,>=4.8.0->google-genai) (3.10)\n",
      "Requirement already satisfied: sniffio>=1.1 in /Users/niyantarana/miniconda3/envs/bia_genai/lib/python3.11/site-packages (from anyio<5.0.0,>=4.8.0->google-genai) (1.3.1)\n",
      "Requirement already satisfied: cachetools<6.0,>=2.0.0 in /Users/niyantarana/miniconda3/envs/bia_genai/lib/python3.11/site-packages (from google-auth<3.0.0,>=2.14.1->google-genai) (5.5.2)\n",
      "Requirement already satisfied: pyasn1-modules>=0.2.1 in /Users/niyantarana/miniconda3/envs/bia_genai/lib/python3.11/site-packages (from google-auth<3.0.0,>=2.14.1->google-genai) (0.4.2)\n",
      "Requirement already satisfied: rsa<5,>=3.1.4 in /Users/niyantarana/miniconda3/envs/bia_genai/lib/python3.11/site-packages (from google-auth<3.0.0,>=2.14.1->google-genai) (4.9.1)\n",
      "Requirement already satisfied: certifi in /Users/niyantarana/miniconda3/envs/bia_genai/lib/python3.11/site-packages (from httpx->agno) (2025.4.26)\n",
      "Requirement already satisfied: httpcore==1.* in /Users/niyantarana/miniconda3/envs/bia_genai/lib/python3.11/site-packages (from httpx->agno) (1.0.9)\n",
      "Requirement already satisfied: h11>=0.16 in /Users/niyantarana/miniconda3/envs/bia_genai/lib/python3.11/site-packages (from httpcore==1.*->httpx->agno) (0.16.0)\n",
      "Requirement already satisfied: annotated-types>=0.6.0 in /Users/niyantarana/miniconda3/envs/bia_genai/lib/python3.11/site-packages (from pydantic->agno) (0.7.0)\n",
      "Requirement already satisfied: pydantic-core==2.33.2 in /Users/niyantarana/miniconda3/envs/bia_genai/lib/python3.11/site-packages (from pydantic->agno) (2.33.2)\n",
      "Requirement already satisfied: typing-inspection>=0.4.0 in /Users/niyantarana/miniconda3/envs/bia_genai/lib/python3.11/site-packages (from pydantic->agno) (0.4.0)\n",
      "Requirement already satisfied: charset-normalizer<4,>=2 in /Users/niyantarana/miniconda3/envs/bia_genai/lib/python3.11/site-packages (from requests<3.0.0,>=2.28.1->google-genai) (3.4.2)\n",
      "Requirement already satisfied: urllib3<3,>=1.21.1 in /Users/niyantarana/miniconda3/envs/bia_genai/lib/python3.11/site-packages (from requests<3.0.0,>=2.28.1->google-genai) (2.4.0)\n",
      "Requirement already satisfied: pyasn1>=0.1.3 in /Users/niyantarana/miniconda3/envs/bia_genai/lib/python3.11/site-packages (from rsa<5,>=3.1.4->google-auth<3.0.0,>=2.14.1->google-genai) (0.6.1)\n",
      "Requirement already satisfied: gitdb<5,>=4.0.1 in /Users/niyantarana/miniconda3/envs/bia_genai/lib/python3.11/site-packages (from gitpython->agno) (4.0.12)\n",
      "Requirement already satisfied: smmap<6,>=3.0.1 in /Users/niyantarana/miniconda3/envs/bia_genai/lib/python3.11/site-packages (from gitdb<5,>=4.0.1->gitpython->agno) (5.0.2)\n",
      "Requirement already satisfied: markdown-it-py>=2.2.0 in /Users/niyantarana/miniconda3/envs/bia_genai/lib/python3.11/site-packages (from rich->agno) (3.0.0)\n",
      "Requirement already satisfied: pygments<3.0.0,>=2.13.0 in /Users/niyantarana/miniconda3/envs/bia_genai/lib/python3.11/site-packages (from rich->agno) (2.19.1)\n",
      "Requirement already satisfied: mdurl~=0.1 in /Users/niyantarana/miniconda3/envs/bia_genai/lib/python3.11/site-packages (from markdown-it-py>=2.2.0->rich->agno) (0.1.2)\n",
      "Requirement already satisfied: shellingham>=1.3.0 in /Users/niyantarana/miniconda3/envs/bia_genai/lib/python3.11/site-packages (from typer->agno) (1.5.4)\n",
      "Note: you may need to restart the kernel to use updated packages.\n"
     ]
    }
   ],
   "source": [
    "pip install agno duckduckgo-search google-genai"
   ]
  },
  {
   "cell_type": "code",
   "execution_count": 2,
   "id": "d817585b",
   "metadata": {},
   "outputs": [],
   "source": [
    "# Imports\n",
    "import os\n",
    "from textwrap import dedent\n",
    "from agno.agent import Agent\n",
    "from agno.models.google import Gemini\n",
    "from agno.team import Team\n",
    "from agno.tools.duckduckgo import DuckDuckGoTools\n",
    "from agno.tools.file import FileTools\n",
    "from pathlib import Path"
   ]
  },
  {
   "cell_type": "code",
   "execution_count": 3,
   "id": "d11fc16c",
   "metadata": {},
   "outputs": [],
   "source": [
    "# Create individual specialized agents\n",
    "writer = Agent(\n",
    "    name=\"Writer\",\n",
    "    role=dedent(\"\"\"\\\n",
    "                You are an experienced digital marketer who specializes in Instagram posts.\n",
    "                You know how to write an engaging, SEO-friendly post.\n",
    "                You know all about wine, cheese, and gourmet foods found in grocery stores.\n",
    "                You are also a wine sommelier who knows how to make recommendations.\n",
    "                \\\n",
    "                \"\"\"),\n",
    "    description=dedent(\"\"\"\\\n",
    "                Write clear, engaging content using a neutral to fun and conversational tone.\n",
    "                Write an Instagram caption about the requested {topic}.\n",
    "                Write a short call to action at the end of the message.\n",
    "                Add 5 hashtags to the caption.\n",
    "                If you encounter a character encoding error, remove the character before sending your response to the Coordinator.\n",
    "                        \\\n",
    "                        \"\"\"),\n",
    "    tools=[DuckDuckGoTools()],\n",
    "    add_name_to_instructions=True,\n",
    "    expected_output=dedent(\"Caption for Instagram about the {topic}.\"),\n",
    "    model=Gemini(id=\"gemini-2.0-flash-lite\", api_key=os.environ.get(\"GEMINI_API_KEY\")),\n",
    "    exponential_backoff=True,\n",
    "    delay_between_retries=2\n",
    ")\n"
   ]
  },
  {
   "cell_type": "code",
   "execution_count": 4,
   "id": "055e8efd",
   "metadata": {},
   "outputs": [],
   "source": [
    "# Illustrator Agent\n",
    "illustrator = Agent(\n",
    "    name=\"Illustrator\",\n",
    "    role=\"You are an illustrator who specializes in pictures of wines, cheeses, and fine foods found in grocery stores.\",\n",
    "    description=dedent(\"\"\"\\\n",
    "                Based on the caption created by Marketer, create a prompt to generate an engaging photo about the requested {topic}.\n",
    "                If you encounter a character encoding error, remove the character before sending your response to the Coordinator.\n",
    "                \\\n",
    "                \"\"\"),\n",
    "    expected_output= \"Prompt to generate a picture.\",\n",
    "    add_name_to_instructions=True,\n",
    "    model=Gemini(id=\"gemini-2.0-flash\", api_key=os.environ.get(\"GEMINI_API_KEY\")),\n",
    "    exponential_backoff=True,\n",
    "    delay_between_retries=2\n",
    ")\n"
   ]
  },
  {
   "cell_type": "code",
   "execution_count": 5,
   "id": "cba4998b",
   "metadata": {},
   "outputs": [],
   "source": [
    "# Create a team with these agents\n",
    "writing_team = Team(\n",
    "    name=\"Instagram Team\",\n",
    "    mode=\"coordinate\",\n",
    "    members=[writer, illustrator],\n",
    "    instructions=dedent(\"\"\"\\\n",
    "                        You are a team of content writers working together to create engaging Instagram posts.\n",
    "                        First, you ask the 'Writer' to create a caption for the requested {topic}.\n",
    "                        Next, you ask the 'Illustrator' to create a prompt to generate an engaging illustration for the requested {topic}.\n",
    "                        Do not use emojis in the caption.\n",
    "                        If you encounter a character encoding error, remove the character before saving the file.\n",
    "                        Use the following template to generate the output:\n",
    "                        - Post\n",
    "                        - Prompt to generate an illustration\n",
    "                        \\\n",
    "                        \"\"\"),\n",
    "    model=Gemini(id=\"gemini-2.0-flash\", api_key=os.environ.get(\"GEMINI_API_KEY\")),\n",
    "    tools=[FileTools(base_dir=Path(\"./output\"))],\n",
    "    expected_output=\"A text named 'post.txt' with the content of the Instagram post and the prompt to generate an picture.\",\n",
    "    share_member_interactions=True,\n",
    "    markdown=True,\n",
    "    monitoring=True\n",
    ")\n"
   ]
  },
  {
   "cell_type": "code",
   "execution_count": 6,
   "id": "14ab345c",
   "metadata": {},
   "outputs": [
    {
     "data": {
      "application/vnd.jupyter.widget-view+json": {
       "model_id": "dc59e4d775364d01b920c6c1bdc02c03",
       "version_major": 2,
       "version_minor": 0
      },
      "text/plain": [
       "Output()"
      ]
     },
     "metadata": {},
     "output_type": "display_data"
    },
    {
     "data": {
      "text/html": [
       "<pre style=\"white-space:pre;overflow-x:auto;line-height:normal;font-family:Menlo,'DejaVu Sans Mono',consolas,'Courier New',monospace\"><span style=\"color: #5fd7ff; text-decoration-color: #5fd7ff\">INFO</span> Saved: output/post.txt                                                                                        \n",
       "</pre>\n"
      ],
      "text/plain": [
       "\u001b[38;5;81mINFO\u001b[0m Saved: output/post.txt                                                                                        \n"
      ]
     },
     "metadata": {},
     "output_type": "display_data"
    },
    {
     "data": {
      "text/html": [
       "<pre style=\"white-space:pre;overflow-x:auto;line-height:normal;font-family:Menlo,'DejaVu Sans Mono',consolas,'Courier New',monospace\"></pre>\n"
      ],
      "text/plain": []
     },
     "metadata": {},
     "output_type": "display_data"
    }
   ],
   "source": [
    "# Prompt\n",
    "prompt = \"Write a post about: Sparkling Water and sugestion of food to accompany.\"\n",
    "\n",
    "# Run the team with a task\n",
    "writing_team.print_response(prompt)"
   ]
  }
 ],
 "metadata": {
  "kernelspec": {
   "display_name": "bia_genai",
   "language": "python",
   "name": "python3"
  },
  "language_info": {
   "codemirror_mode": {
    "name": "ipython",
    "version": 3
   },
   "file_extension": ".py",
   "mimetype": "text/x-python",
   "name": "python",
   "nbconvert_exporter": "python",
   "pygments_lexer": "ipython3",
   "version": "3.11.11"
  }
 },
 "nbformat": 4,
 "nbformat_minor": 5
}
